{
  "nbformat": 4,
  "nbformat_minor": 0,
  "metadata": {
    "colab": {
      "provenance": []
    },
    "kernelspec": {
      "name": "python3",
      "display_name": "Python 3"
    },
    "language_info": {
      "name": "python"
    }
  },
  "cells": [
    {
      "cell_type": "markdown",
      "source": [
        "# Programming Language\n",
        "\n",
        "It is a medium to communicate with machine.\n",
        "\n",
        "We have different types of programming language(python,java,c,c++,javascript).\n",
        "\n",
        "We need to follow some grammer rules(syntax)."
      ],
      "metadata": {
        "id": "CUgweAcYePcO"
      }
    },
    {
      "cell_type": "markdown",
      "source": [
        "# What is python and why python?\n",
        "\n",
        "Python is an interpreted(line by line) programming language."
      ],
      "metadata": {
        "id": "-9ZXnmKefVLr"
      }
    },
    {
      "cell_type": "markdown",
      "source": [
        "Python is a case sensitive language."
      ],
      "metadata": {
        "id": "tTPwijycgg4R"
      }
    },
    {
      "cell_type": "markdown",
      "source": [
        "Python is easy to understand and beginner friendly language.It is very similar to english."
      ],
      "metadata": {
        "id": "cgVCIc3-hJQ8"
      }
    },
    {
      "cell_type": "markdown",
      "source": [
        "Python is having large numbers of libraries."
      ],
      "metadata": {
        "id": "ypaJe7ZkiBIA"
      }
    },
    {
      "cell_type": "markdown",
      "source": [
        "# Where we can use Python\n",
        "\n",
        "Data Science:Scipy,Sklearn,numpy,pandas\n",
        "\n",
        "Data Visualisation:Matplotlib,Seaborn\n",
        "\n",
        "Web Deveopmen:Django,Falsk\n",
        "\n",
        "Game Development:Pygame\n",
        "\n",
        "Machine learning and AI:Tenserflow,keras"
      ],
      "metadata": {
        "id": "vZUVLbCkjKG5"
      }
    },
    {
      "cell_type": "code",
      "source": [
        "print(\"Hello world\")    #I am printing hello wold"
      ],
      "metadata": {
        "colab": {
          "base_uri": "https://localhost:8080/"
        },
        "id": "h_CkfHghiFBC",
        "outputId": "c0538843-ad00-465d-ce87-ec50274f91a3"
      },
      "execution_count": null,
      "outputs": [
        {
          "output_type": "stream",
          "name": "stdout",
          "text": [
            "Hello world\n"
          ]
        }
      ]
    },
    {
      "cell_type": "markdown",
      "source": [
        "# Comments"
      ],
      "metadata": {
        "id": "cioOYWb1kEZF"
      }
    },
    {
      "cell_type": "code",
      "source": [
        "#This is a single line comment\n",
        "'''\n",
        "This is a multiple line comment\n",
        "Thsis is secong line\n",
        "This is thirld line\n",
        "'''"
      ],
      "metadata": {
        "colab": {
          "base_uri": "https://localhost:8080/",
          "height": 35
        },
        "id": "zUBEOf6fj-oI",
        "outputId": "152c66d9-673c-4805-9117-4df7bf6a6812"
      },
      "execution_count": null,
      "outputs": [
        {
          "output_type": "execute_result",
          "data": {
            "text/plain": [
              "'\\nThis is a multiple line comment\\nThsis is secong line\\nThis is thirld line\\n'"
            ],
            "application/vnd.google.colaboratory.intrinsic+json": {
              "type": "string"
            }
          },
          "metadata": {},
          "execution_count": 6
        }
      ]
    },
    {
      "cell_type": "markdown",
      "source": [
        "# Variable\n",
        "\n",
        "It is a container that stores different types of data."
      ],
      "metadata": {
        "id": "FZEEof0dmJqi"
      }
    },
    {
      "cell_type": "code",
      "source": [
        "number=10\n",
        "print(number)  #To print the varaible value we pass varaible name to our print statement"
      ],
      "metadata": {
        "colab": {
          "base_uri": "https://localhost:8080/"
        },
        "id": "FP2o6eWClSVC",
        "outputId": "dd54c8a8-0265-4387-b5dc-04c08b22d410"
      },
      "execution_count": null,
      "outputs": [
        {
          "output_type": "stream",
          "name": "stdout",
          "text": [
            "10\n"
          ]
        }
      ]
    },
    {
      "cell_type": "markdown",
      "source": [
        "# Rules to write the name of the variable\n",
        "\n",
        "1.Variables are case sensitive"
      ],
      "metadata": {
        "id": "m1m3aLZ6n0p4"
      }
    },
    {
      "cell_type": "code",
      "source": [
        "name=\"Amit\"\n",
        "print(name)\n",
        "\n",
        "Name=\"Kavia\"\n",
        "print(Name)"
      ],
      "metadata": {
        "colab": {
          "base_uri": "https://localhost:8080/"
        },
        "id": "v8EJRm1EnBRK",
        "outputId": "efb424cc-366e-4db1-a863-7b179d821536"
      },
      "execution_count": null,
      "outputs": [
        {
          "output_type": "stream",
          "name": "stdout",
          "text": [
            "Amit\n",
            "Kavia\n"
          ]
        }
      ]
    },
    {
      "cell_type": "markdown",
      "source": [
        "2.Keywords are not used as a varaible name."
      ],
      "metadata": {
        "id": "-85gOLChokqc"
      }
    },
    {
      "cell_type": "code",
      "source": [
        "if=\"Amit\"\n",
        "print(if)"
      ],
      "metadata": {
        "colab": {
          "base_uri": "https://localhost:8080/",
          "height": 106
        },
        "id": "6IkpSWZ_oLoV",
        "outputId": "ff49de83-6e5e-4d96-b9c2-71cea514dadf"
      },
      "execution_count": null,
      "outputs": [
        {
          "output_type": "error",
          "ename": "SyntaxError",
          "evalue": "invalid syntax (<ipython-input-12-b010ae753594>, line 1)",
          "traceback": [
            "\u001b[0;36m  File \u001b[0;32m\"<ipython-input-12-b010ae753594>\"\u001b[0;36m, line \u001b[0;32m1\u001b[0m\n\u001b[0;31m    if=\"Amit\"\u001b[0m\n\u001b[0m      ^\u001b[0m\n\u001b[0;31mSyntaxError\u001b[0m\u001b[0;31m:\u001b[0m invalid syntax\n"
          ]
        }
      ]
    },
    {
      "cell_type": "code",
      "source": [],
      "metadata": {
        "id": "_dGraXf7o1gU"
      },
      "execution_count": null,
      "outputs": []
    }
  ]
}