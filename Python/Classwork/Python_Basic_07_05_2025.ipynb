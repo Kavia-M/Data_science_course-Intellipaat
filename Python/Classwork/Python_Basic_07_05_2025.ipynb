{
  "nbformat": 4,
  "nbformat_minor": 0,
  "metadata": {
    "colab": {
      "provenance": []
    },
    "kernelspec": {
      "name": "python3",
      "display_name": "Python 3"
    },
    "language_info": {
      "name": "python"
    }
  },
  "cells": [
    {
      "cell_type": "markdown",
      "source": [
        "# Programming Language\n",
        "\n",
        "It is a medium to communicate with machine.\n",
        "\n",
        "We have different types of programming language(python,java,c,c++,javascript).\n",
        "\n",
        "We need to follow some grammer rules(syntax)."
      ],
      "metadata": {
        "id": "CUgweAcYePcO"
      }
    },
    {
      "cell_type": "markdown",
      "source": [
        "# What is python and why python?\n",
        "\n",
        "Python is an interpreted(line by line) programming language."
      ],
      "metadata": {
        "id": "-9ZXnmKefVLr"
      }
    },
    {
      "cell_type": "markdown",
      "source": [
        "Python is a case sensitive language."
      ],
      "metadata": {
        "id": "tTPwijycgg4R"
      }
    },
    {
      "cell_type": "markdown",
      "source": [
        "Python is easy to understand and beginner friendly language.It is very similar to english."
      ],
      "metadata": {
        "id": "cgVCIc3-hJQ8"
      }
    },
    {
      "cell_type": "markdown",
      "source": [
        "Python is having large numbers of libraries."
      ],
      "metadata": {
        "id": "ypaJe7ZkiBIA"
      }
    },
    {
      "cell_type": "markdown",
      "source": [
        "# Where we can use Python\n",
        "\n",
        "Data Science:Scipy,Sklearn,numpy,pandas\n",
        "\n",
        "Data Visualisation:Matplotlib,Seaborn\n",
        "\n",
        "Web Deveopmen:Django,Falsk\n",
        "\n",
        "Game Development:Pygame\n",
        "\n",
        "Machine learning and AI:Tenserflow,keras"
      ],
      "metadata": {
        "id": "vZUVLbCkjKG5"
      }
    },
    {
      "cell_type": "code",
      "source": [
        "print(\"Hello world\")    #I am printing hello wold"
      ],
      "metadata": {
        "colab": {
          "base_uri": "https://localhost:8080/"
        },
        "id": "h_CkfHghiFBC",
        "outputId": "c0538843-ad00-465d-ce87-ec50274f91a3"
      },
      "execution_count": null,
      "outputs": [
        {
          "output_type": "stream",
          "name": "stdout",
          "text": [
            "Hello world\n"
          ]
        }
      ]
    },
    {
      "cell_type": "markdown",
      "source": [
        "# Comments"
      ],
      "metadata": {
        "id": "cioOYWb1kEZF"
      }
    },
    {
      "cell_type": "code",
      "source": [
        "#This is a single line comment\n",
        "'''\n",
        "This is a multiple line comment\n",
        "Thsis is secong line\n",
        "This is thirld line\n",
        "'''"
      ],
      "metadata": {
        "colab": {
          "base_uri": "https://localhost:8080/",
          "height": 35
        },
        "id": "zUBEOf6fj-oI",
        "outputId": "152c66d9-673c-4805-9117-4df7bf6a6812"
      },
      "execution_count": null,
      "outputs": [
        {
          "output_type": "execute_result",
          "data": {
            "text/plain": [
              "'\\nThis is a multiple line comment\\nThsis is secong line\\nThis is thirld line\\n'"
            ],
            "application/vnd.google.colaboratory.intrinsic+json": {
              "type": "string"
            }
          },
          "metadata": {},
          "execution_count": 6
        }
      ]
    },
    {
      "cell_type": "markdown",
      "source": [
        "# Variable\n",
        "\n",
        "It is a container that stores different types of data."
      ],
      "metadata": {
        "id": "FZEEof0dmJqi"
      }
    },
    {
      "cell_type": "code",
      "source": [
        "number=10\n",
        "print(number)  #To print the varaible value we pass varaible name to our print statement"
      ],
      "metadata": {
        "colab": {
          "base_uri": "https://localhost:8080/"
        },
        "id": "FP2o6eWClSVC",
        "outputId": "dd54c8a8-0265-4387-b5dc-04c08b22d410"
      },
      "execution_count": null,
      "outputs": [
        {
          "output_type": "stream",
          "name": "stdout",
          "text": [
            "10\n"
          ]
        }
      ]
    },
    {
      "cell_type": "markdown",
      "source": [
        "# Rules to write the name of the variable\n",
        "\n",
        "1.Variables are case sensitive"
      ],
      "metadata": {
        "id": "m1m3aLZ6n0p4"
      }
    },
    {
      "cell_type": "code",
      "source": [
        "name=\"if\"\n",
        "print(name)\n",
        "\n",
        "Name=\"Kavia\"\n",
        "print(Name)"
      ],
      "metadata": {
        "colab": {
          "base_uri": "https://localhost:8080/"
        },
        "id": "v8EJRm1EnBRK",
        "outputId": "9de0a8d6-084d-4423-a245-0069c288c6d9"
      },
      "execution_count": null,
      "outputs": [
        {
          "output_type": "stream",
          "name": "stdout",
          "text": [
            "if\n",
            "Kavia\n"
          ]
        }
      ]
    },
    {
      "cell_type": "markdown",
      "source": [
        "2.Keywords are not used as a varaible name."
      ],
      "metadata": {
        "id": "-85gOLChokqc"
      }
    },
    {
      "cell_type": "code",
      "source": [
        "if=\"Amit\"\n",
        "print(if)"
      ],
      "metadata": {
        "colab": {
          "base_uri": "https://localhost:8080/",
          "height": 106
        },
        "id": "6IkpSWZ_oLoV",
        "outputId": "ff49de83-6e5e-4d96-b9c2-71cea514dadf"
      },
      "execution_count": null,
      "outputs": [
        {
          "output_type": "error",
          "ename": "SyntaxError",
          "evalue": "invalid syntax (<ipython-input-12-b010ae753594>, line 1)",
          "traceback": [
            "\u001b[0;36m  File \u001b[0;32m\"<ipython-input-12-b010ae753594>\"\u001b[0;36m, line \u001b[0;32m1\u001b[0m\n\u001b[0;31m    if=\"Amit\"\u001b[0m\n\u001b[0m      ^\u001b[0m\n\u001b[0;31mSyntaxError\u001b[0m\u001b[0;31m:\u001b[0m invalid syntax\n"
          ]
        }
      ]
    },
    {
      "cell_type": "markdown",
      "source": [
        "3.You cannot start a varaible name with a number but can end with a number."
      ],
      "metadata": {
        "id": "EYY1APUJZZO-"
      }
    },
    {
      "cell_type": "code",
      "source": [
        "name2=\"Vikesh\"\n",
        "print(name2)"
      ],
      "metadata": {
        "id": "_dGraXf7o1gU",
        "colab": {
          "base_uri": "https://localhost:8080/"
        },
        "outputId": "bc49d18a-ced9-4f08-cd32-6a726316b118"
      },
      "execution_count": null,
      "outputs": [
        {
          "output_type": "stream",
          "name": "stdout",
          "text": [
            "Vikesh\n"
          ]
        }
      ]
    },
    {
      "cell_type": "markdown",
      "source": [
        "4.We cannot use symbol or give whitespace between multi word variable except underscore."
      ],
      "metadata": {
        "id": "kzJ10qMxbIxc"
      }
    },
    {
      "cell_type": "code",
      "source": [
        "sentence=\"Today we are going to learn python\"\n",
        "print(sentence)"
      ],
      "metadata": {
        "colab": {
          "base_uri": "https://localhost:8080/"
        },
        "id": "2Qx7nn7Laf8i",
        "outputId": "f354f348-0f4c-4de3-fa79-77e5d2b853e0"
      },
      "execution_count": null,
      "outputs": [
        {
          "output_type": "stream",
          "name": "stdout",
          "text": [
            "Today we are going to learn python\n"
          ]
        }
      ]
    },
    {
      "cell_type": "markdown",
      "source": [
        "# Data Types\n",
        "\n",
        "1.Numeric Data\n",
        "\n",
        "2.Text Data\n",
        "\n",
        "3.Boolean Data"
      ],
      "metadata": {
        "id": "lymgTLW5cDO7"
      }
    },
    {
      "cell_type": "markdown",
      "source": [
        "#1. Numeric Data Types"
      ],
      "metadata": {
        "id": "UXQqBHD7c07L"
      }
    },
    {
      "cell_type": "code",
      "source": [
        "#integer (int)-positive and negative number including 0\n",
        "num=10\n",
        "print(num)\n",
        "print(type(num))\n",
        "\n",
        "num2=-10\n",
        "print(num2)\n",
        "print(type(num2))\n",
        "\n",
        "#type()-> Gives you the datatype of a varaible"
      ],
      "metadata": {
        "colab": {
          "base_uri": "https://localhost:8080/"
        },
        "id": "Jk1kBaKhbbGy",
        "outputId": "624c2463-68d6-4020-efc5-d35f3c2c4011"
      },
      "execution_count": null,
      "outputs": [
        {
          "output_type": "stream",
          "name": "stdout",
          "text": [
            "10\n",
            "<class 'int'>\n",
            "-10\n",
            "<class 'int'>\n"
          ]
        }
      ]
    },
    {
      "cell_type": "code",
      "source": [
        "#float-positive and negative decimal number\n",
        "num=10.5\n",
        "print(type(num))"
      ],
      "metadata": {
        "colab": {
          "base_uri": "https://localhost:8080/"
        },
        "id": "6Pj1eerndTyw",
        "outputId": "280be9bd-fe74-46c0-f8b7-fd6f1599bd37"
      },
      "execution_count": null,
      "outputs": [
        {
          "output_type": "stream",
          "name": "stdout",
          "text": [
            "<class 'float'>\n"
          ]
        }
      ]
    },
    {
      "cell_type": "markdown",
      "source": [
        "#2.Text Data type\n",
        "\n",
        "String\n",
        "\n",
        "To write our string we use ' ' or \" \"."
      ],
      "metadata": {
        "id": "11d2BxZveEWh"
      }
    },
    {
      "cell_type": "code",
      "source": [
        "name='Praveen'\n",
        "print(name)\n",
        "print(type(name))"
      ],
      "metadata": {
        "colab": {
          "base_uri": "https://localhost:8080/"
        },
        "id": "nVsxqwYHd4gk",
        "outputId": "8d814dff-d9ce-4fe6-876c-1397246d5b34"
      },
      "execution_count": null,
      "outputs": [
        {
          "output_type": "stream",
          "name": "stdout",
          "text": [
            "Praveen\n",
            "<class 'str'>\n"
          ]
        }
      ]
    },
    {
      "cell_type": "markdown",
      "source": [
        "#3.Boolean Data Type\n",
        "\n",
        "True and False\n",
        "\n",
        "**note:T and F should be in Capital letters**"
      ],
      "metadata": {
        "id": "rFQlnqXiemxz"
      }
    },
    {
      "cell_type": "code",
      "source": [
        "a=True\n",
        "print(type(a))"
      ],
      "metadata": {
        "colab": {
          "base_uri": "https://localhost:8080/"
        },
        "id": "42npPyc5ee8B",
        "outputId": "2e025c8d-7097-4531-dc29-b2866664271a"
      },
      "execution_count": null,
      "outputs": [
        {
          "output_type": "stream",
          "name": "stdout",
          "text": [
            "<class 'bool'>\n"
          ]
        }
      ]
    },
    {
      "cell_type": "markdown",
      "source": [
        "# Type Casting\n",
        "\n",
        "To change a data from one datatype to another datatype ."
      ],
      "metadata": {
        "id": "OcA-L31XfHjP"
      }
    },
    {
      "cell_type": "code",
      "source": [
        "num=23\n",
        "print(type(num))\n",
        "\n",
        "num=float(num)\n",
        "print(type(num))\n",
        "\n",
        "num=str(num)\n",
        "print(type(num))"
      ],
      "metadata": {
        "colab": {
          "base_uri": "https://localhost:8080/"
        },
        "id": "o3pc_SQUfALg",
        "outputId": "c46a06b0-1419-4782-faeb-d22845d166ff"
      },
      "execution_count": null,
      "outputs": [
        {
          "output_type": "stream",
          "name": "stdout",
          "text": [
            "<class 'int'>\n",
            "<class 'float'>\n",
            "<class 'str'>\n"
          ]
        }
      ]
    },
    {
      "cell_type": "code",
      "source": [
        "x=True\n",
        "x=int(True)\n",
        "print(type(x))"
      ],
      "metadata": {
        "colab": {
          "base_uri": "https://localhost:8080/"
        },
        "id": "mskFfoqCffAr",
        "outputId": "fadd0567-93e7-4efb-e45f-3399dd3a3f9f"
      },
      "execution_count": null,
      "outputs": [
        {
          "output_type": "stream",
          "name": "stdout",
          "text": [
            "<class 'int'>\n"
          ]
        }
      ]
    },
    {
      "cell_type": "code",
      "source": [
        "num=77.99\n",
        "print(type(num))\n",
        "print(num)\n",
        "num=float(num)\n",
        "print(type(num))\n",
        "print(num)"
      ],
      "metadata": {
        "colab": {
          "base_uri": "https://localhost:8080/"
        },
        "id": "uM0txP94hAyB",
        "outputId": "98f51a93-2aaf-4d65-ff79-893c341b24eb"
      },
      "execution_count": null,
      "outputs": [
        {
          "output_type": "stream",
          "name": "stdout",
          "text": [
            "<class 'float'>\n",
            "77.99\n",
            "<class 'float'>\n",
            "77.99\n"
          ]
        }
      ]
    },
    {
      "cell_type": "code",
      "source": [
        "tata=10.5\n",
        "\n",
        "print(type(tata))\n",
        "\n",
        "tata = int(tata)\n",
        "\n",
        "print(tata)\n",
        "print(type(tata))"
      ],
      "metadata": {
        "colab": {
          "base_uri": "https://localhost:8080/"
        },
        "id": "W_UXkmxpinYP",
        "outputId": "fcc00d41-6155-4530-e84f-759665fc7cc0"
      },
      "execution_count": null,
      "outputs": [
        {
          "output_type": "stream",
          "name": "stdout",
          "text": [
            "<class 'float'>\n",
            "10\n",
            "<class 'int'>\n"
          ]
        }
      ]
    },
    {
      "cell_type": "code",
      "source": [
        "name=\"Alex\"\n",
        "print(type(name))  # here I am getting the correct\n",
        "                               data type in output\n",
        "name=int(name)\n",
        "print (type(name))"
      ],
      "metadata": {
        "colab": {
          "base_uri": "https://localhost:8080/",
          "height": 106
        },
        "id": "zDwQnFm-nfHe",
        "outputId": "a65dd80a-835f-44f2-ebb3-f0fdd1ce2bcb"
      },
      "execution_count": null,
      "outputs": [
        {
          "output_type": "error",
          "ename": "IndentationError",
          "evalue": "unexpected indent (<ipython-input-36-ba2b29086a8c>, line 3)",
          "traceback": [
            "\u001b[0;36m  File \u001b[0;32m\"<ipython-input-36-ba2b29086a8c>\"\u001b[0;36m, line \u001b[0;32m3\u001b[0m\n\u001b[0;31m    data type in output\u001b[0m\n\u001b[0m    ^\u001b[0m\n\u001b[0;31mIndentationError\u001b[0m\u001b[0;31m:\u001b[0m unexpected indent\n"
          ]
        }
      ]
    },
    {
      "cell_type": "markdown",
      "source": [
        "**note:Text values cannot be converted to numeric datatype**"
      ],
      "metadata": {
        "id": "soKvdQJ2nl2z"
      }
    },
    {
      "cell_type": "markdown",
      "source": [
        "# Operators\n",
        "\n",
        "The symbol that specify which task we need to perform"
      ],
      "metadata": {
        "id": "5elmL4R9iIJu"
      }
    },
    {
      "cell_type": "markdown",
      "source": [
        "#1.Arithmetic Operator\n",
        "\n",
        "Any mathematical calculation"
      ],
      "metadata": {
        "id": "aospALNii-dx"
      }
    },
    {
      "cell_type": "code",
      "source": [
        "x=5\n",
        "y=2\n",
        "#addition(+)-\n",
        "print(x+y)\n",
        "\n",
        "#subtraction(-)-\n",
        "print(x-y)\n",
        "\n",
        "#multiplication(*)-\n",
        "print(x*y)\n",
        "\n",
        "#division(/)-\n",
        "print(x/y)\n",
        "\n",
        "#modulus(%)-Gives you the remainder\n",
        "print(x%y)\n",
        "\n",
        "#floor division(//)-Gives the integer value only\n",
        "print(x//y)\n",
        "\n",
        "#Exponential(power **)-\n",
        "print(x**y)"
      ],
      "metadata": {
        "colab": {
          "base_uri": "https://localhost:8080/"
        },
        "id": "20deBJ0EhRRA",
        "outputId": "71431c42-1da4-4c77-e886-2fef9b54087c"
      },
      "execution_count": null,
      "outputs": [
        {
          "output_type": "stream",
          "name": "stdout",
          "text": [
            "7\n",
            "3\n",
            "10\n",
            "2.5\n",
            "1\n",
            "2\n",
            "25\n"
          ]
        }
      ]
    },
    {
      "cell_type": "markdown",
      "source": [
        "#2.Comparision Operator"
      ],
      "metadata": {
        "id": "D5PQ4v_Bk7x9"
      }
    },
    {
      "cell_type": "code",
      "source": [
        "x=22\n",
        "y=22\n",
        "\n",
        "#greater than(>):\n",
        "print(x>y)\n",
        "\n",
        "#less than(<):\n",
        "print(x<y)\n",
        "\n",
        "#greater than equals to(>=):\n",
        "print(x>=y)\n",
        "\n",
        "#less than equals to(<=):\n",
        "print(x<=y)\n",
        "\n",
        "#equals equals tO(==):\n",
        "print(x==y)\n",
        "\n",
        "#not equals to(!=):\n",
        "print(x!=y)"
      ],
      "metadata": {
        "colab": {
          "base_uri": "https://localhost:8080/"
        },
        "id": "kV7OsOjOjSmT",
        "outputId": "bde1d17f-9400-4dc5-bdcd-016d56d44211"
      },
      "execution_count": null,
      "outputs": [
        {
          "output_type": "stream",
          "name": "stdout",
          "text": [
            "False\n",
            "False\n",
            "True\n",
            "True\n",
            "True\n",
            "False\n"
          ]
        }
      ]
    },
    {
      "cell_type": "markdown",
      "source": [
        "#3.Assignment Operator"
      ],
      "metadata": {
        "id": "vo9F9GVIp3Mk"
      }
    },
    {
      "cell_type": "code",
      "source": [
        "#(=)-Assigns a value to a variable\n",
        "x=10\n",
        "print(x)\n",
        "\n",
        "#(+=)-increments the value\n",
        "x+=5    #x=x+5\n",
        "print(x)\n",
        "\n",
        "#(-=)-decremnts the value\n",
        "x-=10   #x=x-10\n",
        "print(x)\n",
        "\n",
        "#(*=)\n",
        "x*=5    #x=x*5\n",
        "print(x)\n",
        "\n",
        "#(/=)  (//=)"
      ],
      "metadata": {
        "colab": {
          "base_uri": "https://localhost:8080/"
        },
        "id": "ATQEoc4boC2D",
        "outputId": "68fd3a1e-c4fa-450e-f047-4c60fed8816c"
      },
      "execution_count": null,
      "outputs": [
        {
          "output_type": "stream",
          "name": "stdout",
          "text": [
            "10\n",
            "15\n",
            "5\n",
            "25\n"
          ]
        }
      ]
    },
    {
      "cell_type": "markdown",
      "source": [
        "#4.Logical Operator\n",
        "\n",
        "keywords: and,or, not"
      ],
      "metadata": {
        "id": "3Bf-bqmyrSCF"
      }
    },
    {
      "cell_type": "code",
      "source": [
        "#and-If both statements are true then only we get the true output.\n",
        "x=23\n",
        "y=12\n",
        "print(x>y and y>x)"
      ],
      "metadata": {
        "colab": {
          "base_uri": "https://localhost:8080/"
        },
        "id": "excgy0qnqEny",
        "outputId": "186d1875-4c1b-4874-d31b-c8e6c988fae0"
      },
      "execution_count": null,
      "outputs": [
        {
          "output_type": "stream",
          "name": "stdout",
          "text": [
            "False\n"
          ]
        }
      ]
    },
    {
      "cell_type": "code",
      "source": [
        "#or-If any one statement will be true then we get the true output\n",
        "print(x>y or y>x)"
      ],
      "metadata": {
        "colab": {
          "base_uri": "https://localhost:8080/"
        },
        "id": "FYEfpzBir4NK",
        "outputId": "c9fc5089-b7fd-4f55-84f2-91a91f596ab0"
      },
      "execution_count": null,
      "outputs": [
        {
          "output_type": "stream",
          "name": "stdout",
          "text": [
            "True\n"
          ]
        }
      ]
    },
    {
      "cell_type": "code",
      "source": [
        "#not-Gives you opposite value\n",
        "#x=True\n",
        "#print(not x)\n",
        "\n",
        "x=10\n",
        "print(not x)"
      ],
      "metadata": {
        "colab": {
          "base_uri": "https://localhost:8080/"
        },
        "id": "kUdtzjFOsLpE",
        "outputId": "b5be9944-8fcd-4afc-dab8-6735ecd3ed98"
      },
      "execution_count": null,
      "outputs": [
        {
          "output_type": "stream",
          "name": "stdout",
          "text": [
            "False\n"
          ]
        }
      ]
    },
    {
      "cell_type": "markdown",
      "source": [
        "#5.Membership Operator\n",
        "\n",
        "keywords:in, not in"
      ],
      "metadata": {
        "id": "pfQEK5xftqoi"
      }
    },
    {
      "cell_type": "code",
      "source": [
        "fruits=[\"apple\",\"mango\",\"kiwi\",\"pineapple\"]\n",
        "print(\"apple\" in fruits)\n",
        "print(\"pineapple\" not in fruits)"
      ],
      "metadata": {
        "colab": {
          "base_uri": "https://localhost:8080/"
        },
        "id": "TxOJ935JsWSU",
        "outputId": "0ccd51b1-2ded-4431-ca99-ffc151e91fce"
      },
      "execution_count": null,
      "outputs": [
        {
          "output_type": "stream",
          "name": "stdout",
          "text": [
            "True\n",
            "False\n"
          ]
        }
      ]
    },
    {
      "cell_type": "markdown",
      "source": [],
      "metadata": {
        "id": "E0h9E29huu_3"
      }
    },
    {
      "cell_type": "markdown",
      "source": [
        "# Sequential Data Types\n",
        "\n",
        "List tuple Strings\n",
        "\n",
        "#Unsequential Data Types\n",
        "\n",
        "Dictionary Sets"
      ],
      "metadata": {
        "id": "7pu33ChUu31w"
      }
    },
    {
      "cell_type": "markdown",
      "source": [
        "# Dictionary-\n",
        "\n",
        "Key value Pairs\n",
        "\n",
        "We use {} to create our dictionary"
      ],
      "metadata": {
        "id": "2HLyZfT-vXfR"
      }
    },
    {
      "cell_type": "code",
      "source": [
        "#print the details of a person (name,age,address,job)\n",
        "person={\"name\":\"Sweta\",\"age\":23,\"address\":\"Banglore\",\"job\":\"Data Science\"}\n",
        "print(person)"
      ],
      "metadata": {
        "colab": {
          "base_uri": "https://localhost:8080/"
        },
        "id": "4myBsDrbuVAG",
        "outputId": "f234c91a-11c2-4cd9-dd9e-1eb6726a3b1e"
      },
      "execution_count": null,
      "outputs": [
        {
          "output_type": "stream",
          "name": "stdout",
          "text": [
            "{'name': 'Sweta', 'age': 23, 'address': 'Banglore', 'job': 'Data Science'}\n"
          ]
        }
      ]
    },
    {
      "cell_type": "code",
      "source": [
        "#By using the key you can acess the value\n",
        "print(person[\"age\"])\n",
        "print(len(person))"
      ],
      "metadata": {
        "colab": {
          "base_uri": "https://localhost:8080/"
        },
        "id": "QVUOg0eKwDpN",
        "outputId": "287710e5-b4af-41fc-c7c6-e63160201041"
      },
      "execution_count": null,
      "outputs": [
        {
          "output_type": "stream",
          "name": "stdout",
          "text": [
            "23\n",
            "4\n"
          ]
        }
      ]
    },
    {
      "cell_type": "code",
      "source": [],
      "metadata": {
        "id": "N0oCh1pJx5y7"
      },
      "execution_count": null,
      "outputs": []
    }
  ]
}