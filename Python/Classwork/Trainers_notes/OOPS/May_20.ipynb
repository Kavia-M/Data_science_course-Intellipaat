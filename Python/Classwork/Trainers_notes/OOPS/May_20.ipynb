{
  "nbformat": 4,
  "nbformat_minor": 0,
  "metadata": {
    "colab": {
      "provenance": [],
      "include_colab_link": true
    },
    "kernelspec": {
      "name": "python3",
      "display_name": "Python 3"
    },
    "language_info": {
      "name": "python"
    }
  },
  "cells": [
    {
      "cell_type": "markdown",
      "metadata": {
        "id": "view-in-github",
        "colab_type": "text"
      },
      "source": [
        "<a href=\"https://colab.research.google.com/github/Kavia-M/Data_science_course-Intellipaat/blob/main/Python/Classwork/Trainers_notes/OOPS/May_20.ipynb\" target=\"_parent\"><img src=\"https://colab.research.google.com/assets/colab-badge.svg\" alt=\"Open In Colab\"/></a>"
      ]
    },
    {
      "cell_type": "markdown",
      "source": [
        "# **There are two types of languages are there**:\n",
        "\n",
        "\n",
        "\n",
        "1.  **Procedural Programming** :  Programming that follows a sequence of instructions that operates on data . it focuses on functions. it always top-down approach. data is shared globally\n",
        "\n",
        "2.  ** Object oriented programming**: it is a bottom up approach.. it is based on the concept of classes and object which contain data , methods or attributes\n",
        ". data is highly securable\n",
        "\n"
      ],
      "metadata": {
        "id": "Cds9TyzXYqrV"
      }
    },
    {
      "cell_type": "code",
      "execution_count": null,
      "metadata": {
        "colab": {
          "base_uri": "https://localhost:8080/"
        },
        "id": "AmynLP0yYIlh",
        "outputId": "b46d4132-7f7d-45ef-c201-63814d9a474b"
      },
      "outputs": [
        {
          "output_type": "execute_result",
          "data": {
            "text/plain": [
              "30"
            ]
          },
          "metadata": {},
          "execution_count": 1
        }
      ],
      "source": [
        "a= 10\n",
        "b = 20\n",
        "print(a+b)"
      ]
    },
    {
      "cell_type": "code",
      "source": [
        "class sample:\n",
        "  def display(self):\n",
        "    print(\"hello\")\n",
        "\n",
        "obj = sample()\n",
        "obj.display()"
      ],
      "metadata": {
        "id": "wcms62DpaEhb"
      },
      "execution_count": null,
      "outputs": []
    },
    {
      "cell_type": "markdown",
      "source": [
        "what is oops:\n",
        "it is a object oriented programming language that uses classes and objects\n",
        "\n",
        "\n",
        "classes ⁉ a class is like a blueprint for creating objects\n",
        "\n",
        "objects: an object is an actual item made using that class"
      ],
      "metadata": {
        "id": "YtNjoqnxbMAw"
      }
    },
    {
      "cell_type": "code",
      "source": [
        "class class_name:\n",
        "  function, attriute , properties\n",
        "\n",
        "\n",
        "\n",
        "obj_name = class_name()\n",
        "obj_name.func()\n"
      ],
      "metadata": {
        "id": "WgojL1QNcT7W"
      },
      "execution_count": null,
      "outputs": []
    },
    {
      "cell_type": "code",
      "source": [
        "class sample:\n",
        "  def display(self):\n",
        "    print(\"Hello\")\n",
        "obj=sample()\n",
        "obj.display()"
      ],
      "metadata": {
        "colab": {
          "base_uri": "https://localhost:8080/"
        },
        "id": "ZCy8BqP7fOUc",
        "outputId": "09254d54-11cb-47af-a2f5-42433fc054b6"
      },
      "execution_count": null,
      "outputs": [
        {
          "output_type": "stream",
          "name": "stdout",
          "text": [
            "Hello\n"
          ]
        }
      ]
    },
    {
      "cell_type": "code",
      "source": [
        "class Car:\n",
        "  def color(self):\n",
        "    print(\"my car is of black color\")\n",
        "    print(\"my car is benz\")\n",
        "\n",
        "  def speed(self):\n",
        "    print(\"my speed of the car is 100km/hr\")\n",
        "\n",
        "\n",
        "\n",
        "obj = Car()\n",
        "obj.color()\n",
        "obj.speed()\n"
      ],
      "metadata": {
        "colab": {
          "base_uri": "https://localhost:8080/"
        },
        "id": "DnzJaTOYePMc",
        "outputId": "8669f5cc-4bdc-4430-906b-c6ba7bf64d9a"
      },
      "execution_count": null,
      "outputs": [
        {
          "output_type": "stream",
          "name": "stdout",
          "text": [
            "my car is of black color\n",
            "my car is benz\n",
            "my speed of the car is 100km/hr\n"
          ]
        }
      ]
    },
    {
      "cell_type": "code",
      "source": [
        "# how to define parameter inside the class\n",
        "\n",
        "class Car:\n",
        "  def display(self, color, brand):\n",
        "    self.color = color\n",
        "    self.brand = brand\n",
        "    print(self.color, self.brand)\n",
        "\n",
        "  def display1(self, add):\n",
        "    print(self.color , self.brand, self.add)\n",
        "\n",
        "  def output(self):\n",
        "    print(self.color, self.brand)\n",
        "\n",
        "\n",
        "obj = Car()\n",
        "obj.display(\"feufeuf\",'gfegfe')\n",
        "obj.display1()\n"
      ],
      "metadata": {
        "colab": {
          "base_uri": "https://localhost:8080/",
          "height": 218
        },
        "id": "Jsf9E-W3h1xn",
        "outputId": "4cdc829f-aa6d-4197-94ad-b312b75d9a15"
      },
      "execution_count": null,
      "outputs": [
        {
          "output_type": "stream",
          "name": "stdout",
          "text": [
            "feufeuf gfegfe\n"
          ]
        },
        {
          "output_type": "error",
          "ename": "TypeError",
          "evalue": "Car.display1() missing 1 required positional argument: 'add'",
          "traceback": [
            "\u001b[0;31m---------------------------------------------------------------------------\u001b[0m",
            "\u001b[0;31mTypeError\u001b[0m                                 Traceback (most recent call last)",
            "\u001b[0;32m<ipython-input-37-5939c8ab8580>\u001b[0m in \u001b[0;36m<cell line: 0>\u001b[0;34m()\u001b[0m\n\u001b[1;32m     16\u001b[0m \u001b[0mobj\u001b[0m \u001b[0;34m=\u001b[0m \u001b[0mCar\u001b[0m\u001b[0;34m(\u001b[0m\u001b[0;34m)\u001b[0m\u001b[0;34m\u001b[0m\u001b[0;34m\u001b[0m\u001b[0m\n\u001b[1;32m     17\u001b[0m \u001b[0mobj\u001b[0m\u001b[0;34m.\u001b[0m\u001b[0mdisplay\u001b[0m\u001b[0;34m(\u001b[0m\u001b[0;34m\"feufeuf\"\u001b[0m\u001b[0;34m,\u001b[0m\u001b[0;34m'gfegfe'\u001b[0m\u001b[0;34m)\u001b[0m\u001b[0;34m\u001b[0m\u001b[0;34m\u001b[0m\u001b[0m\n\u001b[0;32m---> 18\u001b[0;31m \u001b[0mobj\u001b[0m\u001b[0;34m.\u001b[0m\u001b[0mdisplay1\u001b[0m\u001b[0;34m(\u001b[0m\u001b[0;34m)\u001b[0m\u001b[0;34m\u001b[0m\u001b[0;34m\u001b[0m\u001b[0m\n\u001b[0m\u001b[1;32m     19\u001b[0m \u001b[0mobj\u001b[0m\u001b[0;34m.\u001b[0m\u001b[0moutput\u001b[0m\u001b[0;34m(\u001b[0m\u001b[0;34m)\u001b[0m\u001b[0;34m\u001b[0m\u001b[0;34m\u001b[0m\u001b[0m\n",
            "\u001b[0;31mTypeError\u001b[0m: Car.display1() missing 1 required positional argument: 'add'"
          ]
        }
      ]
    },
    {
      "cell_type": "code",
      "source": [
        "# constructor : it is a special method in a class that is automatically when object is created\n",
        "# it is used to intialize value  __init__\n",
        "\n",
        "class student:\n",
        "  def __init__(self,name, age , roll_no, add):\n",
        "    self.name = name\n",
        "    self.age = age\n",
        "    self.roll_no = roll_no\n",
        "    self.add = add\n",
        "\n",
        "\n",
        "  def display(self):\n",
        "    print(f\"my name is {self.name}, age is {self.age} and {self.roll_no} roll no, add {self.add}\")\n",
        "\n",
        "\n",
        "\n",
        "\n",
        "\n",
        "obj = student(\"priya\", 21, 123444, \"22\")\n",
        "obj.display()\n"
      ],
      "metadata": {
        "colab": {
          "base_uri": "https://localhost:8080/"
        },
        "id": "6snZhYRwmqJQ",
        "outputId": "b21d867f-da7f-49c4-d6b7-1413a14a4fb0"
      },
      "execution_count": null,
      "outputs": [
        {
          "output_type": "stream",
          "name": "stdout",
          "text": [
            "my name is priya, age is 21 and 123444 roll no, add 22\n"
          ]
        }
      ]
    },
    {
      "cell_type": "code",
      "source": [
        "class Car:\n",
        "  def display(self, color, brand):\n",
        "    self.color = color\n",
        "    self.brand = brand\n",
        "\n",
        "  def display1(self):\n",
        "    print(self.color, self.brand)\n",
        "obj = Car()\n",
        "obj.display(\"black\", \"mercedes\")\n",
        "obj.display1()"
      ],
      "metadata": {
        "colab": {
          "base_uri": "https://localhost:8080/"
        },
        "id": "m6Lr0sEXpFi-",
        "outputId": "de1f5634-b8d1-4969-caea-ad4176c62894"
      },
      "execution_count": null,
      "outputs": [
        {
          "output_type": "stream",
          "name": "stdout",
          "text": [
            "black mercedes\n"
          ]
        }
      ]
    },
    {
      "cell_type": "code",
      "source": [
        "class car:\n",
        "  def display(self, color, brand):\n",
        "    self.color=color\n",
        "    self.brand=brand\n",
        "    print(self.color, self.brand)\n",
        "  def display1(self):\n",
        "    print(self.color, self.brand)\n",
        "  def output(self):\n",
        "      print(self.color, self.brand)\n",
        "obj=car()\n",
        "obj.display(\"black\", \"mercedes\")"
      ],
      "metadata": {
        "colab": {
          "base_uri": "https://localhost:8080/"
        },
        "id": "s9M6fIUQpcQE",
        "outputId": "51ae3ea6-5e68-4aba-c3ed-ebd688c540ae"
      },
      "execution_count": null,
      "outputs": [
        {
          "output_type": "stream",
          "name": "stdout",
          "text": [
            "black mercedes\n"
          ]
        }
      ]
    },
    {
      "cell_type": "code",
      "source": [
        "# demostrate the concept of classes and object using showcase the book class\n",
        "# which has title , author , pages attributes , and display those using function\n",
        "# create two diffrent for different authors"
      ],
      "metadata": {
        "id": "zFXDVoHRqYKI"
      },
      "execution_count": null,
      "outputs": []
    },
    {
      "cell_type": "code",
      "source": [
        "# create an empoyee class that has employee name , salary and department attibutes\n",
        "# give a constant to them . display out the details of all\n",
        "# using objects\n",
        "\n"
      ],
      "metadata": {
        "id": "1SkJgg_MqYFd"
      },
      "execution_count": null,
      "outputs": []
    },
    {
      "cell_type": "code",
      "source": [
        "class employee:\n",
        "  def __init__(self):\n",
        "    self.employe_name =\"krishna\"\n",
        "    self.salary = \"90,000\"\n",
        "    self.department = \"technical\"\n",
        "\n",
        "  def display(self):\n",
        "    print(f\" my name is {self.employe_name} and i get {self.salary}package in {self.department} \")\n",
        "\n",
        "obj = employee()\n",
        "obj.display()\n",
        "\n",
        "# contact attributes\n"
      ],
      "metadata": {
        "colab": {
          "base_uri": "https://localhost:8080/"
        },
        "id": "owb3U6_3seCv",
        "outputId": "4dff77d0-1ad6-46b2-a7c0-b20994563ad2"
      },
      "execution_count": null,
      "outputs": [
        {
          "output_type": "stream",
          "name": "stdout",
          "text": [
            " my name is krishna and i get 90,000package in technical \n"
          ]
        }
      ]
    },
    {
      "cell_type": "code",
      "source": [
        "class Book:\n",
        "    def __init__(self, title, author, pages):\n",
        "        self.title = title\n",
        "        self.author = author\n",
        "        self.pages = pages\n",
        "    def display_info(self):\n",
        "        print(f\"Title: {self.title}\")\n",
        "        print(f\"Author: {self.author}\")\n",
        "        print(f\"Pages: {self.pages}\")\n",
        "book1 = Book(\"Python Fundamentals\", \"John Doe\", 320)\n",
        "book2 = Book(\"Advanced Python Concepts\", \"Jane Smith\", 450)\n",
        "book1.display_info()\n",
        "print()\n",
        "book2.display_info()"
      ],
      "metadata": {
        "colab": {
          "base_uri": "https://localhost:8080/"
        },
        "id": "ckQJ4rk9qYCx",
        "outputId": "f54da982-49d8-4cd9-db13-ba3341c424e4"
      },
      "execution_count": null,
      "outputs": [
        {
          "output_type": "stream",
          "name": "stdout",
          "text": [
            "Title: Python Fundamentals\n",
            "Author: John Doe\n",
            "Pages: 320\n",
            "\n",
            "Title: Advanced Python Concepts\n",
            "Author: Jane Smith\n",
            "Pages: 450\n"
          ]
        }
      ]
    },
    {
      "cell_type": "code",
      "source": [
        "class Book:\n",
        "  def __init__(self, title, author, pages):\n",
        "    self.title = title\n",
        "    self.author = author\n",
        "    self.pages = pages\n",
        "\n",
        "  def display(self):\n",
        "    print(f\"Title : {self.title}\", f\"Author : {self.author}\", f\"Pages : {self.pages}\", end = \"\\n\")\n",
        "book1 = Book(\"Title1\", \"Author1\", [1,2,3,4,5])\n",
        "book1.display()\n",
        "book2 = Book(\"Title2\", \"Author2\", [1,2,3,4,5,6,7,8,9,10])\n",
        "book2.display()"
      ],
      "metadata": {
        "colab": {
          "base_uri": "https://localhost:8080/"
        },
        "id": "uPEWDsphqYAK",
        "outputId": "97f7205a-50e5-4efc-c6a4-92bee16e5af1"
      },
      "execution_count": null,
      "outputs": [
        {
          "output_type": "stream",
          "name": "stdout",
          "text": [
            "Title : Title1 Author : Author1 Pages : [1, 2, 3, 4, 5]\n",
            "Title : Title2 Author : Author2 Pages : [1, 2, 3, 4, 5, 6, 7, 8, 9, 10]\n"
          ]
        }
      ]
    },
    {
      "cell_type": "code",
      "source": [
        "class employee:\n",
        "    def __init__(self,empName,empSalary,empDepartment):\n",
        "        self.empName = empName\n",
        "        self.empSalary = empSalary\n",
        "        self.empDepartment = empDepartment\n",
        "\n",
        "    def empDetails(self):\n",
        "        print(f\"The EmpName is {self.empName}, and the EmpSalary is {self.empSalary}, and the EmpDept is {self.empDepartment}\")\n",
        "\n",
        "obj = employee(\"Manimaran D\",20000,\"IT\")\n",
        "obj.empDetails()"
      ],
      "metadata": {
        "colab": {
          "base_uri": "https://localhost:8080/"
        },
        "id": "7HWGnDHAqX9D",
        "outputId": "8ee748ea-3f1c-440b-bb23-3ef917a413d0"
      },
      "execution_count": null,
      "outputs": [
        {
          "output_type": "stream",
          "name": "stdout",
          "text": [
            "The EmpName is Manimaran D, and the EmpSalary is 20000, and the EmpDept is IT\n"
          ]
        }
      ]
    },
    {
      "cell_type": "code",
      "source": [
        "class Book:\n",
        "    def __init__(self, title, author, pages):\n",
        "        self.title = title\n",
        "        self.author = author\n",
        "        self.pages = pages\n",
        "    def display_info(self):\n",
        "        print(f\"Title: {self.title} Author: {self.author} Pages: {self.pages}\")\n",
        "book1 = Book(\"Robinson Crusoe\", \"Daniel Defoe\", 281)\n",
        "book2 = Book(\"abc\", \"George Orwell\", 328)\n",
        "print(\"Book 1 Information:\")\n",
        "book1.display_info()\n",
        "print(\"\\nBook 2 Information:\")\n",
        "book2.display_info()"
      ],
      "metadata": {
        "colab": {
          "base_uri": "https://localhost:8080/"
        },
        "id": "oWmSUWnxthPf",
        "outputId": "8eb3c7c9-22fc-4d5c-c768-0e8693488e46"
      },
      "execution_count": null,
      "outputs": [
        {
          "output_type": "stream",
          "name": "stdout",
          "text": [
            "Book 1 Information:\n",
            "Title: Robinson Crusoe Author: Daniel Defoe Pages: 281\n",
            "\n",
            "Book 2 Information:\n",
            "Title: abc Author: George Orwell Pages: 328\n"
          ]
        }
      ]
    },
    {
      "cell_type": "code",
      "source": [
        "class employee:\n",
        "  def __init__(self):\n",
        "    self.name=\"akshat\"\n",
        "    self.salary=\"50,000\"\n",
        "    self.department=\"engineering\"\n",
        "  def display(self):\n",
        "    print(f\"the name of the employee is {self.name}\")\n",
        "    print(f\"the salary of the employee is {self.salary}\")\n",
        "    print(f\"the department of the employee is {self.department}\")\n",
        "obj = employee()\n",
        "obj.display()"
      ],
      "metadata": {
        "colab": {
          "base_uri": "https://localhost:8080/"
        },
        "id": "PbI3FNretpGN",
        "outputId": "8c228db6-5346-468e-cc9d-968dd62c13f1"
      },
      "execution_count": null,
      "outputs": [
        {
          "output_type": "stream",
          "name": "stdout",
          "text": [
            "the name of the employee is akshat\n",
            "the salary of the employee is 50,000\n",
            "the department of the employee is engineering\n"
          ]
        }
      ]
    },
    {
      "cell_type": "code",
      "source": [
        "class employee:\n",
        "  def __init__(self, name =\"priya\", salary =\"50.000\", department=\"it\"):\n",
        "    self.name= name\n",
        "    self.salary = salary\n",
        "    self.department = department\n",
        "\n",
        "  def display(self):\n",
        "    print(self.name, self.salary, self.department)\n",
        "\n",
        "\n",
        "obj1 = employee()\n",
        "#obj1.display()\n",
        "\n",
        "obj2 = employee( \"krish\",\"60,000\", \"sales\")\n",
        "obj2.display()"
      ],
      "metadata": {
        "colab": {
          "base_uri": "https://localhost:8080/"
        },
        "id": "LZBOlAU4uSt8",
        "outputId": "58e4a0cc-caff-4bb4-c9ec-33286c158ee2"
      },
      "execution_count": null,
      "outputs": [
        {
          "output_type": "stream",
          "name": "stdout",
          "text": [
            "krish 60,000 sales\n"
          ]
        }
      ]
    },
    {
      "cell_type": "code",
      "source": [
        "class employee:\n",
        "  def __init__(self, name=\"akshaj\", salary=\"89999\", department=\"it\"):\n",
        "    self.name = name\n",
        "    self.salary = salary\n",
        "    self.department = department\n",
        "    #print(\"An employee named {} with salary {} in {} department was created\".format(self.name, self.salary, self.department))\n",
        "\n",
        "  def display(self):\n",
        "      print(\"Name: {}, Salary: {}, Department: {}\".format(self.name, self.salary, self.department))\n",
        "\n",
        "\n",
        "#obj = employee(\"John Doe\", 50000, \"IT\")\n",
        "obj = employee()\n",
        "obj.display()"
      ],
      "metadata": {
        "colab": {
          "base_uri": "https://localhost:8080/"
        },
        "id": "A8mgPM8uvimt",
        "outputId": "ee50ee47-83af-4f0b-bf61-b947b56e53b4"
      },
      "execution_count": null,
      "outputs": [
        {
          "output_type": "stream",
          "name": "stdout",
          "text": [
            "Name: akshaj, Salary: 89999, Department: it\n"
          ]
        }
      ]
    }
  ]
}