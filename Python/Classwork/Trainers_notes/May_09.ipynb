{
  "nbformat": 4,
  "nbformat_minor": 0,
  "metadata": {
    "colab": {
      "provenance": [],
      "include_colab_link": true
    },
    "kernelspec": {
      "name": "python3",
      "display_name": "Python 3"
    },
    "language_info": {
      "name": "python"
    }
  },
  "cells": [
    {
      "cell_type": "markdown",
      "metadata": {
        "id": "view-in-github",
        "colab_type": "text"
      },
      "source": [
        "<a href=\"https://colab.research.google.com/github/Kavia-M/Data_science_course-Intellipaat/blob/main/Python/Classwork/Trainers_notes/May_09.ipynb\" target=\"_parent\"><img src=\"https://colab.research.google.com/assets/colab-badge.svg\" alt=\"Open In Colab\"/></a>"
      ]
    },
    {
      "cell_type": "markdown",
      "source": [
        "# Programming Language\n",
        "\n",
        "It is a medium to communicate with machine.\n",
        "\n",
        "We have different types of programming language(python,java,c,c++,javascript).\n",
        "\n",
        "We need to follow some grammer rules(syntax)."
      ],
      "metadata": {
        "id": "CUgweAcYePcO"
      }
    },
    {
      "cell_type": "markdown",
      "source": [
        "# What is python and why python?\n",
        "\n",
        "Python is an interpreted(line by line) programming language."
      ],
      "metadata": {
        "id": "-9ZXnmKefVLr"
      }
    },
    {
      "cell_type": "markdown",
      "source": [
        "Python is a case sensitive language."
      ],
      "metadata": {
        "id": "tTPwijycgg4R"
      }
    },
    {
      "cell_type": "markdown",
      "source": [
        "Python is easy to understand and beginner friendly language.It is very similar to english."
      ],
      "metadata": {
        "id": "cgVCIc3-hJQ8"
      }
    },
    {
      "cell_type": "markdown",
      "source": [
        "Python is having large numbers of libraries."
      ],
      "metadata": {
        "id": "ypaJe7ZkiBIA"
      }
    },
    {
      "cell_type": "markdown",
      "source": [
        "# Where we can use Python\n",
        "\n",
        "Data Science:Scipy,Sklearn,numpy,pandas\n",
        "\n",
        "Data Visualisation:Matplotlib,Seaborn\n",
        "\n",
        "Web Deveopmen:Django,Falsk\n",
        "\n",
        "Game Development:Pygame\n",
        "\n",
        "Machine learning and AI:Tenserflow,keras"
      ],
      "metadata": {
        "id": "vZUVLbCkjKG5"
      }
    },
    {
      "cell_type": "code",
      "source": [
        "print(\"Hello world\")    #I am printing hello wold"
      ],
      "metadata": {
        "colab": {
          "base_uri": "https://localhost:8080/"
        },
        "id": "h_CkfHghiFBC",
        "outputId": "c0538843-ad00-465d-ce87-ec50274f91a3"
      },
      "execution_count": null,
      "outputs": [
        {
          "output_type": "stream",
          "name": "stdout",
          "text": [
            "Hello world\n"
          ]
        }
      ]
    },
    {
      "cell_type": "markdown",
      "source": [
        "# Comments"
      ],
      "metadata": {
        "id": "cioOYWb1kEZF"
      }
    },
    {
      "cell_type": "code",
      "source": [
        "#This is a single line comment\n",
        "'''\n",
        "This is a multiple line comment\n",
        "Thsis is secong line\n",
        "This is thirld line\n",
        "'''"
      ],
      "metadata": {
        "colab": {
          "base_uri": "https://localhost:8080/",
          "height": 35
        },
        "id": "zUBEOf6fj-oI",
        "outputId": "152c66d9-673c-4805-9117-4df7bf6a6812"
      },
      "execution_count": null,
      "outputs": [
        {
          "output_type": "execute_result",
          "data": {
            "text/plain": [
              "'\\nThis is a multiple line comment\\nThsis is secong line\\nThis is thirld line\\n'"
            ],
            "application/vnd.google.colaboratory.intrinsic+json": {
              "type": "string"
            }
          },
          "metadata": {},
          "execution_count": 6
        }
      ]
    },
    {
      "cell_type": "markdown",
      "source": [
        "# Variable\n",
        "\n",
        "It is a container that stores different types of data."
      ],
      "metadata": {
        "id": "FZEEof0dmJqi"
      }
    },
    {
      "cell_type": "code",
      "source": [
        "number=10\n",
        "print(number)  #To print the varaible value we pass varaible name to our print statement"
      ],
      "metadata": {
        "colab": {
          "base_uri": "https://localhost:8080/"
        },
        "id": "FP2o6eWClSVC",
        "outputId": "dd54c8a8-0265-4387-b5dc-04c08b22d410"
      },
      "execution_count": null,
      "outputs": [
        {
          "output_type": "stream",
          "name": "stdout",
          "text": [
            "10\n"
          ]
        }
      ]
    },
    {
      "cell_type": "markdown",
      "source": [
        "# Rules to write the name of the variable\n",
        "\n",
        "1.Variables are case sensitive"
      ],
      "metadata": {
        "id": "m1m3aLZ6n0p4"
      }
    },
    {
      "cell_type": "code",
      "source": [
        "name=\"if\"\n",
        "print(name)\n",
        "\n",
        "Name=\"Kavia\"\n",
        "print(Name)"
      ],
      "metadata": {
        "colab": {
          "base_uri": "https://localhost:8080/"
        },
        "id": "v8EJRm1EnBRK",
        "outputId": "9de0a8d6-084d-4423-a245-0069c288c6d9"
      },
      "execution_count": null,
      "outputs": [
        {
          "output_type": "stream",
          "name": "stdout",
          "text": [
            "if\n",
            "Kavia\n"
          ]
        }
      ]
    },
    {
      "cell_type": "markdown",
      "source": [
        "2.Keywords are not used as a varaible name."
      ],
      "metadata": {
        "id": "-85gOLChokqc"
      }
    },
    {
      "cell_type": "code",
      "source": [
        "if=\"Amit\"\n",
        "print(if)"
      ],
      "metadata": {
        "colab": {
          "base_uri": "https://localhost:8080/",
          "height": 106
        },
        "id": "6IkpSWZ_oLoV",
        "outputId": "ff49de83-6e5e-4d96-b9c2-71cea514dadf"
      },
      "execution_count": null,
      "outputs": [
        {
          "output_type": "error",
          "ename": "SyntaxError",
          "evalue": "invalid syntax (<ipython-input-12-b010ae753594>, line 1)",
          "traceback": [
            "\u001b[0;36m  File \u001b[0;32m\"<ipython-input-12-b010ae753594>\"\u001b[0;36m, line \u001b[0;32m1\u001b[0m\n\u001b[0;31m    if=\"Amit\"\u001b[0m\n\u001b[0m      ^\u001b[0m\n\u001b[0;31mSyntaxError\u001b[0m\u001b[0;31m:\u001b[0m invalid syntax\n"
          ]
        }
      ]
    },
    {
      "cell_type": "markdown",
      "source": [
        "3.You cannot start a varaible name with a number but can end with a number."
      ],
      "metadata": {
        "id": "EYY1APUJZZO-"
      }
    },
    {
      "cell_type": "code",
      "source": [
        "name2=\"Vikesh\"\n",
        "print(name2)"
      ],
      "metadata": {
        "id": "_dGraXf7o1gU",
        "colab": {
          "base_uri": "https://localhost:8080/"
        },
        "outputId": "bc49d18a-ced9-4f08-cd32-6a726316b118"
      },
      "execution_count": null,
      "outputs": [
        {
          "output_type": "stream",
          "name": "stdout",
          "text": [
            "Vikesh\n"
          ]
        }
      ]
    },
    {
      "cell_type": "markdown",
      "source": [
        "4.We cannot use symbol or give whitespace between multi word variable except underscore."
      ],
      "metadata": {
        "id": "kzJ10qMxbIxc"
      }
    },
    {
      "cell_type": "code",
      "source": [
        "sentence=\"Today we are going to learn python\"\n",
        "print(sentence)"
      ],
      "metadata": {
        "colab": {
          "base_uri": "https://localhost:8080/"
        },
        "id": "2Qx7nn7Laf8i",
        "outputId": "f354f348-0f4c-4de3-fa79-77e5d2b853e0"
      },
      "execution_count": null,
      "outputs": [
        {
          "output_type": "stream",
          "name": "stdout",
          "text": [
            "Today we are going to learn python\n"
          ]
        }
      ]
    },
    {
      "cell_type": "markdown",
      "source": [
        "# Data Types\n",
        "\n",
        "1.Numeric Data\n",
        "\n",
        "2.Text Data\n",
        "\n",
        "3.Boolean Data"
      ],
      "metadata": {
        "id": "lymgTLW5cDO7"
      }
    },
    {
      "cell_type": "markdown",
      "source": [
        "#1. Numeric Data Types"
      ],
      "metadata": {
        "id": "UXQqBHD7c07L"
      }
    },
    {
      "cell_type": "code",
      "source": [
        "#integer (int)-positive and negative number including 0\n",
        "num=10\n",
        "print(num)\n",
        "print(type(num))\n",
        "\n",
        "num2=-10\n",
        "print(num2)\n",
        "print(type(num2))\n",
        "\n",
        "#type()-> Gives you the datatype of a varaible"
      ],
      "metadata": {
        "colab": {
          "base_uri": "https://localhost:8080/"
        },
        "id": "Jk1kBaKhbbGy",
        "outputId": "624c2463-68d6-4020-efc5-d35f3c2c4011"
      },
      "execution_count": null,
      "outputs": [
        {
          "output_type": "stream",
          "name": "stdout",
          "text": [
            "10\n",
            "<class 'int'>\n",
            "-10\n",
            "<class 'int'>\n"
          ]
        }
      ]
    },
    {
      "cell_type": "code",
      "source": [
        "#float-positive and negative decimal number\n",
        "num=10.5\n",
        "print(type(num))"
      ],
      "metadata": {
        "colab": {
          "base_uri": "https://localhost:8080/"
        },
        "id": "6Pj1eerndTyw",
        "outputId": "280be9bd-fe74-46c0-f8b7-fd6f1599bd37"
      },
      "execution_count": null,
      "outputs": [
        {
          "output_type": "stream",
          "name": "stdout",
          "text": [
            "<class 'float'>\n"
          ]
        }
      ]
    },
    {
      "cell_type": "markdown",
      "source": [
        "#2.Text Data type\n",
        "\n",
        "String\n",
        "\n",
        "To write our string we use ' ' or \" \"."
      ],
      "metadata": {
        "id": "11d2BxZveEWh"
      }
    },
    {
      "cell_type": "code",
      "source": [
        "name='Praveen'\n",
        "print(name)\n",
        "print(type(name))"
      ],
      "metadata": {
        "colab": {
          "base_uri": "https://localhost:8080/"
        },
        "id": "nVsxqwYHd4gk",
        "outputId": "8d814dff-d9ce-4fe6-876c-1397246d5b34"
      },
      "execution_count": null,
      "outputs": [
        {
          "output_type": "stream",
          "name": "stdout",
          "text": [
            "Praveen\n",
            "<class 'str'>\n"
          ]
        }
      ]
    },
    {
      "cell_type": "markdown",
      "source": [
        "#3.Boolean Data Type\n",
        "\n",
        "True and False\n",
        "\n",
        "**note:T and F should be in Capital letters**"
      ],
      "metadata": {
        "id": "rFQlnqXiemxz"
      }
    },
    {
      "cell_type": "code",
      "source": [
        "a=True\n",
        "print(type(a))"
      ],
      "metadata": {
        "colab": {
          "base_uri": "https://localhost:8080/"
        },
        "id": "42npPyc5ee8B",
        "outputId": "2e025c8d-7097-4531-dc29-b2866664271a"
      },
      "execution_count": null,
      "outputs": [
        {
          "output_type": "stream",
          "name": "stdout",
          "text": [
            "<class 'bool'>\n"
          ]
        }
      ]
    },
    {
      "cell_type": "markdown",
      "source": [
        "# Type Casting\n",
        "\n",
        "To change a data from one datatype to another datatype ."
      ],
      "metadata": {
        "id": "OcA-L31XfHjP"
      }
    },
    {
      "cell_type": "code",
      "source": [
        "num=23\n",
        "print(type(num))\n",
        "\n",
        "num=float(num)\n",
        "print(type(num))\n",
        "\n",
        "num=str(num)\n",
        "print(type(num))"
      ],
      "metadata": {
        "colab": {
          "base_uri": "https://localhost:8080/"
        },
        "id": "o3pc_SQUfALg",
        "outputId": "c46a06b0-1419-4782-faeb-d22845d166ff"
      },
      "execution_count": null,
      "outputs": [
        {
          "output_type": "stream",
          "name": "stdout",
          "text": [
            "<class 'int'>\n",
            "<class 'float'>\n",
            "<class 'str'>\n"
          ]
        }
      ]
    },
    {
      "cell_type": "code",
      "source": [
        "x=True\n",
        "x=int(True)\n",
        "print(type(x))"
      ],
      "metadata": {
        "colab": {
          "base_uri": "https://localhost:8080/"
        },
        "id": "mskFfoqCffAr",
        "outputId": "fadd0567-93e7-4efb-e45f-3399dd3a3f9f"
      },
      "execution_count": null,
      "outputs": [
        {
          "output_type": "stream",
          "name": "stdout",
          "text": [
            "<class 'int'>\n"
          ]
        }
      ]
    },
    {
      "cell_type": "code",
      "source": [
        "num=77.99\n",
        "print(type(num))\n",
        "print(num)\n",
        "num=float(num)\n",
        "print(type(num))\n",
        "print(num)"
      ],
      "metadata": {
        "colab": {
          "base_uri": "https://localhost:8080/"
        },
        "id": "uM0txP94hAyB",
        "outputId": "98f51a93-2aaf-4d65-ff79-893c341b24eb"
      },
      "execution_count": null,
      "outputs": [
        {
          "output_type": "stream",
          "name": "stdout",
          "text": [
            "<class 'float'>\n",
            "77.99\n",
            "<class 'float'>\n",
            "77.99\n"
          ]
        }
      ]
    },
    {
      "cell_type": "code",
      "source": [
        "tata=10.5\n",
        "\n",
        "print(type(tata))\n",
        "\n",
        "tata = int(tata)\n",
        "\n",
        "print(tata)\n",
        "print(type(tata))"
      ],
      "metadata": {
        "colab": {
          "base_uri": "https://localhost:8080/"
        },
        "id": "W_UXkmxpinYP",
        "outputId": "fcc00d41-6155-4530-e84f-759665fc7cc0"
      },
      "execution_count": null,
      "outputs": [
        {
          "output_type": "stream",
          "name": "stdout",
          "text": [
            "<class 'float'>\n",
            "10\n",
            "<class 'int'>\n"
          ]
        }
      ]
    },
    {
      "cell_type": "code",
      "source": [
        "name=\"Alex\"\n",
        "print(type(name))  # here I am getting the correct\n",
        "                               data type in output\n",
        "name=int(name)\n",
        "print (type(name))"
      ],
      "metadata": {
        "colab": {
          "base_uri": "https://localhost:8080/",
          "height": 106
        },
        "id": "zDwQnFm-nfHe",
        "outputId": "a65dd80a-835f-44f2-ebb3-f0fdd1ce2bcb"
      },
      "execution_count": null,
      "outputs": [
        {
          "output_type": "error",
          "ename": "IndentationError",
          "evalue": "unexpected indent (<ipython-input-36-ba2b29086a8c>, line 3)",
          "traceback": [
            "\u001b[0;36m  File \u001b[0;32m\"<ipython-input-36-ba2b29086a8c>\"\u001b[0;36m, line \u001b[0;32m3\u001b[0m\n\u001b[0;31m    data type in output\u001b[0m\n\u001b[0m    ^\u001b[0m\n\u001b[0;31mIndentationError\u001b[0m\u001b[0;31m:\u001b[0m unexpected indent\n"
          ]
        }
      ]
    },
    {
      "cell_type": "markdown",
      "source": [
        "**note:Text values cannot be converted to numeric datatype**"
      ],
      "metadata": {
        "id": "soKvdQJ2nl2z"
      }
    },
    {
      "cell_type": "markdown",
      "source": [
        "# Operators\n",
        "\n",
        "The symbol that specify which task we need to perform"
      ],
      "metadata": {
        "id": "5elmL4R9iIJu"
      }
    },
    {
      "cell_type": "markdown",
      "source": [
        "#1.Arithmetic Operator\n",
        "\n",
        "Any mathematical calculation"
      ],
      "metadata": {
        "id": "aospALNii-dx"
      }
    },
    {
      "cell_type": "code",
      "source": [
        "x=5\n",
        "y=2\n",
        "#addition(+)-\n",
        "print(x+y)\n",
        "\n",
        "#subtraction(-)-\n",
        "print(x-y)\n",
        "\n",
        "#multiplication(*)-\n",
        "print(x*y)\n",
        "\n",
        "#division(/)-\n",
        "print(x/y)\n",
        "\n",
        "#modulus(%)-Gives you the remainder\n",
        "print(x%y)\n",
        "\n",
        "#floor division(//)-Gives the integer value only\n",
        "print(x//y)\n",
        "\n",
        "#Exponential(power **)-\n",
        "print(x**y)"
      ],
      "metadata": {
        "colab": {
          "base_uri": "https://localhost:8080/"
        },
        "id": "20deBJ0EhRRA",
        "outputId": "71431c42-1da4-4c77-e886-2fef9b54087c"
      },
      "execution_count": null,
      "outputs": [
        {
          "output_type": "stream",
          "name": "stdout",
          "text": [
            "7\n",
            "3\n",
            "10\n",
            "2.5\n",
            "1\n",
            "2\n",
            "25\n"
          ]
        }
      ]
    },
    {
      "cell_type": "markdown",
      "source": [
        "#2.Comparision Operator"
      ],
      "metadata": {
        "id": "D5PQ4v_Bk7x9"
      }
    },
    {
      "cell_type": "code",
      "source": [
        "x=22\n",
        "y=22\n",
        "\n",
        "#greater than(>):\n",
        "print(x>y)\n",
        "\n",
        "#less than(<):\n",
        "print(x<y)\n",
        "\n",
        "#greater than equals to(>=):\n",
        "print(x>=y)\n",
        "\n",
        "#less than equals to(<=):\n",
        "print(x<=y)\n",
        "\n",
        "#equals equals tO(==):\n",
        "print(x==y)\n",
        "\n",
        "#not equals to(!=):\n",
        "print(x!=y)"
      ],
      "metadata": {
        "colab": {
          "base_uri": "https://localhost:8080/"
        },
        "id": "kV7OsOjOjSmT",
        "outputId": "bde1d17f-9400-4dc5-bdcd-016d56d44211"
      },
      "execution_count": null,
      "outputs": [
        {
          "output_type": "stream",
          "name": "stdout",
          "text": [
            "False\n",
            "False\n",
            "True\n",
            "True\n",
            "True\n",
            "False\n"
          ]
        }
      ]
    },
    {
      "cell_type": "markdown",
      "source": [
        "#3.Assignment Operator"
      ],
      "metadata": {
        "id": "vo9F9GVIp3Mk"
      }
    },
    {
      "cell_type": "code",
      "source": [
        "#(=)-Assigns a value to a variable\n",
        "x=10\n",
        "print(x)\n",
        "\n",
        "#(+=)-increments the value\n",
        "x+=5    #x=x+5\n",
        "print(x)\n",
        "\n",
        "#(-=)-decremnts the value\n",
        "x-=10   #x=x-10\n",
        "print(x)\n",
        "\n",
        "#(*=)\n",
        "x*=5    #x=x*5\n",
        "print(x)\n",
        "\n",
        "#(/=)  (//=)"
      ],
      "metadata": {
        "colab": {
          "base_uri": "https://localhost:8080/"
        },
        "id": "ATQEoc4boC2D",
        "outputId": "68fd3a1e-c4fa-450e-f047-4c60fed8816c"
      },
      "execution_count": null,
      "outputs": [
        {
          "output_type": "stream",
          "name": "stdout",
          "text": [
            "10\n",
            "15\n",
            "5\n",
            "25\n"
          ]
        }
      ]
    },
    {
      "cell_type": "markdown",
      "source": [
        "#4.Logical Operator\n",
        "\n",
        "keywords: and,or, not"
      ],
      "metadata": {
        "id": "3Bf-bqmyrSCF"
      }
    },
    {
      "cell_type": "code",
      "source": [
        "#and-If both statements are true then only we get the true output.\n",
        "x=23\n",
        "y=12\n",
        "print(x>y and y>x)"
      ],
      "metadata": {
        "colab": {
          "base_uri": "https://localhost:8080/"
        },
        "id": "excgy0qnqEny",
        "outputId": "186d1875-4c1b-4874-d31b-c8e6c988fae0"
      },
      "execution_count": null,
      "outputs": [
        {
          "output_type": "stream",
          "name": "stdout",
          "text": [
            "False\n"
          ]
        }
      ]
    },
    {
      "cell_type": "code",
      "source": [
        "#or-If any one statement will be true then we get the true output\n",
        "print(x>y or y>x)"
      ],
      "metadata": {
        "colab": {
          "base_uri": "https://localhost:8080/"
        },
        "id": "FYEfpzBir4NK",
        "outputId": "c9fc5089-b7fd-4f55-84f2-91a91f596ab0"
      },
      "execution_count": null,
      "outputs": [
        {
          "output_type": "stream",
          "name": "stdout",
          "text": [
            "True\n"
          ]
        }
      ]
    },
    {
      "cell_type": "code",
      "source": [
        "#not-Gives you opposite value\n",
        "#x=True\n",
        "#print(not x)\n",
        "\n",
        "x=10\n",
        "print(not x)"
      ],
      "metadata": {
        "colab": {
          "base_uri": "https://localhost:8080/"
        },
        "id": "kUdtzjFOsLpE",
        "outputId": "b5be9944-8fcd-4afc-dab8-6735ecd3ed98"
      },
      "execution_count": null,
      "outputs": [
        {
          "output_type": "stream",
          "name": "stdout",
          "text": [
            "False\n"
          ]
        }
      ]
    },
    {
      "cell_type": "markdown",
      "source": [
        "#5.Membership Operator\n",
        "\n",
        "keywords:in, not in"
      ],
      "metadata": {
        "id": "pfQEK5xftqoi"
      }
    },
    {
      "cell_type": "code",
      "source": [
        "fruits=[\"apple\",\"mango\",\"kiwi\",\"pineapple\"]\n",
        "print(\"apple\" in fruits)\n",
        "print(\"pineapple\" not in fruits)"
      ],
      "metadata": {
        "colab": {
          "base_uri": "https://localhost:8080/"
        },
        "id": "TxOJ935JsWSU",
        "outputId": "0ccd51b1-2ded-4431-ca99-ffc151e91fce"
      },
      "execution_count": null,
      "outputs": [
        {
          "output_type": "stream",
          "name": "stdout",
          "text": [
            "True\n",
            "False\n"
          ]
        }
      ]
    },
    {
      "cell_type": "markdown",
      "source": [],
      "metadata": {
        "id": "E0h9E29huu_3"
      }
    },
    {
      "cell_type": "markdown",
      "source": [
        "# Sequential Data Types\n",
        "\n",
        "List tuple Strings\n",
        "\n",
        "#Unsequential Data Types\n",
        "\n",
        "Dictionary Sets"
      ],
      "metadata": {
        "id": "7pu33ChUu31w"
      }
    },
    {
      "cell_type": "markdown",
      "source": [
        "# Dictionary-\n",
        "\n",
        "Key value Pairs\n",
        "\n",
        "We use {} to create our dictionary\n",
        "\n",
        "Mutable"
      ],
      "metadata": {
        "id": "2HLyZfT-vXfR"
      }
    },
    {
      "cell_type": "code",
      "source": [
        "#print the details of a person (name,age,address,job)\n",
        "person={\"name\":\"Sweta\",\"age\":23,\"address\":\"Banglore\",\"job\":\"Data Science\"}\n",
        "print(person)"
      ],
      "metadata": {
        "colab": {
          "base_uri": "https://localhost:8080/"
        },
        "id": "4myBsDrbuVAG",
        "outputId": "8ec6d8a1-8481-4b5d-a8d4-4bb5c0800496"
      },
      "execution_count": null,
      "outputs": [
        {
          "output_type": "stream",
          "name": "stdout",
          "text": [
            "{'name': 'Sweta', 'age': 23, 'address': 'Banglore', 'job': 'Data Science'}\n"
          ]
        }
      ]
    },
    {
      "cell_type": "code",
      "source": [
        "#By using the key you can acess the value\n",
        "print(person[\"age\"])\n",
        "print(len(person))"
      ],
      "metadata": {
        "colab": {
          "base_uri": "https://localhost:8080/"
        },
        "id": "QVUOg0eKwDpN",
        "outputId": "f47cb5c6-550a-493d-fd4c-076b99d413f9"
      },
      "execution_count": null,
      "outputs": [
        {
          "output_type": "stream",
          "name": "stdout",
          "text": [
            "23\n",
            "4\n"
          ]
        }
      ]
    },
    {
      "cell_type": "code",
      "source": [
        "# i want to add salary to my dictionary\n",
        "#to add new key value pair\n",
        "person[\"Salary\"]=50000"
      ],
      "metadata": {
        "id": "N0oCh1pJx5y7"
      },
      "execution_count": null,
      "outputs": []
    },
    {
      "cell_type": "code",
      "source": [
        "person"
      ],
      "metadata": {
        "colab": {
          "base_uri": "https://localhost:8080/"
        },
        "id": "tkjUdxmNjTvW",
        "outputId": "1f6eeaec-1318-4027-a203-5095bdac0912"
      },
      "execution_count": null,
      "outputs": [
        {
          "output_type": "execute_result",
          "data": {
            "text/plain": [
              "{'name': 'Sweta',\n",
              " 'age': 23,\n",
              " 'address': 'Banglore',\n",
              " 'job': 'Data Science',\n",
              " 'Salary': 50000}"
            ]
          },
          "metadata": {},
          "execution_count": 5
        }
      ]
    },
    {
      "cell_type": "code",
      "source": [
        "#keyword-del\n",
        "del person[\"job\"]"
      ],
      "metadata": {
        "id": "xUSDYvU6jYy8"
      },
      "execution_count": null,
      "outputs": []
    },
    {
      "cell_type": "code",
      "source": [],
      "metadata": {
        "id": "UCh53zNFkR58"
      },
      "execution_count": null,
      "outputs": []
    },
    {
      "cell_type": "code",
      "source": [
        "person"
      ],
      "metadata": {
        "colab": {
          "base_uri": "https://localhost:8080/"
        },
        "id": "s73hiyWZjq7L",
        "outputId": "7e323bf1-c125-426b-9f08-8cb871365b99"
      },
      "execution_count": null,
      "outputs": [
        {
          "output_type": "execute_result",
          "data": {
            "text/plain": [
              "{'name': 'Sweta', 'age': 23, 'address': 'Banglore', 'Salary': 50000}"
            ]
          },
          "metadata": {},
          "execution_count": 7
        }
      ]
    },
    {
      "cell_type": "code",
      "source": [
        "person.update({\"job\":\"Data Science\",\"last_name\":\"Kumar\"})"
      ],
      "metadata": {
        "id": "9K7PBZ4BkT7X"
      },
      "execution_count": null,
      "outputs": []
    },
    {
      "cell_type": "code",
      "source": [
        "person"
      ],
      "metadata": {
        "colab": {
          "base_uri": "https://localhost:8080/"
        },
        "id": "DXOKW9nRkT01",
        "outputId": "d97e77df-1157-4fee-eb6e-013d65521b39"
      },
      "execution_count": null,
      "outputs": [
        {
          "output_type": "execute_result",
          "data": {
            "text/plain": [
              "{'name': 'Sweta',\n",
              " 'age': 23,\n",
              " 'address': 'Banglore',\n",
              " 'Salary': 50000,\n",
              " 'job': 'Data Science',\n",
              " 'last_name': 'Kumar'}"
            ]
          },
          "metadata": {},
          "execution_count": 10
        }
      ]
    },
    {
      "cell_type": "code",
      "source": [
        "#Methods in dictionaries\n",
        "#.keys():Give all the keys in dict\n",
        "person.keys()"
      ],
      "metadata": {
        "colab": {
          "base_uri": "https://localhost:8080/"
        },
        "id": "e9Ioqzs6jr3D",
        "outputId": "7c92388a-776a-494c-924b-e8cd6d7b7740"
      },
      "execution_count": null,
      "outputs": [
        {
          "output_type": "execute_result",
          "data": {
            "text/plain": [
              "dict_keys(['name', 'age', 'address', 'Salary', 'job', 'last_name'])"
            ]
          },
          "metadata": {},
          "execution_count": 11
        }
      ]
    },
    {
      "cell_type": "code",
      "source": [
        "#.values():Give all the values in the dict\n",
        "person.values()"
      ],
      "metadata": {
        "colab": {
          "base_uri": "https://localhost:8080/"
        },
        "id": "vJYVIbkBmFMa",
        "outputId": "b9122512-ca95-4ec1-e0c4-5d20cf8d898e"
      },
      "execution_count": null,
      "outputs": [
        {
          "output_type": "execute_result",
          "data": {
            "text/plain": [
              "dict_values(['Sweta', 23, 'Banglore', 50000, 'Data Science', 'Kumar'])"
            ]
          },
          "metadata": {},
          "execution_count": 12
        }
      ]
    },
    {
      "cell_type": "code",
      "source": [
        "#.items():Gives both key value together\n",
        "person.items()"
      ],
      "metadata": {
        "colab": {
          "base_uri": "https://localhost:8080/"
        },
        "id": "_xv1OkGGmQR3",
        "outputId": "a835d0be-f701-4c61-d0ae-0a2ed0bb0584"
      },
      "execution_count": null,
      "outputs": [
        {
          "output_type": "execute_result",
          "data": {
            "text/plain": [
              "dict_items([('name', 'Sweta'), ('age', 23), ('address', 'Banglore'), ('Salary', 50000), ('job', 'Data Science'), ('last_name', 'Kumar')])"
            ]
          },
          "metadata": {},
          "execution_count": 13
        }
      ]
    },
    {
      "cell_type": "markdown",
      "source": [
        "# Mutable:When you can Modified(adding,deleting,updating) the data after creation that is called as mutable.\n",
        "\n",
        "#Immutable:When you can not modidfied the data after creation"
      ],
      "metadata": {
        "id": "KaPFCMLBnDlj"
      }
    },
    {
      "cell_type": "markdown",
      "source": [
        "# Sets\n",
        "\n",
        "It is unorderd unique collection of elemnts.\n",
        "\n",
        "We use {} to create the sets.\n",
        "\n",
        "Mutable."
      ],
      "metadata": {
        "id": "FrjTEY5RpZUh"
      }
    },
    {
      "cell_type": "code",
      "source": [
        "s1={1,3,34,25,23,34,25,78,\"kavia\",34.5}\n",
        "print(s1)"
      ],
      "metadata": {
        "colab": {
          "base_uri": "https://localhost:8080/"
        },
        "id": "TefOVciMmZiR",
        "outputId": "ba02e57f-c016-4d16-b943-f3267cf77dcb"
      },
      "execution_count": null,
      "outputs": [
        {
          "output_type": "stream",
          "name": "stdout",
          "text": [
            "{1, 34, 3, 34.5, 'kavia', 78, 23, 25}\n"
          ]
        }
      ]
    },
    {
      "cell_type": "code",
      "source": [
        "#Method of Sets\n",
        "#.add(element)\n",
        "s1.add(30)"
      ],
      "metadata": {
        "id": "ndb9MmYzqgQ1"
      },
      "execution_count": null,
      "outputs": []
    },
    {
      "cell_type": "code",
      "source": [
        "print(s1)"
      ],
      "metadata": {
        "colab": {
          "base_uri": "https://localhost:8080/"
        },
        "id": "wPihVmm8rNn3",
        "outputId": "45f147f7-3837-4627-d95f-0d36544a31da"
      },
      "execution_count": null,
      "outputs": [
        {
          "output_type": "stream",
          "name": "stdout",
          "text": [
            "{1, 34, 34.5, 'kavia', 78, 23, 25, 30}\n"
          ]
        }
      ]
    },
    {
      "cell_type": "code",
      "source": [
        "#.remove(element)\n",
        "s1.remove(3)"
      ],
      "metadata": {
        "id": "f6KR1E3jrOPi"
      },
      "execution_count": null,
      "outputs": []
    },
    {
      "cell_type": "code",
      "source": [
        "s1"
      ],
      "metadata": {
        "colab": {
          "base_uri": "https://localhost:8080/"
        },
        "id": "kQS_WpQCsS7O",
        "outputId": "efe8d07a-16cb-48f1-dbeb-75b3f790503e"
      },
      "execution_count": null,
      "outputs": [
        {
          "output_type": "execute_result",
          "data": {
            "text/plain": [
              "{1, 23, 25, 30, 34, 34.5, 78, 'kavia'}"
            ]
          },
          "metadata": {},
          "execution_count": 21
        }
      ]
    },
    {
      "cell_type": "code",
      "source": [
        "#.union()-All unique elements present in both sets\n",
        "s1={1,2,3,4}\n",
        "s2={3,4,5,6}\n",
        "s1.union(s2)"
      ],
      "metadata": {
        "colab": {
          "base_uri": "https://localhost:8080/"
        },
        "id": "t_ogydxosTcO",
        "outputId": "014af69a-8aeb-4029-cde7-b05b0010e7fa"
      },
      "execution_count": null,
      "outputs": [
        {
          "output_type": "execute_result",
          "data": {
            "text/plain": [
              "{1, 2, 3, 4, 5, 6}"
            ]
          },
          "metadata": {},
          "execution_count": 23
        }
      ]
    },
    {
      "cell_type": "code",
      "source": [
        "#.intersection()-Gives common element from both the sets\n",
        "s1.intersection(s2)"
      ],
      "metadata": {
        "colab": {
          "base_uri": "https://localhost:8080/"
        },
        "id": "zOMcVHAwtxUM",
        "outputId": "be077c77-2424-49f4-f44e-1845dfdddbf0"
      },
      "execution_count": null,
      "outputs": [
        {
          "output_type": "execute_result",
          "data": {
            "text/plain": [
              "{3, 4}"
            ]
          },
          "metadata": {},
          "execution_count": 24
        }
      ]
    },
    {
      "cell_type": "code",
      "source": [
        "#Issues in sets:\n",
        "#Unordered\n",
        "#Duplicates\n",
        "#Indexing\n",
        "#we cannot acces a particular element"
      ],
      "metadata": {
        "id": "QPjSFNEjuvps"
      },
      "execution_count": null,
      "outputs": []
    },
    {
      "cell_type": "markdown",
      "source": [
        "# List is ordered,allow duplicates,we have indexing in list\n",
        "\n",
        "we use [] to create list.\n",
        "\n",
        "It is also Mutable."
      ],
      "metadata": {
        "id": "nrYqdCbLvkOP"
      }
    },
    {
      "cell_type": "code",
      "source": [
        "li=[23,24,56,\"Apple\",25.8,25,24,30]\n",
        "print(li)"
      ],
      "metadata": {
        "colab": {
          "base_uri": "https://localhost:8080/"
        },
        "id": "NaxHarY-vjp5",
        "outputId": "74d9c605-677b-4e55-9821-617785b0a1eb"
      },
      "execution_count": null,
      "outputs": [
        {
          "output_type": "stream",
          "name": "stdout",
          "text": [
            "[23, 24, 56, 'Apple', 25.8, 25, 24, 30]\n"
          ]
        }
      ]
    },
    {
      "cell_type": "markdown",
      "source": [
        "# Indexing\n",
        "\n",
        "Gives the position of a particular element.\n",
        "\n",
        "Indexing starts from 0.\n",
        "\n",
        "Negative indexing starts from -1."
      ],
      "metadata": {
        "id": "_UWG94fkzNG7"
      }
    },
    {
      "cell_type": "code",
      "source": [
        "li=[10,20,30,40,50]\n",
        "print(li[2])"
      ],
      "metadata": {
        "colab": {
          "base_uri": "https://localhost:8080/"
        },
        "id": "zGL1oCCey1ev",
        "outputId": "432d3224-8a55-48e7-c6e2-7cca20a01e7f"
      },
      "execution_count": null,
      "outputs": [
        {
          "output_type": "stream",
          "name": "stdout",
          "text": [
            "30\n"
          ]
        }
      ]
    },
    {
      "cell_type": "code",
      "source": [
        "li[4]"
      ],
      "metadata": {
        "colab": {
          "base_uri": "https://localhost:8080/"
        },
        "id": "cpCuNrcH0eWE",
        "outputId": "f790e441-a1e3-4d76-ae9d-7d51c3d719df"
      },
      "execution_count": null,
      "outputs": [
        {
          "output_type": "execute_result",
          "data": {
            "text/plain": [
              "50"
            ]
          },
          "metadata": {},
          "execution_count": 27
        }
      ]
    },
    {
      "cell_type": "code",
      "source": [
        "#Negative indexing\n",
        "li[-2]\n",
        "li[-5]"
      ],
      "metadata": {
        "colab": {
          "base_uri": "https://localhost:8080/"
        },
        "id": "FswoyXSP0nEE",
        "outputId": "788ca66b-68ec-45b6-8959-16df13487925"
      },
      "execution_count": null,
      "outputs": [
        {
          "output_type": "execute_result",
          "data": {
            "text/plain": [
              "10"
            ]
          },
          "metadata": {},
          "execution_count": 30
        }
      ]
    },
    {
      "cell_type": "markdown",
      "source": [
        "# Slicing\n",
        "\n",
        "[start:end:step]\n",
        "\n",
        "start will be the index value from where you want to start.\n",
        "\n",
        "end will be +1 to the index value where you want to stop."
      ],
      "metadata": {
        "id": "Fnc1ok652jPb"
      }
    },
    {
      "cell_type": "code",
      "source": [
        "li=[10,20,30,40,50]\n",
        "li[1:4]"
      ],
      "metadata": {
        "colab": {
          "base_uri": "https://localhost:8080/"
        },
        "id": "TFxb1lH82BEU",
        "outputId": "6cac35d9-b02a-4b16-a979-e4db4c596172"
      },
      "execution_count": null,
      "outputs": [
        {
          "output_type": "execute_result",
          "data": {
            "text/plain": [
              "[20, 30, 40]"
            ]
          },
          "metadata": {},
          "execution_count": 31
        }
      ]
    },
    {
      "cell_type": "code",
      "source": [
        "#Negative indexing\n",
        "li[-4:-1]"
      ],
      "metadata": {
        "colab": {
          "base_uri": "https://localhost:8080/"
        },
        "id": "wrueZqj95fCk",
        "outputId": "baf81508-261b-4743-b1c9-9b0adc9a2785"
      },
      "execution_count": null,
      "outputs": [
        {
          "output_type": "execute_result",
          "data": {
            "text/plain": [
              "[20, 30, 40]"
            ]
          },
          "metadata": {},
          "execution_count": 32
        }
      ]
    },
    {
      "cell_type": "code",
      "source": [
        "#To slice values from beginning (we can keep the start index as empty)\n",
        "li[:4]"
      ],
      "metadata": {
        "colab": {
          "base_uri": "https://localhost:8080/"
        },
        "id": "8edTx1f96ONr",
        "outputId": "b1c6601b-9a32-45af-c796-76f0def2cfb6"
      },
      "execution_count": null,
      "outputs": [
        {
          "output_type": "execute_result",
          "data": {
            "text/plain": [
              "[10, 20, 30, 40]"
            ]
          },
          "metadata": {},
          "execution_count": 33
        }
      ]
    },
    {
      "cell_type": "code",
      "source": [
        "#To slice values till the end of the list(we can skip the ending index as empty)\n",
        "li[1:]"
      ],
      "metadata": {
        "colab": {
          "base_uri": "https://localhost:8080/"
        },
        "id": "NH8Pq3MU7SAU",
        "outputId": "24de76c8-b9a0-4525-9270-7178d535ccc7"
      },
      "execution_count": null,
      "outputs": [
        {
          "output_type": "execute_result",
          "data": {
            "text/plain": [
              "[20, 30, 40, 50]"
            ]
          },
          "metadata": {},
          "execution_count": 34
        }
      ]
    },
    {
      "cell_type": "code",
      "source": [
        "#full list\n",
        "li[:]"
      ],
      "metadata": {
        "colab": {
          "base_uri": "https://localhost:8080/"
        },
        "id": "9ciROpSU7p9r",
        "outputId": "e3091635-aac1-456d-8ad8-f2546dc6e454"
      },
      "execution_count": null,
      "outputs": [
        {
          "output_type": "execute_result",
          "data": {
            "text/plain": [
              "[10, 20, 30, 40, 50]"
            ]
          },
          "metadata": {},
          "execution_count": 35
        }
      ]
    },
    {
      "cell_type": "code",
      "source": [
        "li=[1,2,3,4,5,6,7,8,9,10]\n",
        "li[::2]    #it skips one value,by default the step size will be 1."
      ],
      "metadata": {
        "id": "eJ38JMIt73Un",
        "colab": {
          "base_uri": "https://localhost:8080/"
        },
        "outputId": "83d4c885-6be7-4719-b221-9a62e884e6f2"
      },
      "execution_count": null,
      "outputs": [
        {
          "output_type": "execute_result",
          "data": {
            "text/plain": [
              "[1, 3, 5, 7, 9]"
            ]
          },
          "metadata": {},
          "execution_count": 3
        }
      ]
    },
    {
      "cell_type": "code",
      "source": [
        "#if you want to get the even values\n",
        "li=[1,2,3,4,5,6,7,8,9,10]\n",
        "li[1::2]"
      ],
      "metadata": {
        "colab": {
          "base_uri": "https://localhost:8080/"
        },
        "id": "TuxNFcbDvgCe",
        "outputId": "f43d09ab-ea0e-4055-cc6f-558739532003"
      },
      "execution_count": null,
      "outputs": [
        {
          "output_type": "execute_result",
          "data": {
            "text/plain": [
              "[2, 4, 6, 8, 10]"
            ]
          },
          "metadata": {},
          "execution_count": 4
        }
      ]
    },
    {
      "cell_type": "markdown",
      "source": [
        "# Nested List-List inside a list"
      ],
      "metadata": {
        "id": "QRScaDxDxvkw"
      }
    },
    {
      "cell_type": "code",
      "source": [
        "       # 0 1  2  3   4   5        6        7  8 9  10   11\n",
        "my_list=[0,3,25,'q','w','e',['r','t','h'],'q',6,8,True,False]   #list inside a list\n",
        "my_list[5]"
      ],
      "metadata": {
        "colab": {
          "base_uri": "https://localhost:8080/",
          "height": 35
        },
        "id": "-D4urGiFw_Tf",
        "outputId": "4c637f58-ef8e-483c-bb3e-3507d0fb161c"
      },
      "execution_count": null,
      "outputs": [
        {
          "output_type": "execute_result",
          "data": {
            "text/plain": [
              "'e'"
            ],
            "application/vnd.google.colaboratory.intrinsic+json": {
              "type": "string"
            }
          },
          "metadata": {},
          "execution_count": 5
        }
      ]
    },
    {
      "cell_type": "code",
      "source": [
        "my_list[6][1]"
      ],
      "metadata": {
        "colab": {
          "base_uri": "https://localhost:8080/",
          "height": 35
        },
        "id": "TFxglb-YyRui",
        "outputId": "a3405493-3cd6-4d6d-ecda-9a6c652f4d72"
      },
      "execution_count": null,
      "outputs": [
        {
          "output_type": "execute_result",
          "data": {
            "text/plain": [
              "'t'"
            ],
            "application/vnd.google.colaboratory.intrinsic+json": {
              "type": "string"
            }
          },
          "metadata": {},
          "execution_count": 7
        }
      ]
    },
    {
      "cell_type": "code",
      "source": [
        "#        0 1  2  3   4   5       6           7  8 9  10   11\n",
        "my_list=[0,3,25,'q','w','e',['r',['t','h']],'q',6,8,True,False]"
      ],
      "metadata": {
        "id": "0luiVMAXycab"
      },
      "execution_count": null,
      "outputs": []
    },
    {
      "cell_type": "code",
      "source": [
        "my_list[6][1][1]"
      ],
      "metadata": {
        "colab": {
          "base_uri": "https://localhost:8080/",
          "height": 35
        },
        "id": "woI37g75zKa5",
        "outputId": "66199b2e-698d-4af2-b23c-b6128779ba9a"
      },
      "execution_count": null,
      "outputs": [
        {
          "output_type": "execute_result",
          "data": {
            "text/plain": [
              "'h'"
            ],
            "application/vnd.google.colaboratory.intrinsic+json": {
              "type": "string"
            }
          },
          "metadata": {},
          "execution_count": 11
        }
      ]
    },
    {
      "cell_type": "code",
      "source": [
        "#Methods in list\n",
        "my_list=[\"tea\",\"Milk\",\"coffe\",\"rice\"]\n",
        "#i want toa add veg biryani in my list\n",
        "#.append()-It adds the element by the end of the list\n",
        "my_list.append(\"Veg Biryani\")"
      ],
      "metadata": {
        "id": "0G4ioN7XzcuC"
      },
      "execution_count": null,
      "outputs": []
    },
    {
      "cell_type": "code",
      "source": [
        "my_list"
      ],
      "metadata": {
        "colab": {
          "base_uri": "https://localhost:8080/"
        },
        "id": "cVEm1ujm0umB",
        "outputId": "5e8d17cd-2edd-48d6-c71d-9a0a19abaf5d"
      },
      "execution_count": null,
      "outputs": [
        {
          "output_type": "execute_result",
          "data": {
            "text/plain": [
              "['tea', 'Milk', 'coffe', 'rice', 'Veg Biryani']"
            ]
          },
          "metadata": {},
          "execution_count": 13
        }
      ]
    },
    {
      "cell_type": "code",
      "source": [
        "#.insert(index,element)-to insert element at a particular index\n",
        "# i want to add toffee after coffee\n",
        "my_list.insert(3,\"Toffee\")"
      ],
      "metadata": {
        "id": "hIIkcc6n0vkV"
      },
      "execution_count": null,
      "outputs": []
    },
    {
      "cell_type": "code",
      "source": [
        "my_list"
      ],
      "metadata": {
        "colab": {
          "base_uri": "https://localhost:8080/"
        },
        "id": "FxY1clz_1qXe",
        "outputId": "e428f519-0a38-45a6-a300-60ca0abd0aa3"
      },
      "execution_count": null,
      "outputs": [
        {
          "output_type": "execute_result",
          "data": {
            "text/plain": [
              "['tea', 'Milk', 'coffe', 'Toffee', 'rice', 'Veg Biryani']"
            ]
          },
          "metadata": {},
          "execution_count": 15
        }
      ]
    },
    {
      "cell_type": "code",
      "source": [
        "#.remove()-It deletes the value\n",
        "my_list.remove(\"Veg Biryani\")"
      ],
      "metadata": {
        "id": "g_A-qDhZ1rMd"
      },
      "execution_count": null,
      "outputs": []
    },
    {
      "cell_type": "code",
      "source": [
        "my_list"
      ],
      "metadata": {
        "colab": {
          "base_uri": "https://localhost:8080/"
        },
        "id": "fv_boMor2Mva",
        "outputId": "d3be7c42-33c1-47a8-9e14-a1f98fa6d40b"
      },
      "execution_count": null,
      "outputs": [
        {
          "output_type": "execute_result",
          "data": {
            "text/plain": [
              "['tea', 'Milk', 'coffe', 'Toffee', 'rice']"
            ]
          },
          "metadata": {},
          "execution_count": 17
        }
      ]
    },
    {
      "cell_type": "code",
      "source": [
        "del my_list[1:4]"
      ],
      "metadata": {
        "id": "0UzSsHMa2OMY"
      },
      "execution_count": null,
      "outputs": []
    },
    {
      "cell_type": "code",
      "source": [
        "my_list"
      ],
      "metadata": {
        "colab": {
          "base_uri": "https://localhost:8080/"
        },
        "id": "CI0Ck5U622GI",
        "outputId": "93b15c84-b432-4f05-a6b0-bc31cd437c55"
      },
      "execution_count": null,
      "outputs": [
        {
          "output_type": "execute_result",
          "data": {
            "text/plain": [
              "['tea', 'rice']"
            ]
          },
          "metadata": {},
          "execution_count": 19
        }
      ]
    },
    {
      "cell_type": "code",
      "source": [
        "#.index()-Gives you the index value of a element\n",
        "my_list.index(\"tea\")"
      ],
      "metadata": {
        "colab": {
          "base_uri": "https://localhost:8080/"
        },
        "id": "TLe2aiuN23Jb",
        "outputId": "f8b288ed-26a3-46f0-a292-5f3d1687b504"
      },
      "execution_count": null,
      "outputs": [
        {
          "output_type": "execute_result",
          "data": {
            "text/plain": [
              "0"
            ]
          },
          "metadata": {},
          "execution_count": 21
        }
      ]
    },
    {
      "cell_type": "code",
      "source": [
        "li=[\"tea\",\"coffe\",\"toffe\",\"coffe\",\"rice\"]\n",
        "index_1=li.index(\"coffe\")"
      ],
      "metadata": {
        "id": "d1tX791K3eON"
      },
      "execution_count": null,
      "outputs": []
    },
    {
      "cell_type": "code",
      "source": [
        "index_2=li.index(\"coffe\",index_1+1)"
      ],
      "metadata": {
        "id": "00f7IcZm6jk_"
      },
      "execution_count": null,
      "outputs": []
    },
    {
      "cell_type": "code",
      "source": [
        "index_2"
      ],
      "metadata": {
        "colab": {
          "base_uri": "https://localhost:8080/"
        },
        "id": "sBgPlrPE6odV",
        "outputId": "39bf01b5-14bc-494a-b4af-beb9eb9dd309"
      },
      "execution_count": null,
      "outputs": [
        {
          "output_type": "execute_result",
          "data": {
            "text/plain": [
              "3"
            ]
          },
          "metadata": {},
          "execution_count": 28
        }
      ]
    },
    {
      "cell_type": "code",
      "source": [
        "li=[1,2,3,4,\"Birayni\",\"Coffe\"]\n",
        "li[4]=\"Maggi\""
      ],
      "metadata": {
        "id": "i4nhom-n8Q1O"
      },
      "execution_count": null,
      "outputs": []
    },
    {
      "cell_type": "code",
      "source": [
        "li"
      ],
      "metadata": {
        "colab": {
          "base_uri": "https://localhost:8080/"
        },
        "id": "HTpTd7fH8f_I",
        "outputId": "0772ab1a-6a20-4088-8f74-a1e2cb3ac752"
      },
      "execution_count": null,
      "outputs": [
        {
          "output_type": "execute_result",
          "data": {
            "text/plain": [
              "[1, 2, 3, 4, 'Maggi', 'Coffe']"
            ]
          },
          "metadata": {},
          "execution_count": 33
        }
      ]
    },
    {
      "cell_type": "code",
      "source": [
        "list1=[\"tea\",\"coffe\",\"rice\"]\n",
        "list2=[\"Biryani\",\"Maggie\",\"Toffe\"]\n",
        "merge_list=list1+list2"
      ],
      "metadata": {
        "id": "foBMCPoT8v7b"
      },
      "execution_count": null,
      "outputs": []
    },
    {
      "cell_type": "code",
      "source": [
        "merge_list"
      ],
      "metadata": {
        "colab": {
          "base_uri": "https://localhost:8080/"
        },
        "id": "YbHq713X8_Ir",
        "outputId": "7b42f83e-6c00-4740-9993-686c2fa9d995"
      },
      "execution_count": null,
      "outputs": [
        {
          "output_type": "execute_result",
          "data": {
            "text/plain": [
              "['tea', 'coffe', 'rice', 'Biryani', 'Maggie', 'Toffe']"
            ]
          },
          "metadata": {},
          "execution_count": 35
        }
      ]
    },
    {
      "cell_type": "markdown",
      "source": [
        "# Tuple\n",
        "\n",
        "It stores multiple values of different datatype.\n",
        "\n",
        "To create tuple we use () round brackets.\n",
        "\n",
        "Tuples are immutable."
      ],
      "metadata": {
        "id": "BHUvqPR_6dhL"
      }
    },
    {
      "cell_type": "code",
      "source": [
        "tup1=(1,2,3,\"a\",34.5,\"b\",8,1)\n",
        "tup1"
      ],
      "metadata": {
        "colab": {
          "base_uri": "https://localhost:8080/"
        },
        "id": "H2VKDpV16O38",
        "outputId": "0e2e5bbc-93cb-4b7c-f992-08971372a686"
      },
      "execution_count": null,
      "outputs": [
        {
          "output_type": "execute_result",
          "data": {
            "text/plain": [
              "(1, 2, 3, 'a', 34.5, 'b', 8, 1)"
            ]
          },
          "metadata": {},
          "execution_count": 30
        }
      ]
    },
    {
      "cell_type": "code",
      "source": [
        "tup1[3]"
      ],
      "metadata": {
        "colab": {
          "base_uri": "https://localhost:8080/",
          "height": 35
        },
        "id": "FMtj9E4h8ANB",
        "outputId": "5a8f815f-b46b-4c1f-8ea2-905c1709fcd7"
      },
      "execution_count": null,
      "outputs": [
        {
          "output_type": "execute_result",
          "data": {
            "text/plain": [
              "'a'"
            ],
            "application/vnd.google.colaboratory.intrinsic+json": {
              "type": "string"
            }
          },
          "metadata": {},
          "execution_count": 31
        }
      ]
    },
    {
      "cell_type": "code",
      "source": [
        "tup1[3]=\"c\""
      ],
      "metadata": {
        "colab": {
          "base_uri": "https://localhost:8080/",
          "height": 141
        },
        "id": "aKUFV_Cj8I08",
        "outputId": "a7c11f7a-0b87-4db1-e3c7-a0ef39ba1bbe"
      },
      "execution_count": null,
      "outputs": [
        {
          "output_type": "error",
          "ename": "TypeError",
          "evalue": "'tuple' object does not support item assignment",
          "traceback": [
            "\u001b[0;31m---------------------------------------------------------------------------\u001b[0m",
            "\u001b[0;31mTypeError\u001b[0m                                 Traceback (most recent call last)",
            "\u001b[0;32m<ipython-input-36-11928e77f273>\u001b[0m in \u001b[0;36m<cell line: 0>\u001b[0;34m()\u001b[0m\n\u001b[0;32m----> 1\u001b[0;31m \u001b[0mtup1\u001b[0m\u001b[0;34m[\u001b[0m\u001b[0;36m3\u001b[0m\u001b[0;34m]\u001b[0m\u001b[0;34m=\u001b[0m\u001b[0;34m\"c\"\u001b[0m\u001b[0;34m\u001b[0m\u001b[0;34m\u001b[0m\u001b[0m\n\u001b[0m",
            "\u001b[0;31mTypeError\u001b[0m: 'tuple' object does not support item assignment"
          ]
        }
      ]
    },
    {
      "cell_type": "code",
      "source": [
        "#Methods in tuple\n",
        "#.index()\n",
        "tup1.index(\"a\")"
      ],
      "metadata": {
        "colab": {
          "base_uri": "https://localhost:8080/"
        },
        "id": "HsYShdRF9MeT",
        "outputId": "47902abf-1513-452d-d8a2-069646887d7d"
      },
      "execution_count": null,
      "outputs": [
        {
          "output_type": "execute_result",
          "data": {
            "text/plain": [
              "3"
            ]
          },
          "metadata": {},
          "execution_count": 37
        }
      ]
    },
    {
      "cell_type": "code",
      "source": [
        "#count()-it will count the frequency of a particular element\n",
        "tup1.count(1)"
      ],
      "metadata": {
        "colab": {
          "base_uri": "https://localhost:8080/"
        },
        "id": "A4ht7QB29p9V",
        "outputId": "01a3dbaa-5c59-453d-f34d-b39f411e09f9"
      },
      "execution_count": null,
      "outputs": [
        {
          "output_type": "execute_result",
          "data": {
            "text/plain": [
              "2"
            ]
          },
          "metadata": {},
          "execution_count": 38
        }
      ]
    },
    {
      "cell_type": "markdown",
      "source": [
        "# Strings\n",
        "\n",
        "Text Data type\n",
        "\n",
        "It follows indexing\n",
        "\n",
        "It is immutable."
      ],
      "metadata": {
        "id": "WtnSGoZK--9y"
      }
    },
    {
      "cell_type": "code",
      "source": [
        "    # 012345678910\n",
        "name=\"Rahul Kumar\"\n",
        "name[7:10]"
      ],
      "metadata": {
        "colab": {
          "base_uri": "https://localhost:8080/",
          "height": 35
        },
        "id": "VjWScDwr-IVu",
        "outputId": "f25ccf7d-01a3-4245-8349-0a902375b0be"
      },
      "execution_count": null,
      "outputs": [
        {
          "output_type": "execute_result",
          "data": {
            "text/plain": [
              "'uma'"
            ],
            "application/vnd.google.colaboratory.intrinsic+json": {
              "type": "string"
            }
          },
          "metadata": {},
          "execution_count": 39
        }
      ]
    },
    {
      "cell_type": "code",
      "source": [
        "name[6:]"
      ],
      "metadata": {
        "colab": {
          "base_uri": "https://localhost:8080/",
          "height": 35
        },
        "id": "L3m0mJAH_ySd",
        "outputId": "125abb47-1923-4a2f-f6f5-a4267fd091e1"
      },
      "execution_count": null,
      "outputs": [
        {
          "output_type": "execute_result",
          "data": {
            "text/plain": [
              "'Kumar'"
            ],
            "application/vnd.google.colaboratory.intrinsic+json": {
              "type": "string"
            }
          },
          "metadata": {},
          "execution_count": 40
        }
      ]
    },
    {
      "cell_type": "code",
      "source": [
        "name[2]=\"k\""
      ],
      "metadata": {
        "colab": {
          "base_uri": "https://localhost:8080/",
          "height": 141
        },
        "id": "m7g7-AlyAAH6",
        "outputId": "99462016-5129-4283-bd0c-5033f9374142"
      },
      "execution_count": null,
      "outputs": [
        {
          "output_type": "error",
          "ename": "TypeError",
          "evalue": "'str' object does not support item assignment",
          "traceback": [
            "\u001b[0;31m---------------------------------------------------------------------------\u001b[0m",
            "\u001b[0;31mTypeError\u001b[0m                                 Traceback (most recent call last)",
            "\u001b[0;32m<ipython-input-41-2bf114e46260>\u001b[0m in \u001b[0;36m<cell line: 0>\u001b[0;34m()\u001b[0m\n\u001b[0;32m----> 1\u001b[0;31m \u001b[0mname\u001b[0m\u001b[0;34m[\u001b[0m\u001b[0;36m2\u001b[0m\u001b[0;34m]\u001b[0m\u001b[0;34m=\u001b[0m\u001b[0;34m\"k\"\u001b[0m\u001b[0;34m\u001b[0m\u001b[0;34m\u001b[0m\u001b[0m\n\u001b[0m",
            "\u001b[0;31mTypeError\u001b[0m: 'str' object does not support item assignment"
          ]
        }
      ]
    },
    {
      "cell_type": "code",
      "source": [
        "#Methods in strings\n",
        "#.lower()-Convert all the letters into lower case\n",
        "name.lower()"
      ],
      "metadata": {
        "colab": {
          "base_uri": "https://localhost:8080/",
          "height": 35
        },
        "id": "J1JaTxZGAXRO",
        "outputId": "648b21a9-5fc4-4afe-deea-2f5faf36506a"
      },
      "execution_count": null,
      "outputs": [
        {
          "output_type": "execute_result",
          "data": {
            "text/plain": [
              "'rahul kumar'"
            ],
            "application/vnd.google.colaboratory.intrinsic+json": {
              "type": "string"
            }
          },
          "metadata": {},
          "execution_count": 42
        }
      ]
    },
    {
      "cell_type": "code",
      "source": [
        "#.upper()-Convert all the letters into upper case\n",
        "name.upper()"
      ],
      "metadata": {
        "colab": {
          "base_uri": "https://localhost:8080/",
          "height": 35
        },
        "id": "ehP1M2NEAr82",
        "outputId": "68136531-6062-4f69-d71f-8b90b04d3223"
      },
      "execution_count": null,
      "outputs": [
        {
          "output_type": "execute_result",
          "data": {
            "text/plain": [
              "'RAHUL KUMAR'"
            ],
            "application/vnd.google.colaboratory.intrinsic+json": {
              "type": "string"
            }
          },
          "metadata": {},
          "execution_count": 43
        }
      ]
    },
    {
      "cell_type": "code",
      "source": [
        "#.capitalized()-It will Capitilize the first letter of the string\n",
        "name.capitalize()"
      ],
      "metadata": {
        "colab": {
          "base_uri": "https://localhost:8080/",
          "height": 35
        },
        "id": "51xoHkofA1UE",
        "outputId": "0d894aea-e68d-460e-87d4-fb1bfb2c2cd1"
      },
      "execution_count": null,
      "outputs": [
        {
          "output_type": "execute_result",
          "data": {
            "text/plain": [
              "'Rahul kumar'"
            ],
            "application/vnd.google.colaboratory.intrinsic+json": {
              "type": "string"
            }
          },
          "metadata": {},
          "execution_count": 44
        }
      ]
    },
    {
      "cell_type": "code",
      "source": [
        "#title()-It will capitalize all the first character of the string\n",
        "name.title()"
      ],
      "metadata": {
        "colab": {
          "base_uri": "https://localhost:8080/",
          "height": 35
        },
        "id": "Ov35CoGwBEK7",
        "outputId": "c461bb34-1e54-4ce6-f5ef-c7c7130822fc"
      },
      "execution_count": null,
      "outputs": [
        {
          "output_type": "execute_result",
          "data": {
            "text/plain": [
              "'Rahul Kumar'"
            ],
            "application/vnd.google.colaboratory.intrinsic+json": {
              "type": "string"
            }
          },
          "metadata": {},
          "execution_count": 45
        }
      ]
    },
    {
      "cell_type": "code",
      "source": [
        "name"
      ],
      "metadata": {
        "colab": {
          "base_uri": "https://localhost:8080/",
          "height": 35
        },
        "id": "jT6cey7JBQaO",
        "outputId": "40440e5f-0dea-423c-8a4b-04cddef56efb"
      },
      "execution_count": null,
      "outputs": [
        {
          "output_type": "execute_result",
          "data": {
            "text/plain": [
              "'Rahul Kumar'"
            ],
            "application/vnd.google.colaboratory.intrinsic+json": {
              "type": "string"
            }
          },
          "metadata": {},
          "execution_count": 46
        }
      ]
    },
    {
      "cell_type": "code",
      "source": [
        "name=\"Kavia\"\n",
        "index=2    # v index is 2\n",
        "\n",
        "    #name[2]=v   v.upper()=V\n",
        "upp=name[index].upper()   #upp=V"
      ],
      "metadata": {
        "id": "wFKjlMaaBdT9"
      },
      "execution_count": null,
      "outputs": []
    },
    {
      "cell_type": "code",
      "source": [
        "         #ka           V    ia\n",
        "new_name=name[:index]+upp+name[index+1:]"
      ],
      "metadata": {
        "id": "kimi8gJ_CLoB"
      },
      "execution_count": null,
      "outputs": []
    },
    {
      "cell_type": "code",
      "source": [
        "new_name"
      ],
      "metadata": {
        "colab": {
          "base_uri": "https://localhost:8080/",
          "height": 35
        },
        "id": "A804wDvnCW00",
        "outputId": "84260ae8-822f-4b6b-f7ee-c56ec82110a1"
      },
      "execution_count": null,
      "outputs": [
        {
          "output_type": "execute_result",
          "data": {
            "text/plain": [
              "'KaVia'"
            ],
            "application/vnd.google.colaboratory.intrinsic+json": {
              "type": "string"
            }
          },
          "metadata": {},
          "execution_count": 49
        }
      ]
    },
    {
      "cell_type": "code",
      "source": [
        "#strip()-It will remove the whitespace from the string\n",
        "name='   Kanhaiya'\n",
        "name.strip()"
      ],
      "metadata": {
        "colab": {
          "base_uri": "https://localhost:8080/",
          "height": 35
        },
        "id": "w70gKFoACX_b",
        "outputId": "95560707-a62c-426d-d553-54c2dc5995b8"
      },
      "execution_count": null,
      "outputs": [
        {
          "output_type": "execute_result",
          "data": {
            "text/plain": [
              "'Kanhaiya'"
            ],
            "application/vnd.google.colaboratory.intrinsic+json": {
              "type": "string"
            }
          },
          "metadata": {},
          "execution_count": 50
        }
      ]
    },
    {
      "cell_type": "code",
      "source": [
        "#split()-Splits the string into multiple values by selecting a seperator\n",
        "data=\"Kavia,Abhinav,Vikas,Rahul,Naresh\"\n",
        "y=data.split(\",\")"
      ],
      "metadata": {
        "id": "WRK0rf3oEhdv"
      },
      "execution_count": null,
      "outputs": []
    },
    {
      "cell_type": "code",
      "source": [
        "y"
      ],
      "metadata": {
        "colab": {
          "base_uri": "https://localhost:8080/"
        },
        "id": "gYb_xUvpFMxW",
        "outputId": "725e0193-39b0-48a6-9344-086b7cdd6d4d"
      },
      "execution_count": null,
      "outputs": [
        {
          "output_type": "execute_result",
          "data": {
            "text/plain": [
              "['Kavia', 'Abhinav', 'Vikas', 'Rahul', 'Naresh']"
            ]
          },
          "metadata": {},
          "execution_count": 54
        }
      ]
    },
    {
      "cell_type": "code",
      "source": [],
      "metadata": {
        "id": "PjoPeca_FegD"
      },
      "execution_count": null,
      "outputs": []
    }
  ]
}