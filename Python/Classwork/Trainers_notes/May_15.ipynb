{
  "nbformat": 4,
  "nbformat_minor": 0,
  "metadata": {
    "colab": {
      "provenance": [],
      "include_colab_link": true
    },
    "kernelspec": {
      "name": "python3",
      "display_name": "Python 3"
    },
    "language_info": {
      "name": "python"
    }
  },
  "cells": [
    {
      "cell_type": "markdown",
      "metadata": {
        "id": "view-in-github",
        "colab_type": "text"
      },
      "source": [
        "<a href=\"https://colab.research.google.com/github/Kavia-M/Data_science_course-Intellipaat/blob/main/Python/Classwork/Trainers_notes/May_15.ipynb\" target=\"_parent\"><img src=\"https://colab.research.google.com/assets/colab-badge.svg\" alt=\"Open In Colab\"/></a>"
      ]
    },
    {
      "cell_type": "markdown",
      "source": [
        "# Programming Language\n",
        "\n",
        "It is a medium to communicate with machine.\n",
        "\n",
        "We have different types of programming language(python,java,c,c++,javascript).\n",
        "\n",
        "We need to follow some grammer rules(syntax)."
      ],
      "metadata": {
        "id": "CUgweAcYePcO"
      }
    },
    {
      "cell_type": "markdown",
      "source": [
        "# What is python and why python?\n",
        "\n",
        "Python is an interpreted(line by line) programming language."
      ],
      "metadata": {
        "id": "-9ZXnmKefVLr"
      }
    },
    {
      "cell_type": "markdown",
      "source": [
        "Python is a case sensitive language."
      ],
      "metadata": {
        "id": "tTPwijycgg4R"
      }
    },
    {
      "cell_type": "markdown",
      "source": [
        "Python is easy to understand and beginner friendly language.It is very similar to english."
      ],
      "metadata": {
        "id": "cgVCIc3-hJQ8"
      }
    },
    {
      "cell_type": "markdown",
      "source": [
        "Python is having large numbers of libraries."
      ],
      "metadata": {
        "id": "ypaJe7ZkiBIA"
      }
    },
    {
      "cell_type": "markdown",
      "source": [
        "# Where we can use Python\n",
        "\n",
        "Data Science:Scipy,Sklearn,numpy,pandas\n",
        "\n",
        "Data Visualisation:Matplotlib,Seaborn\n",
        "\n",
        "Web Deveopmen:Django,Falsk\n",
        "\n",
        "Game Development:Pygame\n",
        "\n",
        "Machine learning and AI:Tenserflow,keras"
      ],
      "metadata": {
        "id": "vZUVLbCkjKG5"
      }
    },
    {
      "cell_type": "code",
      "source": [
        "print(\"Hello world\")    #I am printing hello wold"
      ],
      "metadata": {
        "colab": {
          "base_uri": "https://localhost:8080/"
        },
        "id": "h_CkfHghiFBC",
        "outputId": "c0538843-ad00-465d-ce87-ec50274f91a3"
      },
      "execution_count": null,
      "outputs": [
        {
          "output_type": "stream",
          "name": "stdout",
          "text": [
            "Hello world\n"
          ]
        }
      ]
    },
    {
      "cell_type": "markdown",
      "source": [
        "# Comments"
      ],
      "metadata": {
        "id": "cioOYWb1kEZF"
      }
    },
    {
      "cell_type": "code",
      "source": [
        "#This is a single line comment\n",
        "'''\n",
        "This is a multiple line comment\n",
        "Thsis is secong line\n",
        "This is thirld line\n",
        "'''"
      ],
      "metadata": {
        "colab": {
          "base_uri": "https://localhost:8080/",
          "height": 35
        },
        "id": "zUBEOf6fj-oI",
        "outputId": "152c66d9-673c-4805-9117-4df7bf6a6812"
      },
      "execution_count": null,
      "outputs": [
        {
          "output_type": "execute_result",
          "data": {
            "text/plain": [
              "'\\nThis is a multiple line comment\\nThsis is secong line\\nThis is thirld line\\n'"
            ],
            "application/vnd.google.colaboratory.intrinsic+json": {
              "type": "string"
            }
          },
          "metadata": {},
          "execution_count": 6
        }
      ]
    },
    {
      "cell_type": "markdown",
      "source": [
        "# Variable\n",
        "\n",
        "It is a container that stores different types of data."
      ],
      "metadata": {
        "id": "FZEEof0dmJqi"
      }
    },
    {
      "cell_type": "code",
      "source": [
        "number=10\n",
        "print(number)  #To print the varaible value we pass varaible name to our print statement"
      ],
      "metadata": {
        "colab": {
          "base_uri": "https://localhost:8080/"
        },
        "id": "FP2o6eWClSVC",
        "outputId": "dd54c8a8-0265-4387-b5dc-04c08b22d410"
      },
      "execution_count": null,
      "outputs": [
        {
          "output_type": "stream",
          "name": "stdout",
          "text": [
            "10\n"
          ]
        }
      ]
    },
    {
      "cell_type": "markdown",
      "source": [
        "# Rules to write the name of the variable\n",
        "\n",
        "1.Variables are case sensitive"
      ],
      "metadata": {
        "id": "m1m3aLZ6n0p4"
      }
    },
    {
      "cell_type": "code",
      "source": [
        "name=\"if\"\n",
        "print(name)\n",
        "\n",
        "Name=\"Kavia\"\n",
        "print(Name)"
      ],
      "metadata": {
        "colab": {
          "base_uri": "https://localhost:8080/"
        },
        "id": "v8EJRm1EnBRK",
        "outputId": "9de0a8d6-084d-4423-a245-0069c288c6d9"
      },
      "execution_count": null,
      "outputs": [
        {
          "output_type": "stream",
          "name": "stdout",
          "text": [
            "if\n",
            "Kavia\n"
          ]
        }
      ]
    },
    {
      "cell_type": "markdown",
      "source": [
        "2.Keywords are not used as a varaible name."
      ],
      "metadata": {
        "id": "-85gOLChokqc"
      }
    },
    {
      "cell_type": "code",
      "source": [
        "if=\"Amit\"\n",
        "print(if)"
      ],
      "metadata": {
        "colab": {
          "base_uri": "https://localhost:8080/",
          "height": 106
        },
        "id": "6IkpSWZ_oLoV",
        "outputId": "ff49de83-6e5e-4d96-b9c2-71cea514dadf"
      },
      "execution_count": null,
      "outputs": [
        {
          "output_type": "error",
          "ename": "SyntaxError",
          "evalue": "invalid syntax (<ipython-input-12-b010ae753594>, line 1)",
          "traceback": [
            "\u001b[0;36m  File \u001b[0;32m\"<ipython-input-12-b010ae753594>\"\u001b[0;36m, line \u001b[0;32m1\u001b[0m\n\u001b[0;31m    if=\"Amit\"\u001b[0m\n\u001b[0m      ^\u001b[0m\n\u001b[0;31mSyntaxError\u001b[0m\u001b[0;31m:\u001b[0m invalid syntax\n"
          ]
        }
      ]
    },
    {
      "cell_type": "markdown",
      "source": [
        "3.You cannot start a varaible name with a number but can end with a number."
      ],
      "metadata": {
        "id": "EYY1APUJZZO-"
      }
    },
    {
      "cell_type": "code",
      "source": [
        "name2=\"Vikesh\"\n",
        "print(name2)"
      ],
      "metadata": {
        "id": "_dGraXf7o1gU",
        "colab": {
          "base_uri": "https://localhost:8080/"
        },
        "outputId": "bc49d18a-ced9-4f08-cd32-6a726316b118"
      },
      "execution_count": null,
      "outputs": [
        {
          "output_type": "stream",
          "name": "stdout",
          "text": [
            "Vikesh\n"
          ]
        }
      ]
    },
    {
      "cell_type": "markdown",
      "source": [
        "4.We cannot use symbol or give whitespace between multi word variable except underscore."
      ],
      "metadata": {
        "id": "kzJ10qMxbIxc"
      }
    },
    {
      "cell_type": "code",
      "source": [
        "sentence=\"Today we are going to learn python\"\n",
        "print(sentence)"
      ],
      "metadata": {
        "colab": {
          "base_uri": "https://localhost:8080/"
        },
        "id": "2Qx7nn7Laf8i",
        "outputId": "f354f348-0f4c-4de3-fa79-77e5d2b853e0"
      },
      "execution_count": null,
      "outputs": [
        {
          "output_type": "stream",
          "name": "stdout",
          "text": [
            "Today we are going to learn python\n"
          ]
        }
      ]
    },
    {
      "cell_type": "markdown",
      "source": [
        "# Data Types\n",
        "\n",
        "1.Numeric Data\n",
        "\n",
        "2.Text Data\n",
        "\n",
        "3.Boolean Data"
      ],
      "metadata": {
        "id": "lymgTLW5cDO7"
      }
    },
    {
      "cell_type": "markdown",
      "source": [
        "#1. Numeric Data Types"
      ],
      "metadata": {
        "id": "UXQqBHD7c07L"
      }
    },
    {
      "cell_type": "code",
      "source": [
        "#integer (int)-positive and negative number including 0\n",
        "num=10\n",
        "print(num)\n",
        "print(type(num))\n",
        "\n",
        "num2=-10\n",
        "print(num2)\n",
        "print(type(num2))\n",
        "\n",
        "#type()-> Gives you the datatype of a varaible"
      ],
      "metadata": {
        "colab": {
          "base_uri": "https://localhost:8080/"
        },
        "id": "Jk1kBaKhbbGy",
        "outputId": "624c2463-68d6-4020-efc5-d35f3c2c4011"
      },
      "execution_count": null,
      "outputs": [
        {
          "output_type": "stream",
          "name": "stdout",
          "text": [
            "10\n",
            "<class 'int'>\n",
            "-10\n",
            "<class 'int'>\n"
          ]
        }
      ]
    },
    {
      "cell_type": "code",
      "source": [
        "#float-positive and negative decimal number\n",
        "num=10.5\n",
        "print(type(num))"
      ],
      "metadata": {
        "colab": {
          "base_uri": "https://localhost:8080/"
        },
        "id": "6Pj1eerndTyw",
        "outputId": "280be9bd-fe74-46c0-f8b7-fd6f1599bd37"
      },
      "execution_count": null,
      "outputs": [
        {
          "output_type": "stream",
          "name": "stdout",
          "text": [
            "<class 'float'>\n"
          ]
        }
      ]
    },
    {
      "cell_type": "markdown",
      "source": [
        "#2.Text Data type\n",
        "\n",
        "String\n",
        "\n",
        "To write our string we use ' ' or \" \"."
      ],
      "metadata": {
        "id": "11d2BxZveEWh"
      }
    },
    {
      "cell_type": "code",
      "source": [
        "name='Praveen'\n",
        "print(name)\n",
        "print(type(name))"
      ],
      "metadata": {
        "colab": {
          "base_uri": "https://localhost:8080/"
        },
        "id": "nVsxqwYHd4gk",
        "outputId": "8d814dff-d9ce-4fe6-876c-1397246d5b34"
      },
      "execution_count": null,
      "outputs": [
        {
          "output_type": "stream",
          "name": "stdout",
          "text": [
            "Praveen\n",
            "<class 'str'>\n"
          ]
        }
      ]
    },
    {
      "cell_type": "markdown",
      "source": [
        "#3.Boolean Data Type\n",
        "\n",
        "True and False\n",
        "\n",
        "**note:T and F should be in Capital letters**"
      ],
      "metadata": {
        "id": "rFQlnqXiemxz"
      }
    },
    {
      "cell_type": "code",
      "source": [
        "a=True\n",
        "print(type(a))"
      ],
      "metadata": {
        "colab": {
          "base_uri": "https://localhost:8080/"
        },
        "id": "42npPyc5ee8B",
        "outputId": "2e025c8d-7097-4531-dc29-b2866664271a"
      },
      "execution_count": null,
      "outputs": [
        {
          "output_type": "stream",
          "name": "stdout",
          "text": [
            "<class 'bool'>\n"
          ]
        }
      ]
    },
    {
      "cell_type": "markdown",
      "source": [
        "# Type Casting\n",
        "\n",
        "To change a data from one datatype to another datatype ."
      ],
      "metadata": {
        "id": "OcA-L31XfHjP"
      }
    },
    {
      "cell_type": "code",
      "source": [
        "num=23\n",
        "print(type(num))\n",
        "\n",
        "num=float(num)\n",
        "print(type(num))\n",
        "\n",
        "num=str(num)\n",
        "print(type(num))"
      ],
      "metadata": {
        "colab": {
          "base_uri": "https://localhost:8080/"
        },
        "id": "o3pc_SQUfALg",
        "outputId": "c46a06b0-1419-4782-faeb-d22845d166ff"
      },
      "execution_count": null,
      "outputs": [
        {
          "output_type": "stream",
          "name": "stdout",
          "text": [
            "<class 'int'>\n",
            "<class 'float'>\n",
            "<class 'str'>\n"
          ]
        }
      ]
    },
    {
      "cell_type": "code",
      "source": [
        "x=True\n",
        "x=int(True)\n",
        "print(type(x))"
      ],
      "metadata": {
        "colab": {
          "base_uri": "https://localhost:8080/"
        },
        "id": "mskFfoqCffAr",
        "outputId": "fadd0567-93e7-4efb-e45f-3399dd3a3f9f"
      },
      "execution_count": null,
      "outputs": [
        {
          "output_type": "stream",
          "name": "stdout",
          "text": [
            "<class 'int'>\n"
          ]
        }
      ]
    },
    {
      "cell_type": "code",
      "source": [
        "num=77.99\n",
        "print(type(num))\n",
        "print(num)\n",
        "num=float(num)\n",
        "print(type(num))\n",
        "print(num)"
      ],
      "metadata": {
        "colab": {
          "base_uri": "https://localhost:8080/"
        },
        "id": "uM0txP94hAyB",
        "outputId": "98f51a93-2aaf-4d65-ff79-893c341b24eb"
      },
      "execution_count": null,
      "outputs": [
        {
          "output_type": "stream",
          "name": "stdout",
          "text": [
            "<class 'float'>\n",
            "77.99\n",
            "<class 'float'>\n",
            "77.99\n"
          ]
        }
      ]
    },
    {
      "cell_type": "code",
      "source": [
        "tata=10.5\n",
        "\n",
        "print(type(tata))\n",
        "\n",
        "tata = int(tata)\n",
        "\n",
        "print(tata)\n",
        "print(type(tata))"
      ],
      "metadata": {
        "colab": {
          "base_uri": "https://localhost:8080/"
        },
        "id": "W_UXkmxpinYP",
        "outputId": "fcc00d41-6155-4530-e84f-759665fc7cc0"
      },
      "execution_count": null,
      "outputs": [
        {
          "output_type": "stream",
          "name": "stdout",
          "text": [
            "<class 'float'>\n",
            "10\n",
            "<class 'int'>\n"
          ]
        }
      ]
    },
    {
      "cell_type": "code",
      "source": [
        "name=\"Alex\"\n",
        "print(type(name))  # here I am getting the correct\n",
        "                               data type in output\n",
        "name=int(name)\n",
        "print (type(name))"
      ],
      "metadata": {
        "colab": {
          "base_uri": "https://localhost:8080/",
          "height": 106
        },
        "id": "zDwQnFm-nfHe",
        "outputId": "a65dd80a-835f-44f2-ebb3-f0fdd1ce2bcb"
      },
      "execution_count": null,
      "outputs": [
        {
          "output_type": "error",
          "ename": "IndentationError",
          "evalue": "unexpected indent (<ipython-input-36-ba2b29086a8c>, line 3)",
          "traceback": [
            "\u001b[0;36m  File \u001b[0;32m\"<ipython-input-36-ba2b29086a8c>\"\u001b[0;36m, line \u001b[0;32m3\u001b[0m\n\u001b[0;31m    data type in output\u001b[0m\n\u001b[0m    ^\u001b[0m\n\u001b[0;31mIndentationError\u001b[0m\u001b[0;31m:\u001b[0m unexpected indent\n"
          ]
        }
      ]
    },
    {
      "cell_type": "markdown",
      "source": [
        "**note:Text values cannot be converted to numeric datatype**"
      ],
      "metadata": {
        "id": "soKvdQJ2nl2z"
      }
    },
    {
      "cell_type": "markdown",
      "source": [
        "# Operators\n",
        "\n",
        "The symbol that specify which task we need to perform"
      ],
      "metadata": {
        "id": "5elmL4R9iIJu"
      }
    },
    {
      "cell_type": "markdown",
      "source": [
        "#1.Arithmetic Operator\n",
        "\n",
        "Any mathematical calculation"
      ],
      "metadata": {
        "id": "aospALNii-dx"
      }
    },
    {
      "cell_type": "code",
      "source": [
        "x=5\n",
        "y=2\n",
        "#addition(+)-\n",
        "print(x+y)\n",
        "\n",
        "#subtraction(-)-\n",
        "print(x-y)\n",
        "\n",
        "#multiplication(*)-\n",
        "print(x*y)\n",
        "\n",
        "#division(/)-\n",
        "print(x/y)\n",
        "\n",
        "#modulus(%)-Gives you the remainder\n",
        "print(x%y)\n",
        "\n",
        "#floor division(//)-Gives the integer value only\n",
        "print(x//y)\n",
        "\n",
        "#Exponential(power **)-\n",
        "print(x**y)"
      ],
      "metadata": {
        "colab": {
          "base_uri": "https://localhost:8080/"
        },
        "id": "20deBJ0EhRRA",
        "outputId": "71431c42-1da4-4c77-e886-2fef9b54087c"
      },
      "execution_count": null,
      "outputs": [
        {
          "output_type": "stream",
          "name": "stdout",
          "text": [
            "7\n",
            "3\n",
            "10\n",
            "2.5\n",
            "1\n",
            "2\n",
            "25\n"
          ]
        }
      ]
    },
    {
      "cell_type": "markdown",
      "source": [
        "#2.Comparision Operator"
      ],
      "metadata": {
        "id": "D5PQ4v_Bk7x9"
      }
    },
    {
      "cell_type": "code",
      "source": [
        "x=22\n",
        "y=22\n",
        "\n",
        "#greater than(>):\n",
        "print(x>y)\n",
        "\n",
        "#less than(<):\n",
        "print(x<y)\n",
        "\n",
        "#greater than equals to(>=):\n",
        "print(x>=y)\n",
        "\n",
        "#less than equals to(<=):\n",
        "print(x<=y)\n",
        "\n",
        "#equals equals tO(==):\n",
        "print(x==y)\n",
        "\n",
        "#not equals to(!=):\n",
        "print(x!=y)"
      ],
      "metadata": {
        "colab": {
          "base_uri": "https://localhost:8080/"
        },
        "id": "kV7OsOjOjSmT",
        "outputId": "bde1d17f-9400-4dc5-bdcd-016d56d44211"
      },
      "execution_count": null,
      "outputs": [
        {
          "output_type": "stream",
          "name": "stdout",
          "text": [
            "False\n",
            "False\n",
            "True\n",
            "True\n",
            "True\n",
            "False\n"
          ]
        }
      ]
    },
    {
      "cell_type": "markdown",
      "source": [
        "#3.Assignment Operator"
      ],
      "metadata": {
        "id": "vo9F9GVIp3Mk"
      }
    },
    {
      "cell_type": "code",
      "source": [
        "#(=)-Assigns a value to a variable\n",
        "x=10\n",
        "print(x)\n",
        "\n",
        "#(+=)-increments the value\n",
        "x+=5    #x=x+5\n",
        "print(x)\n",
        "\n",
        "#(-=)-decremnts the value\n",
        "x-=10   #x=x-10\n",
        "print(x)\n",
        "\n",
        "#(*=)\n",
        "x*=5    #x=x*5\n",
        "print(x)\n",
        "\n",
        "#(/=)  (//=)"
      ],
      "metadata": {
        "colab": {
          "base_uri": "https://localhost:8080/"
        },
        "id": "ATQEoc4boC2D",
        "outputId": "68fd3a1e-c4fa-450e-f047-4c60fed8816c"
      },
      "execution_count": null,
      "outputs": [
        {
          "output_type": "stream",
          "name": "stdout",
          "text": [
            "10\n",
            "15\n",
            "5\n",
            "25\n"
          ]
        }
      ]
    },
    {
      "cell_type": "markdown",
      "source": [
        "#4.Logical Operator\n",
        "\n",
        "keywords: and,or, not"
      ],
      "metadata": {
        "id": "3Bf-bqmyrSCF"
      }
    },
    {
      "cell_type": "code",
      "source": [
        "#and-If both statements are true then only we get the true output.\n",
        "x=23\n",
        "y=12\n",
        "print(x>y and y>x)"
      ],
      "metadata": {
        "colab": {
          "base_uri": "https://localhost:8080/"
        },
        "id": "excgy0qnqEny",
        "outputId": "186d1875-4c1b-4874-d31b-c8e6c988fae0"
      },
      "execution_count": null,
      "outputs": [
        {
          "output_type": "stream",
          "name": "stdout",
          "text": [
            "False\n"
          ]
        }
      ]
    },
    {
      "cell_type": "code",
      "source": [
        "#or-If any one statement will be true then we get the true output\n",
        "print(x>y or y>x)"
      ],
      "metadata": {
        "colab": {
          "base_uri": "https://localhost:8080/"
        },
        "id": "FYEfpzBir4NK",
        "outputId": "c9fc5089-b7fd-4f55-84f2-91a91f596ab0"
      },
      "execution_count": null,
      "outputs": [
        {
          "output_type": "stream",
          "name": "stdout",
          "text": [
            "True\n"
          ]
        }
      ]
    },
    {
      "cell_type": "code",
      "source": [
        "#not-Gives you opposite value\n",
        "#x=True\n",
        "#print(not x)\n",
        "\n",
        "x=10\n",
        "print(not x)"
      ],
      "metadata": {
        "colab": {
          "base_uri": "https://localhost:8080/"
        },
        "id": "kUdtzjFOsLpE",
        "outputId": "b5be9944-8fcd-4afc-dab8-6735ecd3ed98"
      },
      "execution_count": null,
      "outputs": [
        {
          "output_type": "stream",
          "name": "stdout",
          "text": [
            "False\n"
          ]
        }
      ]
    },
    {
      "cell_type": "markdown",
      "source": [
        "#5.Membership Operator\n",
        "\n",
        "keywords:in, not in"
      ],
      "metadata": {
        "id": "pfQEK5xftqoi"
      }
    },
    {
      "cell_type": "code",
      "source": [
        "fruits=[\"apple\",\"mango\",\"kiwi\",\"pineapple\"]\n",
        "print(\"apple\" in fruits)\n",
        "print(\"pineapple\" not in fruits)"
      ],
      "metadata": {
        "colab": {
          "base_uri": "https://localhost:8080/"
        },
        "id": "TxOJ935JsWSU",
        "outputId": "0ccd51b1-2ded-4431-ca99-ffc151e91fce"
      },
      "execution_count": null,
      "outputs": [
        {
          "output_type": "stream",
          "name": "stdout",
          "text": [
            "True\n",
            "False\n"
          ]
        }
      ]
    },
    {
      "cell_type": "markdown",
      "source": [],
      "metadata": {
        "id": "E0h9E29huu_3"
      }
    },
    {
      "cell_type": "markdown",
      "source": [
        "# Sequential Data Types\n",
        "\n",
        "List tuple Strings\n",
        "\n",
        "#Unsequential Data Types\n",
        "\n",
        "Dictionary Sets"
      ],
      "metadata": {
        "id": "7pu33ChUu31w"
      }
    },
    {
      "cell_type": "markdown",
      "source": [
        "# Dictionary-\n",
        "\n",
        "Key value Pairs\n",
        "\n",
        "We use {} to create our dictionary\n",
        "\n",
        "Mutable"
      ],
      "metadata": {
        "id": "2HLyZfT-vXfR"
      }
    },
    {
      "cell_type": "code",
      "source": [
        "#print the details of a person (name,age,address,job)\n",
        "person={\"name\":\"Sweta\",\"age\":23,\"address\":\"Banglore\",\"job\":\"Data Science\"}\n",
        "print(person)"
      ],
      "metadata": {
        "colab": {
          "base_uri": "https://localhost:8080/"
        },
        "id": "4myBsDrbuVAG",
        "outputId": "8ec6d8a1-8481-4b5d-a8d4-4bb5c0800496"
      },
      "execution_count": null,
      "outputs": [
        {
          "output_type": "stream",
          "name": "stdout",
          "text": [
            "{'name': 'Sweta', 'age': 23, 'address': 'Banglore', 'job': 'Data Science'}\n"
          ]
        }
      ]
    },
    {
      "cell_type": "code",
      "source": [
        "#By using the key you can acess the value\n",
        "print(person[\"age\"])\n",
        "print(len(person))"
      ],
      "metadata": {
        "colab": {
          "base_uri": "https://localhost:8080/"
        },
        "id": "QVUOg0eKwDpN",
        "outputId": "f47cb5c6-550a-493d-fd4c-076b99d413f9"
      },
      "execution_count": null,
      "outputs": [
        {
          "output_type": "stream",
          "name": "stdout",
          "text": [
            "23\n",
            "4\n"
          ]
        }
      ]
    },
    {
      "cell_type": "code",
      "source": [
        "# i want to add salary to my dictionary\n",
        "#to add new key value pair\n",
        "person[\"Salary\"]=50000"
      ],
      "metadata": {
        "id": "N0oCh1pJx5y7"
      },
      "execution_count": null,
      "outputs": []
    },
    {
      "cell_type": "code",
      "source": [
        "person"
      ],
      "metadata": {
        "colab": {
          "base_uri": "https://localhost:8080/"
        },
        "id": "tkjUdxmNjTvW",
        "outputId": "1f6eeaec-1318-4027-a203-5095bdac0912"
      },
      "execution_count": null,
      "outputs": [
        {
          "output_type": "execute_result",
          "data": {
            "text/plain": [
              "{'name': 'Sweta',\n",
              " 'age': 23,\n",
              " 'address': 'Banglore',\n",
              " 'job': 'Data Science',\n",
              " 'Salary': 50000}"
            ]
          },
          "metadata": {},
          "execution_count": 5
        }
      ]
    },
    {
      "cell_type": "code",
      "source": [
        "#keyword-del\n",
        "del person[\"job\"]"
      ],
      "metadata": {
        "id": "xUSDYvU6jYy8"
      },
      "execution_count": null,
      "outputs": []
    },
    {
      "cell_type": "code",
      "source": [],
      "metadata": {
        "id": "UCh53zNFkR58"
      },
      "execution_count": null,
      "outputs": []
    },
    {
      "cell_type": "code",
      "source": [
        "person"
      ],
      "metadata": {
        "colab": {
          "base_uri": "https://localhost:8080/"
        },
        "id": "s73hiyWZjq7L",
        "outputId": "7e323bf1-c125-426b-9f08-8cb871365b99"
      },
      "execution_count": null,
      "outputs": [
        {
          "output_type": "execute_result",
          "data": {
            "text/plain": [
              "{'name': 'Sweta', 'age': 23, 'address': 'Banglore', 'Salary': 50000}"
            ]
          },
          "metadata": {},
          "execution_count": 7
        }
      ]
    },
    {
      "cell_type": "code",
      "source": [
        "person.update({\"job\":\"Data Science\",\"last_name\":\"Kumar\"})"
      ],
      "metadata": {
        "id": "9K7PBZ4BkT7X"
      },
      "execution_count": null,
      "outputs": []
    },
    {
      "cell_type": "code",
      "source": [
        "person"
      ],
      "metadata": {
        "colab": {
          "base_uri": "https://localhost:8080/"
        },
        "id": "DXOKW9nRkT01",
        "outputId": "d97e77df-1157-4fee-eb6e-013d65521b39"
      },
      "execution_count": null,
      "outputs": [
        {
          "output_type": "execute_result",
          "data": {
            "text/plain": [
              "{'name': 'Sweta',\n",
              " 'age': 23,\n",
              " 'address': 'Banglore',\n",
              " 'Salary': 50000,\n",
              " 'job': 'Data Science',\n",
              " 'last_name': 'Kumar'}"
            ]
          },
          "metadata": {},
          "execution_count": 10
        }
      ]
    },
    {
      "cell_type": "code",
      "source": [
        "#Methods in dictionaries\n",
        "#.keys():Give all the keys in dict\n",
        "person.keys()"
      ],
      "metadata": {
        "colab": {
          "base_uri": "https://localhost:8080/"
        },
        "id": "e9Ioqzs6jr3D",
        "outputId": "7c92388a-776a-494c-924b-e8cd6d7b7740"
      },
      "execution_count": null,
      "outputs": [
        {
          "output_type": "execute_result",
          "data": {
            "text/plain": [
              "dict_keys(['name', 'age', 'address', 'Salary', 'job', 'last_name'])"
            ]
          },
          "metadata": {},
          "execution_count": 11
        }
      ]
    },
    {
      "cell_type": "code",
      "source": [
        "#.values():Give all the values in the dict\n",
        "person.values()"
      ],
      "metadata": {
        "colab": {
          "base_uri": "https://localhost:8080/"
        },
        "id": "vJYVIbkBmFMa",
        "outputId": "b9122512-ca95-4ec1-e0c4-5d20cf8d898e"
      },
      "execution_count": null,
      "outputs": [
        {
          "output_type": "execute_result",
          "data": {
            "text/plain": [
              "dict_values(['Sweta', 23, 'Banglore', 50000, 'Data Science', 'Kumar'])"
            ]
          },
          "metadata": {},
          "execution_count": 12
        }
      ]
    },
    {
      "cell_type": "code",
      "source": [
        "#.items():Gives both key value together\n",
        "person.items()"
      ],
      "metadata": {
        "colab": {
          "base_uri": "https://localhost:8080/"
        },
        "id": "_xv1OkGGmQR3",
        "outputId": "a835d0be-f701-4c61-d0ae-0a2ed0bb0584"
      },
      "execution_count": null,
      "outputs": [
        {
          "output_type": "execute_result",
          "data": {
            "text/plain": [
              "dict_items([('name', 'Sweta'), ('age', 23), ('address', 'Banglore'), ('Salary', 50000), ('job', 'Data Science'), ('last_name', 'Kumar')])"
            ]
          },
          "metadata": {},
          "execution_count": 13
        }
      ]
    },
    {
      "cell_type": "markdown",
      "source": [
        "# Mutable:When you can Modified(adding,deleting,updating) the data after creation that is called as mutable.\n",
        "\n",
        "#Immutable:When you can not modidfied the data after creation"
      ],
      "metadata": {
        "id": "KaPFCMLBnDlj"
      }
    },
    {
      "cell_type": "markdown",
      "source": [
        "# Sets\n",
        "\n",
        "It is unorderd unique collection of elemnts.\n",
        "\n",
        "We use {} to create the sets.\n",
        "\n",
        "Mutable."
      ],
      "metadata": {
        "id": "FrjTEY5RpZUh"
      }
    },
    {
      "cell_type": "code",
      "source": [
        "s1={1,3,34,25,23,34,25,78,\"kavia\",34.5}\n",
        "print(s1)"
      ],
      "metadata": {
        "colab": {
          "base_uri": "https://localhost:8080/"
        },
        "id": "TefOVciMmZiR",
        "outputId": "ba02e57f-c016-4d16-b943-f3267cf77dcb"
      },
      "execution_count": null,
      "outputs": [
        {
          "output_type": "stream",
          "name": "stdout",
          "text": [
            "{1, 34, 3, 34.5, 'kavia', 78, 23, 25}\n"
          ]
        }
      ]
    },
    {
      "cell_type": "code",
      "source": [
        "#Method of Sets\n",
        "#.add(element)\n",
        "s1.add(30)"
      ],
      "metadata": {
        "id": "ndb9MmYzqgQ1"
      },
      "execution_count": null,
      "outputs": []
    },
    {
      "cell_type": "code",
      "source": [
        "print(s1)"
      ],
      "metadata": {
        "colab": {
          "base_uri": "https://localhost:8080/"
        },
        "id": "wPihVmm8rNn3",
        "outputId": "45f147f7-3837-4627-d95f-0d36544a31da"
      },
      "execution_count": null,
      "outputs": [
        {
          "output_type": "stream",
          "name": "stdout",
          "text": [
            "{1, 34, 34.5, 'kavia', 78, 23, 25, 30}\n"
          ]
        }
      ]
    },
    {
      "cell_type": "code",
      "source": [
        "#.remove(element)\n",
        "s1.remove(3)"
      ],
      "metadata": {
        "id": "f6KR1E3jrOPi"
      },
      "execution_count": null,
      "outputs": []
    },
    {
      "cell_type": "code",
      "source": [
        "s1"
      ],
      "metadata": {
        "colab": {
          "base_uri": "https://localhost:8080/"
        },
        "id": "kQS_WpQCsS7O",
        "outputId": "efe8d07a-16cb-48f1-dbeb-75b3f790503e"
      },
      "execution_count": null,
      "outputs": [
        {
          "output_type": "execute_result",
          "data": {
            "text/plain": [
              "{1, 23, 25, 30, 34, 34.5, 78, 'kavia'}"
            ]
          },
          "metadata": {},
          "execution_count": 21
        }
      ]
    },
    {
      "cell_type": "code",
      "source": [
        "#.union()-All unique elements present in both sets\n",
        "s1={1,2,3,4}\n",
        "s2={3,4,5,6}\n",
        "s1.union(s2)"
      ],
      "metadata": {
        "colab": {
          "base_uri": "https://localhost:8080/"
        },
        "id": "t_ogydxosTcO",
        "outputId": "014af69a-8aeb-4029-cde7-b05b0010e7fa"
      },
      "execution_count": null,
      "outputs": [
        {
          "output_type": "execute_result",
          "data": {
            "text/plain": [
              "{1, 2, 3, 4, 5, 6}"
            ]
          },
          "metadata": {},
          "execution_count": 23
        }
      ]
    },
    {
      "cell_type": "code",
      "source": [
        "#.intersection()-Gives common element from both the sets\n",
        "s1.intersection(s2)"
      ],
      "metadata": {
        "colab": {
          "base_uri": "https://localhost:8080/"
        },
        "id": "zOMcVHAwtxUM",
        "outputId": "be077c77-2424-49f4-f44e-1845dfdddbf0"
      },
      "execution_count": null,
      "outputs": [
        {
          "output_type": "execute_result",
          "data": {
            "text/plain": [
              "{3, 4}"
            ]
          },
          "metadata": {},
          "execution_count": 24
        }
      ]
    },
    {
      "cell_type": "code",
      "source": [
        "#Issues in sets:\n",
        "#Unordered\n",
        "#Duplicates\n",
        "#Indexing\n",
        "#we cannot acces a particular element"
      ],
      "metadata": {
        "id": "QPjSFNEjuvps"
      },
      "execution_count": null,
      "outputs": []
    },
    {
      "cell_type": "markdown",
      "source": [
        "# List is ordered,allow duplicates,we have indexing in list\n",
        "\n",
        "we use [] to create list.\n",
        "\n",
        "It is also Mutable."
      ],
      "metadata": {
        "id": "nrYqdCbLvkOP"
      }
    },
    {
      "cell_type": "code",
      "source": [
        "li=[23,24,56,\"Apple\",25.8,25,24,30]\n",
        "print(li)"
      ],
      "metadata": {
        "colab": {
          "base_uri": "https://localhost:8080/"
        },
        "id": "NaxHarY-vjp5",
        "outputId": "74d9c605-677b-4e55-9821-617785b0a1eb"
      },
      "execution_count": null,
      "outputs": [
        {
          "output_type": "stream",
          "name": "stdout",
          "text": [
            "[23, 24, 56, 'Apple', 25.8, 25, 24, 30]\n"
          ]
        }
      ]
    },
    {
      "cell_type": "markdown",
      "source": [
        "# Indexing\n",
        "\n",
        "Gives the position of a particular element.\n",
        "\n",
        "Indexing starts from 0.\n",
        "\n",
        "Negative indexing starts from -1."
      ],
      "metadata": {
        "id": "_UWG94fkzNG7"
      }
    },
    {
      "cell_type": "code",
      "source": [
        "li=[10,20,30,40,50]\n",
        "print(li[2])"
      ],
      "metadata": {
        "colab": {
          "base_uri": "https://localhost:8080/"
        },
        "id": "zGL1oCCey1ev",
        "outputId": "432d3224-8a55-48e7-c6e2-7cca20a01e7f"
      },
      "execution_count": null,
      "outputs": [
        {
          "output_type": "stream",
          "name": "stdout",
          "text": [
            "30\n"
          ]
        }
      ]
    },
    {
      "cell_type": "code",
      "source": [
        "li[4]"
      ],
      "metadata": {
        "colab": {
          "base_uri": "https://localhost:8080/"
        },
        "id": "cpCuNrcH0eWE",
        "outputId": "f790e441-a1e3-4d76-ae9d-7d51c3d719df"
      },
      "execution_count": null,
      "outputs": [
        {
          "output_type": "execute_result",
          "data": {
            "text/plain": [
              "50"
            ]
          },
          "metadata": {},
          "execution_count": 27
        }
      ]
    },
    {
      "cell_type": "code",
      "source": [
        "#Negative indexing\n",
        "li[-2]\n",
        "li[-5]"
      ],
      "metadata": {
        "colab": {
          "base_uri": "https://localhost:8080/"
        },
        "id": "FswoyXSP0nEE",
        "outputId": "788ca66b-68ec-45b6-8959-16df13487925"
      },
      "execution_count": null,
      "outputs": [
        {
          "output_type": "execute_result",
          "data": {
            "text/plain": [
              "10"
            ]
          },
          "metadata": {},
          "execution_count": 30
        }
      ]
    },
    {
      "cell_type": "markdown",
      "source": [
        "# Slicing\n",
        "\n",
        "[start:end:step]\n",
        "\n",
        "start will be the index value from where you want to start.\n",
        "\n",
        "end will be +1 to the index value where you want to stop."
      ],
      "metadata": {
        "id": "Fnc1ok652jPb"
      }
    },
    {
      "cell_type": "code",
      "source": [
        "li=[10,20,30,40,50]\n",
        "li[1:4]"
      ],
      "metadata": {
        "colab": {
          "base_uri": "https://localhost:8080/"
        },
        "id": "TFxb1lH82BEU",
        "outputId": "6cac35d9-b02a-4b16-a979-e4db4c596172"
      },
      "execution_count": null,
      "outputs": [
        {
          "output_type": "execute_result",
          "data": {
            "text/plain": [
              "[20, 30, 40]"
            ]
          },
          "metadata": {},
          "execution_count": 31
        }
      ]
    },
    {
      "cell_type": "code",
      "source": [
        "#Negative indexing\n",
        "li[-4:-1]"
      ],
      "metadata": {
        "colab": {
          "base_uri": "https://localhost:8080/"
        },
        "id": "wrueZqj95fCk",
        "outputId": "baf81508-261b-4743-b1c9-9b0adc9a2785"
      },
      "execution_count": null,
      "outputs": [
        {
          "output_type": "execute_result",
          "data": {
            "text/plain": [
              "[20, 30, 40]"
            ]
          },
          "metadata": {},
          "execution_count": 32
        }
      ]
    },
    {
      "cell_type": "code",
      "source": [
        "#To slice values from beginning (we can keep the start index as empty)\n",
        "li[:4]"
      ],
      "metadata": {
        "colab": {
          "base_uri": "https://localhost:8080/"
        },
        "id": "8edTx1f96ONr",
        "outputId": "b1c6601b-9a32-45af-c796-76f0def2cfb6"
      },
      "execution_count": null,
      "outputs": [
        {
          "output_type": "execute_result",
          "data": {
            "text/plain": [
              "[10, 20, 30, 40]"
            ]
          },
          "metadata": {},
          "execution_count": 33
        }
      ]
    },
    {
      "cell_type": "code",
      "source": [
        "#To slice values till the end of the list(we can skip the ending index as empty)\n",
        "li[1:]"
      ],
      "metadata": {
        "colab": {
          "base_uri": "https://localhost:8080/"
        },
        "id": "NH8Pq3MU7SAU",
        "outputId": "24de76c8-b9a0-4525-9270-7178d535ccc7"
      },
      "execution_count": null,
      "outputs": [
        {
          "output_type": "execute_result",
          "data": {
            "text/plain": [
              "[20, 30, 40, 50]"
            ]
          },
          "metadata": {},
          "execution_count": 34
        }
      ]
    },
    {
      "cell_type": "code",
      "source": [
        "#full list\n",
        "li[:]"
      ],
      "metadata": {
        "colab": {
          "base_uri": "https://localhost:8080/"
        },
        "id": "9ciROpSU7p9r",
        "outputId": "e3091635-aac1-456d-8ad8-f2546dc6e454"
      },
      "execution_count": null,
      "outputs": [
        {
          "output_type": "execute_result",
          "data": {
            "text/plain": [
              "[10, 20, 30, 40, 50]"
            ]
          },
          "metadata": {},
          "execution_count": 35
        }
      ]
    },
    {
      "cell_type": "code",
      "source": [
        "li=[1,2,3,4,5,6,7,8,9,10]\n",
        "li[::2]    #it skips one value,by default the step size will be 1."
      ],
      "metadata": {
        "id": "eJ38JMIt73Un",
        "colab": {
          "base_uri": "https://localhost:8080/"
        },
        "outputId": "83d4c885-6be7-4719-b221-9a62e884e6f2"
      },
      "execution_count": null,
      "outputs": [
        {
          "output_type": "execute_result",
          "data": {
            "text/plain": [
              "[1, 3, 5, 7, 9]"
            ]
          },
          "metadata": {},
          "execution_count": 3
        }
      ]
    },
    {
      "cell_type": "code",
      "source": [
        "#if you want to get the even values\n",
        "li=[1,2,3,4,5,6,7,8,9,10]\n",
        "li[1::2]"
      ],
      "metadata": {
        "colab": {
          "base_uri": "https://localhost:8080/"
        },
        "id": "TuxNFcbDvgCe",
        "outputId": "f43d09ab-ea0e-4055-cc6f-558739532003"
      },
      "execution_count": null,
      "outputs": [
        {
          "output_type": "execute_result",
          "data": {
            "text/plain": [
              "[2, 4, 6, 8, 10]"
            ]
          },
          "metadata": {},
          "execution_count": 4
        }
      ]
    },
    {
      "cell_type": "markdown",
      "source": [
        "# Nested List-List inside a list"
      ],
      "metadata": {
        "id": "QRScaDxDxvkw"
      }
    },
    {
      "cell_type": "code",
      "source": [
        "       # 0 1  2  3   4   5        6        7  8 9  10   11\n",
        "my_list=[0,3,25,'q','w','e',['r','t','h'],'q',6,8,True,False]   #list inside a list\n",
        "my_list[5]"
      ],
      "metadata": {
        "colab": {
          "base_uri": "https://localhost:8080/",
          "height": 35
        },
        "id": "-D4urGiFw_Tf",
        "outputId": "4c637f58-ef8e-483c-bb3e-3507d0fb161c"
      },
      "execution_count": null,
      "outputs": [
        {
          "output_type": "execute_result",
          "data": {
            "text/plain": [
              "'e'"
            ],
            "application/vnd.google.colaboratory.intrinsic+json": {
              "type": "string"
            }
          },
          "metadata": {},
          "execution_count": 5
        }
      ]
    },
    {
      "cell_type": "code",
      "source": [
        "my_list[6][1]"
      ],
      "metadata": {
        "colab": {
          "base_uri": "https://localhost:8080/",
          "height": 35
        },
        "id": "TFxglb-YyRui",
        "outputId": "a3405493-3cd6-4d6d-ecda-9a6c652f4d72"
      },
      "execution_count": null,
      "outputs": [
        {
          "output_type": "execute_result",
          "data": {
            "text/plain": [
              "'t'"
            ],
            "application/vnd.google.colaboratory.intrinsic+json": {
              "type": "string"
            }
          },
          "metadata": {},
          "execution_count": 7
        }
      ]
    },
    {
      "cell_type": "code",
      "source": [
        "#        0 1  2  3   4   5       6           7  8 9  10   11\n",
        "my_list=[0,3,25,'q','w','e',['r',['t','h']],'q',6,8,True,False]"
      ],
      "metadata": {
        "id": "0luiVMAXycab"
      },
      "execution_count": null,
      "outputs": []
    },
    {
      "cell_type": "code",
      "source": [
        "my_list[6][1][1]"
      ],
      "metadata": {
        "colab": {
          "base_uri": "https://localhost:8080/",
          "height": 35
        },
        "id": "woI37g75zKa5",
        "outputId": "66199b2e-698d-4af2-b23c-b6128779ba9a"
      },
      "execution_count": null,
      "outputs": [
        {
          "output_type": "execute_result",
          "data": {
            "text/plain": [
              "'h'"
            ],
            "application/vnd.google.colaboratory.intrinsic+json": {
              "type": "string"
            }
          },
          "metadata": {},
          "execution_count": 11
        }
      ]
    },
    {
      "cell_type": "code",
      "source": [
        "#Methods in list\n",
        "my_list=[\"tea\",\"Milk\",\"coffe\",\"rice\"]\n",
        "#i want toa add veg biryani in my list\n",
        "#.append()-It adds the element by the end of the list\n",
        "my_list.append(\"Veg Biryani\")"
      ],
      "metadata": {
        "id": "0G4ioN7XzcuC"
      },
      "execution_count": null,
      "outputs": []
    },
    {
      "cell_type": "code",
      "source": [
        "my_list"
      ],
      "metadata": {
        "colab": {
          "base_uri": "https://localhost:8080/"
        },
        "id": "cVEm1ujm0umB",
        "outputId": "5e8d17cd-2edd-48d6-c71d-9a0a19abaf5d"
      },
      "execution_count": null,
      "outputs": [
        {
          "output_type": "execute_result",
          "data": {
            "text/plain": [
              "['tea', 'Milk', 'coffe', 'rice', 'Veg Biryani']"
            ]
          },
          "metadata": {},
          "execution_count": 13
        }
      ]
    },
    {
      "cell_type": "code",
      "source": [
        "#.insert(index,element)-to insert element at a particular index\n",
        "# i want to add toffee after coffee\n",
        "my_list.insert(3,\"Toffee\")"
      ],
      "metadata": {
        "id": "hIIkcc6n0vkV"
      },
      "execution_count": null,
      "outputs": []
    },
    {
      "cell_type": "code",
      "source": [
        "my_list"
      ],
      "metadata": {
        "colab": {
          "base_uri": "https://localhost:8080/"
        },
        "id": "FxY1clz_1qXe",
        "outputId": "e428f519-0a38-45a6-a300-60ca0abd0aa3"
      },
      "execution_count": null,
      "outputs": [
        {
          "output_type": "execute_result",
          "data": {
            "text/plain": [
              "['tea', 'Milk', 'coffe', 'Toffee', 'rice', 'Veg Biryani']"
            ]
          },
          "metadata": {},
          "execution_count": 15
        }
      ]
    },
    {
      "cell_type": "code",
      "source": [
        "#.remove()-It deletes the value\n",
        "my_list.remove(\"Veg Biryani\")"
      ],
      "metadata": {
        "id": "g_A-qDhZ1rMd"
      },
      "execution_count": null,
      "outputs": []
    },
    {
      "cell_type": "code",
      "source": [
        "my_list"
      ],
      "metadata": {
        "colab": {
          "base_uri": "https://localhost:8080/"
        },
        "id": "fv_boMor2Mva",
        "outputId": "d3be7c42-33c1-47a8-9e14-a1f98fa6d40b"
      },
      "execution_count": null,
      "outputs": [
        {
          "output_type": "execute_result",
          "data": {
            "text/plain": [
              "['tea', 'Milk', 'coffe', 'Toffee', 'rice']"
            ]
          },
          "metadata": {},
          "execution_count": 17
        }
      ]
    },
    {
      "cell_type": "code",
      "source": [
        "del my_list[1:4]"
      ],
      "metadata": {
        "id": "0UzSsHMa2OMY"
      },
      "execution_count": null,
      "outputs": []
    },
    {
      "cell_type": "code",
      "source": [
        "my_list"
      ],
      "metadata": {
        "colab": {
          "base_uri": "https://localhost:8080/"
        },
        "id": "CI0Ck5U622GI",
        "outputId": "93b15c84-b432-4f05-a6b0-bc31cd437c55"
      },
      "execution_count": null,
      "outputs": [
        {
          "output_type": "execute_result",
          "data": {
            "text/plain": [
              "['tea', 'rice']"
            ]
          },
          "metadata": {},
          "execution_count": 19
        }
      ]
    },
    {
      "cell_type": "code",
      "source": [
        "#.index()-Gives you the index value of a element\n",
        "my_list.index(\"tea\")"
      ],
      "metadata": {
        "colab": {
          "base_uri": "https://localhost:8080/"
        },
        "id": "TLe2aiuN23Jb",
        "outputId": "f8b288ed-26a3-46f0-a292-5f3d1687b504"
      },
      "execution_count": null,
      "outputs": [
        {
          "output_type": "execute_result",
          "data": {
            "text/plain": [
              "0"
            ]
          },
          "metadata": {},
          "execution_count": 21
        }
      ]
    },
    {
      "cell_type": "code",
      "source": [
        "li=[\"tea\",\"coffe\",\"toffe\",\"coffe\",\"rice\"]\n",
        "index_1=li.index(\"coffe\")"
      ],
      "metadata": {
        "id": "d1tX791K3eON"
      },
      "execution_count": null,
      "outputs": []
    },
    {
      "cell_type": "code",
      "source": [
        "index_2=li.index(\"coffe\",index_1+1)"
      ],
      "metadata": {
        "id": "00f7IcZm6jk_"
      },
      "execution_count": null,
      "outputs": []
    },
    {
      "cell_type": "code",
      "source": [
        "index_2"
      ],
      "metadata": {
        "colab": {
          "base_uri": "https://localhost:8080/"
        },
        "id": "sBgPlrPE6odV",
        "outputId": "39bf01b5-14bc-494a-b4af-beb9eb9dd309"
      },
      "execution_count": null,
      "outputs": [
        {
          "output_type": "execute_result",
          "data": {
            "text/plain": [
              "3"
            ]
          },
          "metadata": {},
          "execution_count": 28
        }
      ]
    },
    {
      "cell_type": "code",
      "source": [
        "li=[1,2,3,4,\"Birayni\",\"Coffe\"]\n",
        "li[4]=\"Maggi\""
      ],
      "metadata": {
        "id": "i4nhom-n8Q1O"
      },
      "execution_count": null,
      "outputs": []
    },
    {
      "cell_type": "code",
      "source": [
        "li"
      ],
      "metadata": {
        "colab": {
          "base_uri": "https://localhost:8080/"
        },
        "id": "HTpTd7fH8f_I",
        "outputId": "0772ab1a-6a20-4088-8f74-a1e2cb3ac752"
      },
      "execution_count": null,
      "outputs": [
        {
          "output_type": "execute_result",
          "data": {
            "text/plain": [
              "[1, 2, 3, 4, 'Maggi', 'Coffe']"
            ]
          },
          "metadata": {},
          "execution_count": 33
        }
      ]
    },
    {
      "cell_type": "code",
      "source": [
        "list1=[\"tea\",\"coffe\",\"rice\"]\n",
        "list2=[\"Biryani\",\"Maggie\",\"Toffe\"]\n",
        "merge_list=list1+list2"
      ],
      "metadata": {
        "id": "foBMCPoT8v7b"
      },
      "execution_count": null,
      "outputs": []
    },
    {
      "cell_type": "code",
      "source": [
        "merge_list"
      ],
      "metadata": {
        "colab": {
          "base_uri": "https://localhost:8080/"
        },
        "id": "YbHq713X8_Ir",
        "outputId": "7b42f83e-6c00-4740-9993-686c2fa9d995"
      },
      "execution_count": null,
      "outputs": [
        {
          "output_type": "execute_result",
          "data": {
            "text/plain": [
              "['tea', 'coffe', 'rice', 'Biryani', 'Maggie', 'Toffe']"
            ]
          },
          "metadata": {},
          "execution_count": 35
        }
      ]
    },
    {
      "cell_type": "markdown",
      "source": [
        "# Tuple\n",
        "\n",
        "It stores multiple values of different datatype.\n",
        "\n",
        "To create tuple we use () round brackets.\n",
        "\n",
        "Tuples are immutable."
      ],
      "metadata": {
        "id": "BHUvqPR_6dhL"
      }
    },
    {
      "cell_type": "code",
      "source": [
        "tup1=(1,2,3,\"a\",34.5,\"b\",8,1)\n",
        "tup1"
      ],
      "metadata": {
        "colab": {
          "base_uri": "https://localhost:8080/"
        },
        "id": "H2VKDpV16O38",
        "outputId": "0e2e5bbc-93cb-4b7c-f992-08971372a686"
      },
      "execution_count": null,
      "outputs": [
        {
          "output_type": "execute_result",
          "data": {
            "text/plain": [
              "(1, 2, 3, 'a', 34.5, 'b', 8, 1)"
            ]
          },
          "metadata": {},
          "execution_count": 30
        }
      ]
    },
    {
      "cell_type": "code",
      "source": [
        "tup1[3]"
      ],
      "metadata": {
        "colab": {
          "base_uri": "https://localhost:8080/",
          "height": 35
        },
        "id": "FMtj9E4h8ANB",
        "outputId": "5a8f815f-b46b-4c1f-8ea2-905c1709fcd7"
      },
      "execution_count": null,
      "outputs": [
        {
          "output_type": "execute_result",
          "data": {
            "text/plain": [
              "'a'"
            ],
            "application/vnd.google.colaboratory.intrinsic+json": {
              "type": "string"
            }
          },
          "metadata": {},
          "execution_count": 31
        }
      ]
    },
    {
      "cell_type": "code",
      "source": [
        "tup1[3]=\"c\""
      ],
      "metadata": {
        "colab": {
          "base_uri": "https://localhost:8080/",
          "height": 141
        },
        "id": "aKUFV_Cj8I08",
        "outputId": "a7c11f7a-0b87-4db1-e3c7-a0ef39ba1bbe"
      },
      "execution_count": null,
      "outputs": [
        {
          "output_type": "error",
          "ename": "TypeError",
          "evalue": "'tuple' object does not support item assignment",
          "traceback": [
            "\u001b[0;31m---------------------------------------------------------------------------\u001b[0m",
            "\u001b[0;31mTypeError\u001b[0m                                 Traceback (most recent call last)",
            "\u001b[0;32m<ipython-input-36-11928e77f273>\u001b[0m in \u001b[0;36m<cell line: 0>\u001b[0;34m()\u001b[0m\n\u001b[0;32m----> 1\u001b[0;31m \u001b[0mtup1\u001b[0m\u001b[0;34m[\u001b[0m\u001b[0;36m3\u001b[0m\u001b[0;34m]\u001b[0m\u001b[0;34m=\u001b[0m\u001b[0;34m\"c\"\u001b[0m\u001b[0;34m\u001b[0m\u001b[0;34m\u001b[0m\u001b[0m\n\u001b[0m",
            "\u001b[0;31mTypeError\u001b[0m: 'tuple' object does not support item assignment"
          ]
        }
      ]
    },
    {
      "cell_type": "code",
      "source": [
        "#Methods in tuple\n",
        "#.index()\n",
        "tup1.index(\"a\")"
      ],
      "metadata": {
        "colab": {
          "base_uri": "https://localhost:8080/"
        },
        "id": "HsYShdRF9MeT",
        "outputId": "47902abf-1513-452d-d8a2-069646887d7d"
      },
      "execution_count": null,
      "outputs": [
        {
          "output_type": "execute_result",
          "data": {
            "text/plain": [
              "3"
            ]
          },
          "metadata": {},
          "execution_count": 37
        }
      ]
    },
    {
      "cell_type": "code",
      "source": [
        "#count()-it will count the frequency of a particular element\n",
        "tup1.count(1)"
      ],
      "metadata": {
        "colab": {
          "base_uri": "https://localhost:8080/"
        },
        "id": "A4ht7QB29p9V",
        "outputId": "01a3dbaa-5c59-453d-f34d-b39f411e09f9"
      },
      "execution_count": null,
      "outputs": [
        {
          "output_type": "execute_result",
          "data": {
            "text/plain": [
              "2"
            ]
          },
          "metadata": {},
          "execution_count": 38
        }
      ]
    },
    {
      "cell_type": "markdown",
      "source": [
        "# Strings\n",
        "\n",
        "Text Data type\n",
        "\n",
        "It follows indexing\n",
        "\n",
        "It is immutable."
      ],
      "metadata": {
        "id": "WtnSGoZK--9y"
      }
    },
    {
      "cell_type": "code",
      "source": [
        "    # 012345678910\n",
        "name=\"Rahul Kumar\"\n",
        "name[7:10]"
      ],
      "metadata": {
        "colab": {
          "base_uri": "https://localhost:8080/",
          "height": 35
        },
        "id": "VjWScDwr-IVu",
        "outputId": "f25ccf7d-01a3-4245-8349-0a902375b0be"
      },
      "execution_count": null,
      "outputs": [
        {
          "output_type": "execute_result",
          "data": {
            "text/plain": [
              "'uma'"
            ],
            "application/vnd.google.colaboratory.intrinsic+json": {
              "type": "string"
            }
          },
          "metadata": {},
          "execution_count": 39
        }
      ]
    },
    {
      "cell_type": "code",
      "source": [
        "name[6:]"
      ],
      "metadata": {
        "colab": {
          "base_uri": "https://localhost:8080/",
          "height": 35
        },
        "id": "L3m0mJAH_ySd",
        "outputId": "125abb47-1923-4a2f-f6f5-a4267fd091e1"
      },
      "execution_count": null,
      "outputs": [
        {
          "output_type": "execute_result",
          "data": {
            "text/plain": [
              "'Kumar'"
            ],
            "application/vnd.google.colaboratory.intrinsic+json": {
              "type": "string"
            }
          },
          "metadata": {},
          "execution_count": 40
        }
      ]
    },
    {
      "cell_type": "code",
      "source": [
        "name[2]=\"k\""
      ],
      "metadata": {
        "colab": {
          "base_uri": "https://localhost:8080/",
          "height": 141
        },
        "id": "m7g7-AlyAAH6",
        "outputId": "99462016-5129-4283-bd0c-5033f9374142"
      },
      "execution_count": null,
      "outputs": [
        {
          "output_type": "error",
          "ename": "TypeError",
          "evalue": "'str' object does not support item assignment",
          "traceback": [
            "\u001b[0;31m---------------------------------------------------------------------------\u001b[0m",
            "\u001b[0;31mTypeError\u001b[0m                                 Traceback (most recent call last)",
            "\u001b[0;32m<ipython-input-41-2bf114e46260>\u001b[0m in \u001b[0;36m<cell line: 0>\u001b[0;34m()\u001b[0m\n\u001b[0;32m----> 1\u001b[0;31m \u001b[0mname\u001b[0m\u001b[0;34m[\u001b[0m\u001b[0;36m2\u001b[0m\u001b[0;34m]\u001b[0m\u001b[0;34m=\u001b[0m\u001b[0;34m\"k\"\u001b[0m\u001b[0;34m\u001b[0m\u001b[0;34m\u001b[0m\u001b[0m\n\u001b[0m",
            "\u001b[0;31mTypeError\u001b[0m: 'str' object does not support item assignment"
          ]
        }
      ]
    },
    {
      "cell_type": "code",
      "source": [
        "#Methods in strings\n",
        "#.lower()-Convert all the letters into lower case\n",
        "name.lower()"
      ],
      "metadata": {
        "colab": {
          "base_uri": "https://localhost:8080/",
          "height": 35
        },
        "id": "J1JaTxZGAXRO",
        "outputId": "648b21a9-5fc4-4afe-deea-2f5faf36506a"
      },
      "execution_count": null,
      "outputs": [
        {
          "output_type": "execute_result",
          "data": {
            "text/plain": [
              "'rahul kumar'"
            ],
            "application/vnd.google.colaboratory.intrinsic+json": {
              "type": "string"
            }
          },
          "metadata": {},
          "execution_count": 42
        }
      ]
    },
    {
      "cell_type": "code",
      "source": [
        "#.upper()-Convert all the letters into upper case\n",
        "name.upper()"
      ],
      "metadata": {
        "colab": {
          "base_uri": "https://localhost:8080/",
          "height": 35
        },
        "id": "ehP1M2NEAr82",
        "outputId": "68136531-6062-4f69-d71f-8b90b04d3223"
      },
      "execution_count": null,
      "outputs": [
        {
          "output_type": "execute_result",
          "data": {
            "text/plain": [
              "'RAHUL KUMAR'"
            ],
            "application/vnd.google.colaboratory.intrinsic+json": {
              "type": "string"
            }
          },
          "metadata": {},
          "execution_count": 43
        }
      ]
    },
    {
      "cell_type": "code",
      "source": [
        "#.capitalized()-It will Capitilize the first letter of the string\n",
        "name.capitalize()"
      ],
      "metadata": {
        "colab": {
          "base_uri": "https://localhost:8080/",
          "height": 35
        },
        "id": "51xoHkofA1UE",
        "outputId": "0d894aea-e68d-460e-87d4-fb1bfb2c2cd1"
      },
      "execution_count": null,
      "outputs": [
        {
          "output_type": "execute_result",
          "data": {
            "text/plain": [
              "'Rahul kumar'"
            ],
            "application/vnd.google.colaboratory.intrinsic+json": {
              "type": "string"
            }
          },
          "metadata": {},
          "execution_count": 44
        }
      ]
    },
    {
      "cell_type": "code",
      "source": [
        "#title()-It will capitalize all the first character of the string\n",
        "name.title()"
      ],
      "metadata": {
        "colab": {
          "base_uri": "https://localhost:8080/",
          "height": 35
        },
        "id": "Ov35CoGwBEK7",
        "outputId": "c461bb34-1e54-4ce6-f5ef-c7c7130822fc"
      },
      "execution_count": null,
      "outputs": [
        {
          "output_type": "execute_result",
          "data": {
            "text/plain": [
              "'Rahul Kumar'"
            ],
            "application/vnd.google.colaboratory.intrinsic+json": {
              "type": "string"
            }
          },
          "metadata": {},
          "execution_count": 45
        }
      ]
    },
    {
      "cell_type": "code",
      "source": [
        "name"
      ],
      "metadata": {
        "colab": {
          "base_uri": "https://localhost:8080/",
          "height": 35
        },
        "id": "jT6cey7JBQaO",
        "outputId": "40440e5f-0dea-423c-8a4b-04cddef56efb"
      },
      "execution_count": null,
      "outputs": [
        {
          "output_type": "execute_result",
          "data": {
            "text/plain": [
              "'Rahul Kumar'"
            ],
            "application/vnd.google.colaboratory.intrinsic+json": {
              "type": "string"
            }
          },
          "metadata": {},
          "execution_count": 46
        }
      ]
    },
    {
      "cell_type": "code",
      "source": [
        "name=\"Kavia\"\n",
        "index=2    # v index is 2\n",
        "\n",
        "    #name[2]=v   v.upper()=V\n",
        "upp=name[index].upper()   #upp=V"
      ],
      "metadata": {
        "id": "wFKjlMaaBdT9"
      },
      "execution_count": null,
      "outputs": []
    },
    {
      "cell_type": "code",
      "source": [
        "         #ka           V    ia\n",
        "new_name=name[:index]+upp+name[index+1:]"
      ],
      "metadata": {
        "id": "kimi8gJ_CLoB"
      },
      "execution_count": null,
      "outputs": []
    },
    {
      "cell_type": "code",
      "source": [
        "new_name"
      ],
      "metadata": {
        "colab": {
          "base_uri": "https://localhost:8080/",
          "height": 35
        },
        "id": "A804wDvnCW00",
        "outputId": "84260ae8-822f-4b6b-f7ee-c56ec82110a1"
      },
      "execution_count": null,
      "outputs": [
        {
          "output_type": "execute_result",
          "data": {
            "text/plain": [
              "'KaVia'"
            ],
            "application/vnd.google.colaboratory.intrinsic+json": {
              "type": "string"
            }
          },
          "metadata": {},
          "execution_count": 49
        }
      ]
    },
    {
      "cell_type": "code",
      "source": [
        "#strip()-It will remove the whitespace from the string\n",
        "name='   Kanhaiya'\n",
        "name.strip()"
      ],
      "metadata": {
        "colab": {
          "base_uri": "https://localhost:8080/",
          "height": 35
        },
        "id": "w70gKFoACX_b",
        "outputId": "95560707-a62c-426d-d553-54c2dc5995b8"
      },
      "execution_count": null,
      "outputs": [
        {
          "output_type": "execute_result",
          "data": {
            "text/plain": [
              "'Kanhaiya'"
            ],
            "application/vnd.google.colaboratory.intrinsic+json": {
              "type": "string"
            }
          },
          "metadata": {},
          "execution_count": 50
        }
      ]
    },
    {
      "cell_type": "code",
      "source": [
        "#split()-Splits the string into multiple values by selecting a seperator\n",
        "data=\"Kavia,Abhinav,Vikas,Rahul,Naresh\"\n",
        "y=data.split(\",\")"
      ],
      "metadata": {
        "id": "WRK0rf3oEhdv"
      },
      "execution_count": null,
      "outputs": []
    },
    {
      "cell_type": "code",
      "source": [
        "y"
      ],
      "metadata": {
        "colab": {
          "base_uri": "https://localhost:8080/"
        },
        "id": "gYb_xUvpFMxW",
        "outputId": "725e0193-39b0-48a6-9344-086b7cdd6d4d"
      },
      "execution_count": null,
      "outputs": [
        {
          "output_type": "execute_result",
          "data": {
            "text/plain": [
              "['Kavia', 'Abhinav', 'Vikas', 'Rahul', 'Naresh']"
            ]
          },
          "metadata": {},
          "execution_count": 54
        }
      ]
    },
    {
      "cell_type": "code",
      "source": [
        "a = 10\n",
        "b = 3\n",
        "print(a/b)"
      ],
      "metadata": {
        "colab": {
          "base_uri": "https://localhost:8080/"
        },
        "id": "0ckBy7VeihGH",
        "outputId": "e9e1a8f4-2b44-49cd-87ac-ea74ff0032c0"
      },
      "execution_count": null,
      "outputs": [
        {
          "output_type": "stream",
          "name": "stdout",
          "text": [
            "3.3333333333333335\n"
          ]
        }
      ]
    },
    {
      "cell_type": "code",
      "source": [
        "a = 10\n",
        "b = 3\n",
        "print(a//b)"
      ],
      "metadata": {
        "colab": {
          "base_uri": "https://localhost:8080/"
        },
        "id": "AP65CxHOirgK",
        "outputId": "f6058a08-9330-497b-8724-bf61a946ba5b"
      },
      "execution_count": null,
      "outputs": [
        {
          "output_type": "stream",
          "name": "stdout",
          "text": [
            "3\n"
          ]
        }
      ]
    },
    {
      "cell_type": "markdown",
      "source": [
        "#Topic : Conditional statement\n",
        "\n",
        "def:  conditional statement in python are used to make decisions in your program\n"
      ],
      "metadata": {
        "id": "B6iKftRpTcfG"
      }
    },
    {
      "cell_type": "code",
      "source": [
        "# if statement:\n",
        "\n",
        "# def:  an if statement checks whether the condition is true\n",
        "# and if it is true , the code inside if will execute or run\n",
        "# it is false, the code is skipped\n",
        "\n",
        "\n",
        "# syntax:\n",
        "\n",
        "\n",
        "if conditon:\n",
        "  # code"
      ],
      "metadata": {
        "id": "PjoPeca_FegD"
      },
      "execution_count": null,
      "outputs": []
    },
    {
      "cell_type": "code",
      "source": [
        "age = 10\n",
        "if age>18:\n",
        "  print(\"you are an adult\")"
      ],
      "metadata": {
        "id": "kZLFtydPUPHe"
      },
      "execution_count": null,
      "outputs": []
    },
    {
      "cell_type": "code",
      "source": [
        "temp = 20\n",
        "if temp > 25:\n",
        "  print(\"it is a hot day\")"
      ],
      "metadata": {
        "id": "709BXLqbUqTe"
      },
      "execution_count": null,
      "outputs": []
    },
    {
      "cell_type": "code",
      "source": [
        "age = int(input(\"enter you age\"))\n",
        "if age>18:\n",
        "  print(\"you are an adult\")"
      ],
      "metadata": {
        "colab": {
          "base_uri": "https://localhost:8080/"
        },
        "id": "E2QzyvvXU89C",
        "outputId": "c13f3ea1-7324-4357-a7d5-5ab7f69a62f6"
      },
      "execution_count": null,
      "outputs": [
        {
          "output_type": "stream",
          "name": "stdout",
          "text": [
            "enter you age20\n",
            "you are an adult\n"
          ]
        }
      ]
    },
    {
      "cell_type": "code",
      "source": [
        "# input is user input function . you have to mention the type before the function name\n",
        "# because by default , this input function will take everything as a string\n",
        "name = input(\"enter your name\")\n",
        "\n",
        "if name == \"roopneet\":\n",
        "  print(\"hi welcome to our class\")"
      ],
      "metadata": {
        "colab": {
          "base_uri": "https://localhost:8080/"
        },
        "id": "9xRkBdo9VvME",
        "outputId": "582da118-ffd6-47b4-ca00-4c9e4a9ddbc9"
      },
      "execution_count": null,
      "outputs": [
        {
          "output_type": "stream",
          "name": "stdout",
          "text": [
            "enter your nameroopneet\n",
            "hi welcome to our class\n"
          ]
        }
      ]
    },
    {
      "cell_type": "code",
      "source": [
        "# else : an f -else statement provide two options:\n",
        "# one for when the condition is true and another for when the\n",
        " # condition is false\n",
        "\n",
        "number = int(input(\"enter the number\"))\n",
        "if number %2 == 0:\n",
        "  print(\"even\")\n",
        "else:\n",
        "  print(\"odd\")"
      ],
      "metadata": {
        "colab": {
          "base_uri": "https://localhost:8080/"
        },
        "id": "N0oKAzqgWZpa",
        "outputId": "2fde97de-cd72-428e-ae42-512dc5f1ea96"
      },
      "execution_count": null,
      "outputs": [
        {
          "output_type": "stream",
          "name": "stdout",
          "text": [
            "enter the number20\n",
            "even\n"
          ]
        }
      ]
    },
    {
      "cell_type": "code",
      "source": [
        "age= int(input(\"your age\"))\n",
        "if age>18:\n",
        " print(\"you are eligible\")"
      ],
      "metadata": {
        "colab": {
          "base_uri": "https://localhost:8080/"
        },
        "id": "ls1YVCI3XUO2",
        "outputId": "270af52d-82bc-4300-a590-f9aaaf4dd975"
      },
      "execution_count": null,
      "outputs": [
        {
          "output_type": "stream",
          "name": "stdout",
          "text": [
            "your age21\n",
            "you are eligible\n"
          ]
        }
      ]
    },
    {
      "cell_type": "code",
      "source": [
        "name= input(\"enter your name\")\n",
        "if name == \"kanhaiya\":\n",
        "  print(\"hi welcome to our class\")"
      ],
      "metadata": {
        "colab": {
          "base_uri": "https://localhost:8080/"
        },
        "id": "JOvkcvWEXl23",
        "outputId": "88e2c1d9-03f8-42e6-d440-e72f6cefb19c"
      },
      "execution_count": null,
      "outputs": [
        {
          "output_type": "stream",
          "name": "stdout",
          "text": [
            "enter your namekanhaiya\n",
            "hi welcome to our class\n"
          ]
        }
      ]
    },
    {
      "cell_type": "code",
      "source": [
        "temp=20\n",
        "if temp > 25:\n",
        " print(\"it is a hot day\")"
      ],
      "metadata": {
        "id": "sN7jDxXKX4-c"
      },
      "execution_count": null,
      "outputs": []
    },
    {
      "cell_type": "code",
      "source": [
        "age = 30\n",
        "if age == 30:\n",
        "   print(\"you are a mature person\")"
      ],
      "metadata": {
        "colab": {
          "base_uri": "https://localhost:8080/"
        },
        "id": "4agmJw9uYMt1",
        "outputId": "ddec7f9f-50b1-4a87-a855-4501f2d31a13"
      },
      "execution_count": null,
      "outputs": [
        {
          "output_type": "stream",
          "name": "stdout",
          "text": [
            "you are a mature person\n"
          ]
        }
      ]
    },
    {
      "cell_type": "code",
      "source": [
        "marks = int(input(\"enter your marks : \"))\n",
        "if marks > 80:\n",
        "  print(\"you are brilliant student\")\n",
        "else:\n",
        "  print(\"work hard\")"
      ],
      "metadata": {
        "colab": {
          "base_uri": "https://localhost:8080/"
        },
        "id": "zSdUMniOY254",
        "outputId": "0ba0a9d7-1b91-4d14-b403-3b99a735e8ec"
      },
      "execution_count": null,
      "outputs": [
        {
          "output_type": "stream",
          "name": "stdout",
          "text": [
            "enter your marks : 88\n",
            "you are brilliant student\n"
          ]
        }
      ]
    },
    {
      "cell_type": "code",
      "source": [
        "name= input (\"Enter your name \")\n",
        "if name == \"Vikesh\":\n",
        "\n",
        "  print(\"Hi Welcome to our class\")"
      ],
      "metadata": {
        "colab": {
          "base_uri": "https://localhost:8080/"
        },
        "id": "7VHt1GfsZUNT",
        "outputId": "cd2d9644-9c62-44bd-d8e1-a45c9c49dbc9"
      },
      "execution_count": null,
      "outputs": [
        {
          "output_type": "stream",
          "name": "stdout",
          "text": [
            "Enter your name  Vikesh \n",
            "Hi Welcome to our class\n"
          ]
        }
      ]
    },
    {
      "cell_type": "code",
      "source": [
        "# elif statement (short for else -if):\n",
        "# check another condition if previous condition was false\n",
        "# you can have multiple conditions\n",
        "\n",
        "\n",
        "marks = int(input(\"enter your marks\"))\n",
        "if marks >= 90:\n",
        "  print(\"Grade: A\")\n",
        "\n",
        "elif marks >= 75:\n",
        "  print(\"Grade: B\")\n",
        "\n",
        "else:\n",
        "  print(\"Grade : C\")"
      ],
      "metadata": {
        "colab": {
          "base_uri": "https://localhost:8080/",
          "height": 369
        },
        "id": "vrPJIbuiZPrM",
        "outputId": "9252177e-7f83-4158-bb44-2284825ed32b"
      },
      "execution_count": null,
      "outputs": [
        {
          "output_type": "error",
          "ename": "KeyboardInterrupt",
          "evalue": "Interrupted by user",
          "traceback": [
            "\u001b[0;31m---------------------------------------------------------------------------\u001b[0m",
            "\u001b[0;31mKeyboardInterrupt\u001b[0m                         Traceback (most recent call last)",
            "\u001b[0;32m<ipython-input-30-66baf13e7546>\u001b[0m in \u001b[0;36m<cell line: 0>\u001b[0;34m()\u001b[0m\n\u001b[1;32m      4\u001b[0m \u001b[0;34m\u001b[0m\u001b[0m\n\u001b[1;32m      5\u001b[0m \u001b[0;34m\u001b[0m\u001b[0m\n\u001b[0;32m----> 6\u001b[0;31m \u001b[0mmarks\u001b[0m \u001b[0;34m=\u001b[0m \u001b[0mint\u001b[0m\u001b[0;34m(\u001b[0m\u001b[0minput\u001b[0m\u001b[0;34m(\u001b[0m\u001b[0;34m\"enter your marks\"\u001b[0m\u001b[0;34m)\u001b[0m\u001b[0;34m)\u001b[0m\u001b[0;34m\u001b[0m\u001b[0;34m\u001b[0m\u001b[0m\n\u001b[0m\u001b[1;32m      7\u001b[0m \u001b[0;32mif\u001b[0m \u001b[0mmarks\u001b[0m \u001b[0;34m>=\u001b[0m \u001b[0;36m90\u001b[0m\u001b[0;34m:\u001b[0m\u001b[0;34m\u001b[0m\u001b[0;34m\u001b[0m\u001b[0m\n\u001b[1;32m      8\u001b[0m   \u001b[0mprint\u001b[0m\u001b[0;34m(\u001b[0m\u001b[0;34m\"Grade: A\"\u001b[0m\u001b[0;34m)\u001b[0m\u001b[0;34m\u001b[0m\u001b[0;34m\u001b[0m\u001b[0m\n",
            "\u001b[0;32m/usr/local/lib/python3.11/dist-packages/ipykernel/kernelbase.py\u001b[0m in \u001b[0;36mraw_input\u001b[0;34m(self, prompt)\u001b[0m\n\u001b[1;32m   1175\u001b[0m                 \u001b[0;34m\"raw_input was called, but this frontend does not support input requests.\"\u001b[0m\u001b[0;34m\u001b[0m\u001b[0;34m\u001b[0m\u001b[0m\n\u001b[1;32m   1176\u001b[0m             )\n\u001b[0;32m-> 1177\u001b[0;31m         return self._input_request(\n\u001b[0m\u001b[1;32m   1178\u001b[0m             \u001b[0mstr\u001b[0m\u001b[0;34m(\u001b[0m\u001b[0mprompt\u001b[0m\u001b[0;34m)\u001b[0m\u001b[0;34m,\u001b[0m\u001b[0;34m\u001b[0m\u001b[0;34m\u001b[0m\u001b[0m\n\u001b[1;32m   1179\u001b[0m             \u001b[0mself\u001b[0m\u001b[0;34m.\u001b[0m\u001b[0m_parent_ident\u001b[0m\u001b[0;34m[\u001b[0m\u001b[0;34m\"shell\"\u001b[0m\u001b[0;34m]\u001b[0m\u001b[0;34m,\u001b[0m\u001b[0;34m\u001b[0m\u001b[0;34m\u001b[0m\u001b[0m\n",
            "\u001b[0;32m/usr/local/lib/python3.11/dist-packages/ipykernel/kernelbase.py\u001b[0m in \u001b[0;36m_input_request\u001b[0;34m(self, prompt, ident, parent, password)\u001b[0m\n\u001b[1;32m   1217\u001b[0m             \u001b[0;32mexcept\u001b[0m \u001b[0mKeyboardInterrupt\u001b[0m\u001b[0;34m:\u001b[0m\u001b[0;34m\u001b[0m\u001b[0;34m\u001b[0m\u001b[0m\n\u001b[1;32m   1218\u001b[0m                 \u001b[0;31m# re-raise KeyboardInterrupt, to truncate traceback\u001b[0m\u001b[0;34m\u001b[0m\u001b[0;34m\u001b[0m\u001b[0m\n\u001b[0;32m-> 1219\u001b[0;31m                 \u001b[0;32mraise\u001b[0m \u001b[0mKeyboardInterrupt\u001b[0m\u001b[0;34m(\u001b[0m\u001b[0;34m\"Interrupted by user\"\u001b[0m\u001b[0;34m)\u001b[0m \u001b[0;32mfrom\u001b[0m \u001b[0;32mNone\u001b[0m\u001b[0;34m\u001b[0m\u001b[0;34m\u001b[0m\u001b[0m\n\u001b[0m\u001b[1;32m   1220\u001b[0m             \u001b[0;32mexcept\u001b[0m \u001b[0mException\u001b[0m\u001b[0;34m:\u001b[0m\u001b[0;34m\u001b[0m\u001b[0;34m\u001b[0m\u001b[0m\n\u001b[1;32m   1221\u001b[0m                 \u001b[0mself\u001b[0m\u001b[0;34m.\u001b[0m\u001b[0mlog\u001b[0m\u001b[0;34m.\u001b[0m\u001b[0mwarning\u001b[0m\u001b[0;34m(\u001b[0m\u001b[0;34m\"Invalid Message:\"\u001b[0m\u001b[0;34m,\u001b[0m \u001b[0mexc_info\u001b[0m\u001b[0;34m=\u001b[0m\u001b[0;32mTrue\u001b[0m\u001b[0;34m)\u001b[0m\u001b[0;34m\u001b[0m\u001b[0;34m\u001b[0m\u001b[0m\n",
            "\u001b[0;31mKeyboardInterrupt\u001b[0m: Interrupted by user"
          ]
        }
      ]
    },
    {
      "cell_type": "code",
      "source": [
        "marks = int(input(\"enter your marks\"))\n",
        "\n",
        "if marks >= 80 and marks <90:\n",
        "  print(\"Grade is A\")\n",
        "\n",
        "elif  marks >= 75 and marks < 80:\n",
        "  print(\"Grade is : \\n 'B' and marks is\", marks)\n",
        "\n",
        "else:\n",
        "  print(\"Grade is C\")\n",
        "\n",
        "# \\n for the new line\n",
        "# \"Grade is \\\"B\\\"\" : if you want to print inverted commas inside the string\n"
      ],
      "metadata": {
        "colab": {
          "base_uri": "https://localhost:8080/"
        },
        "id": "ZhsQ3OQ0a5lL",
        "outputId": "a2ebd8fa-a917-48dd-b6f5-d5d55b4c70d8"
      },
      "execution_count": null,
      "outputs": [
        {
          "output_type": "stream",
          "name": "stdout",
          "text": [
            "enter your marks33\n",
            "Grade is C\n"
          ]
        }
      ]
    },
    {
      "cell_type": "code",
      "source": [
        "marks=(int(input(\"Enter your marks: \")))\n",
        "if marks>=40:\n",
        "  print(\"Your grade is 'D'\")\n",
        "elif marks>=60:\n",
        "  print(\"Your grade is 'C'\")\n",
        "elif marks>=80:\n",
        "  print(\"Grade is \\\"B\\\"\")\n",
        "elif marks>=90:\n",
        "  print(\"Your grade is 'A'\")       #mam here I am getting syntax error because i used \"\" for grades inside \"\" of print statement. mam please tell how to resolve it if I want to have my grades inside inverted commas in output"
      ],
      "metadata": {
        "colab": {
          "base_uri": "https://localhost:8080/"
        },
        "id": "t37divKfb6eR",
        "outputId": "ea7a0b4e-5899-4224-ca6b-24455c8e62fb"
      },
      "execution_count": null,
      "outputs": [
        {
          "name": "stdout",
          "output_type": "stream",
          "text": [
            "Enter your marks: 33\n"
          ]
        }
      ]
    },
    {
      "cell_type": "code",
      "source": [
        "marks= int(input(\"Enter your marks:\"))\n",
        "if marks>= 90:\n",
        "   print(\"Your grade is: A\")\n",
        "elif marks>=75:\n",
        "  print(\"Your grade is: B\")\n",
        "else:\n",
        "  print(\"Your grade is: C\")\n"
      ],
      "metadata": {
        "colab": {
          "base_uri": "https://localhost:8080/"
        },
        "id": "qNrfCeQUdGaT",
        "outputId": "fe821be5-4f2d-4816-c466-8d40b4de3969"
      },
      "execution_count": null,
      "outputs": [
        {
          "output_type": "stream",
          "name": "stdout",
          "text": [
            "Enter your marks:76\n",
            "Your grade is: B\n"
          ]
        }
      ]
    },
    {
      "cell_type": "code",
      "source": [
        "# determine healt status based on body mass index\n",
        "\n",
        "bmi = float(input(\"enter your body mass index\"))\n",
        "\n",
        "if bmi < 18.5:\n",
        "  print(\"underweight\")\n",
        "\n",
        "elif 18.5<=bmi< 24.9:\n",
        "  print(\"normal weight\")\n",
        "elif  25<=bmi< 29.9:\n",
        "  print(\"overweight\")\n",
        "else:\n",
        "  print(\"obesity\")"
      ],
      "metadata": {
        "colab": {
          "base_uri": "https://localhost:8080/"
        },
        "id": "71mkNT_Qdrux",
        "outputId": "96ec6933-a872-4d39-93b6-2cbbc98faa64"
      },
      "execution_count": null,
      "outputs": [
        {
          "output_type": "stream",
          "name": "stdout",
          "text": [
            "enter your body mass index28.0\n",
            "overweight\n"
          ]
        }
      ]
    },
    {
      "cell_type": "code",
      "source": [
        "# check if a number is positive is even\n",
        "\n",
        "num = int(input(\"Enter the number\"))\n",
        "if(num > 0 and num%2 == 0):\n",
        "  print(\"positive and even number\")"
      ],
      "metadata": {
        "colab": {
          "base_uri": "https://localhost:8080/"
        },
        "id": "y99jw1K5hOoY",
        "outputId": "e17604f8-bb5a-405e-90b6-bcd446a631bb"
      },
      "execution_count": null,
      "outputs": [
        {
          "output_type": "stream",
          "name": "stdout",
          "text": [
            "Enter the number34\n",
            "positive and even number\n"
          ]
        }
      ]
    },
    {
      "cell_type": "code",
      "source": [
        "num=int(input(\"your no\"))\n",
        "if num//2==0:\n",
        "  print(\"even\")\n",
        "else:\n",
        "  print(\"odd\")\n"
      ],
      "metadata": {
        "colab": {
          "base_uri": "https://localhost:8080/"
        },
        "id": "QSs4DNVLh4Wp",
        "outputId": "3f2a71e6-8b76-4fda-f010-46b59c69c535"
      },
      "execution_count": null,
      "outputs": [
        {
          "output_type": "stream",
          "name": "stdout",
          "text": [
            "your no34\n",
            "odd\n"
          ]
        }
      ]
    },
    {
      "cell_type": "code",
      "source": [
        "age = int(input(\"Enter the Age : \"))\n",
        "if age > 0 and age %2 == 0 :\n",
        "    print(\"Positive and even\")\n",
        "else:\n",
        "    print(\"Negative or Odd\")"
      ],
      "metadata": {
        "colab": {
          "base_uri": "https://localhost:8080/"
        },
        "id": "JftHBjz1h-qk",
        "outputId": "04829048-e7bd-47ca-ceee-8689fbf0e550"
      },
      "execution_count": null,
      "outputs": [
        {
          "output_type": "stream",
          "name": "stdout",
          "text": [
            "Enter the Age : 34\n",
            "Positive and even\n"
          ]
        }
      ]
    },
    {
      "cell_type": "code",
      "source": [
        "n=int(input('Enter the Number: '))\n",
        "if (n%2==0):\n",
        "  print('Positive')\n",
        "else:\n",
        "  print('Nagative')"
      ],
      "metadata": {
        "colab": {
          "base_uri": "https://localhost:8080/"
        },
        "id": "h1xHSFjKiBf7",
        "outputId": "2097936e-72d6-406e-f91d-60bef2f29bc0"
      },
      "execution_count": null,
      "outputs": [
        {
          "output_type": "stream",
          "name": "stdout",
          "text": [
            "Enter the Number: 12\n",
            "Positive\n"
          ]
        }
      ]
    },
    {
      "cell_type": "code",
      "source": [
        "age = int(input(\"Enter the Age : \"))\n",
        "if age > 0 and age %2 == 0 :\n",
        "    print(\"Positive and even\")\n",
        "else:\n",
        "    print(\"Negative or Odd\")"
      ],
      "metadata": {
        "colab": {
          "base_uri": "https://localhost:8080/"
        },
        "id": "BxKiVhA6iFEG",
        "outputId": "68600e5b-9b39-40ee-d357-63f7e1c94747"
      },
      "execution_count": null,
      "outputs": [
        {
          "output_type": "stream",
          "name": "stdout",
          "text": [
            "Enter the Age : 12\n",
            "Positive and even\n"
          ]
        }
      ]
    },
    {
      "cell_type": "code",
      "source": [
        "num=int(input(\"your no\"))\n",
        "if num%2==0:\n",
        "  print(\"even\")\n",
        "else:\n",
        "  print(\"odd\")"
      ],
      "metadata": {
        "colab": {
          "base_uri": "https://localhost:8080/"
        },
        "id": "criyYBtsiJdr",
        "outputId": "b2c93f64-b6dd-401e-f304-c4e16d18a3db"
      },
      "execution_count": null,
      "outputs": [
        {
          "output_type": "stream",
          "name": "stdout",
          "text": [
            "your no23\n",
            "odd\n"
          ]
        }
      ]
    },
    {
      "cell_type": "code",
      "source": [
        "num = int(input(\"Enter num:\"))\n",
        "if num > 0 and num % 2 == 0:\n",
        "  print(\"number is positive and even\")\n",
        "else:\n",
        "  print(\"number is negative or odd\")"
      ],
      "metadata": {
        "colab": {
          "base_uri": "https://localhost:8080/"
        },
        "id": "xnfO-zZkiNTA",
        "outputId": "774dbccf-d26e-4f66-9f25-e6f7888bab18"
      },
      "execution_count": null,
      "outputs": [
        {
          "output_type": "stream",
          "name": "stdout",
          "text": [
            "Enter num:34\n",
            "number is positive and even\n"
          ]
        }
      ]
    },
    {
      "cell_type": "markdown",
      "source": [
        "# **Looping statement in python**\n",
        "\n",
        "def :  looping statement in python are used to repeat a block of code\n",
        " until the specific condition is met or for a fixed no of iterations\n",
        "this is helpful when you want to automate the repitive task\n",
        "\n",
        "\n",
        "# Types of loops are there:\n",
        "\n",
        "1. for loop\n",
        "2. while loop\n",
        "\n",
        "\n",
        "1. for loop:  a for is used to iterate over a sequence(like list, tuple ,string or range)and perform some actions for each items\n",
        "\n",
        "note: it is used when you know the number of iterations in advance"
      ],
      "metadata": {
        "id": "nFRQJBHGiTJh"
      }
    },
    {
      "cell_type": "code",
      "source": [
        "# syntax:\n",
        "\n",
        "\n",
        "for variable_name in sequnce:\n",
        "\n",
        "   # code block"
      ],
      "metadata": {
        "id": "KUG8elYLjwSg"
      },
      "execution_count": null,
      "outputs": []
    },
    {
      "cell_type": "code",
      "source": [
        "names = [\"alice\", \"priya\", \"kiran\", \"jit\"]\n",
        "for i  in names:\n",
        "  print(\"hello\",i)"
      ],
      "metadata": {
        "colab": {
          "base_uri": "https://localhost:8080/"
        },
        "id": "60hZ_AeKj732",
        "outputId": "6e55ae8a-96ab-46c6-fc20-16a8a50e011f"
      },
      "execution_count": null,
      "outputs": [
        {
          "output_type": "stream",
          "name": "stdout",
          "text": [
            "hello alice\n",
            "hello priya\n",
            "hello kiran\n",
            "hello jit\n"
          ]
        }
      ]
    },
    {
      "cell_type": "code",
      "source": [
        "word = \"python\"\n",
        "\n",
        "for x in word:\n",
        "  print(x)"
      ],
      "metadata": {
        "colab": {
          "base_uri": "https://localhost:8080/"
        },
        "id": "nGQNq9MokXEn",
        "outputId": "55dbf51e-ac99-4a41-c47d-a44d09f275c8"
      },
      "execution_count": null,
      "outputs": [
        {
          "output_type": "stream",
          "name": "stdout",
          "text": [
            "p\n",
            "y\n",
            "t\n",
            "h\n",
            "o\n",
            "n\n"
          ]
        }
      ]
    },
    {
      "cell_type": "code",
      "source": [
        "names = [\"alice\",\"priya\",\"kiran\",\"jiya\"]\n",
        "for i in names:\n",
        " print(i)"
      ],
      "metadata": {
        "colab": {
          "base_uri": "https://localhost:8080/"
        },
        "id": "lvbnZIRbkg0T",
        "outputId": "586fe02d-3c2f-4b71-f9e8-43538847e3f3"
      },
      "execution_count": null,
      "outputs": [
        {
          "output_type": "stream",
          "name": "stdout",
          "text": [
            "alice\n",
            "priya\n",
            "kiran\n",
            "jiya\n"
          ]
        }
      ]
    },
    {
      "cell_type": "code",
      "source": [
        "# range\n",
        "# slicing : [start index : end_index +1 , skip]\n",
        "a =list(range(2, 11, 2))\n",
        "print(a) # output: 2, 4, 6, 8,10"
      ],
      "metadata": {
        "colab": {
          "base_uri": "https://localhost:8080/"
        },
        "id": "4QPHaXtklBOS",
        "outputId": "1ca56472-56e4-4278-b70f-18c85bbfea50"
      },
      "execution_count": null,
      "outputs": [
        {
          "output_type": "stream",
          "name": "stdout",
          "text": [
            "[2, 4, 6, 8, 10]\n"
          ]
        }
      ]
    },
    {
      "cell_type": "code",
      "source": [
        "for i in range(2, 21):\n",
        "  print(i)"
      ],
      "metadata": {
        "colab": {
          "base_uri": "https://localhost:8080/"
        },
        "id": "PInWxMn3loGh",
        "outputId": "2cfadbfa-0a63-4921-a772-fa02d3b9701e"
      },
      "execution_count": null,
      "outputs": [
        {
          "output_type": "stream",
          "name": "stdout",
          "text": [
            "2\n",
            "3\n",
            "4\n",
            "5\n",
            "6\n",
            "7\n",
            "8\n",
            "9\n",
            "10\n",
            "11\n",
            "12\n",
            "13\n",
            "14\n",
            "15\n",
            "16\n",
            "17\n",
            "18\n",
            "19\n",
            "20\n"
          ]
        }
      ]
    },
    {
      "cell_type": "code",
      "source": [
        "# i want to generate number from 2 to 20 and i need to fetch only odd numbers\n",
        "\n",
        "for  i in range(2, 21):\n",
        "  if i %2 != 0:\n",
        "    print(i, end=\" \")\n",
        "\n"
      ],
      "metadata": {
        "colab": {
          "base_uri": "https://localhost:8080/"
        },
        "id": "50m567Dnl4o4",
        "outputId": "55bbf874-0333-4307-9371-f63508098e7e"
      },
      "execution_count": null,
      "outputs": [
        {
          "output_type": "stream",
          "name": "stdout",
          "text": [
            "3 5 7 9 11 13 15 17 19 "
          ]
        }
      ]
    },
    {
      "cell_type": "code",
      "source": [
        "for i in range(1,11,2):\n",
        "  print(i)"
      ],
      "metadata": {
        "colab": {
          "base_uri": "https://localhost:8080/"
        },
        "id": "yGYcgk1kmXM3",
        "outputId": "c77f7fe7-90d0-4f73-fe7d-2877a3c79ba6"
      },
      "execution_count": null,
      "outputs": [
        {
          "output_type": "stream",
          "name": "stdout",
          "text": [
            "1\n",
            "3\n",
            "5\n",
            "7\n",
            "9\n"
          ]
        }
      ]
    },
    {
      "cell_type": "code",
      "source": [
        "# calculte the sum of numbers\n",
        "numbers =[1,2,3,4,5]\n",
        "total = 0\n",
        "for i in numbers:\n",
        "  total += i\n",
        "print(\"total is\", total)  #  total = total +i"
      ],
      "metadata": {
        "colab": {
          "base_uri": "https://localhost:8080/"
        },
        "id": "oVKQZdOOmfWl",
        "outputId": "af7c6280-6dc2-47ab-ba5d-e21196355585"
      },
      "execution_count": null,
      "outputs": [
        {
          "output_type": "stream",
          "name": "stdout",
          "text": [
            "total is 15\n"
          ]
        }
      ]
    },
    {
      "cell_type": "code",
      "source": [
        "# hw: using for loop , print a multiplication table\n",
        "#  using for loop , print a star pattern\n",
        "\n",
        "\n",
        "\n",
        "#\n",
        "\n",
        "\n",
        "*\n",
        "**\n",
        "***\n",
        "****"
      ],
      "metadata": {
        "id": "AGqFvsMBnUUJ"
      },
      "execution_count": null,
      "outputs": []
    },
    {
      "cell_type": "code",
      "source": [
        "# indexing :to fetch only single character from string\n",
        "\n",
        "# positive indexing: starts from left side and always have first character 0\n",
        "# negative indexing:strt from right side and always have last character -1\n",
        "# slicing: to fetch subset from a string\n",
        "\n",
        "a = \"hello python\"\n",
        "#print(a[2])\n",
        "#print(a[-1])\n",
        "\n",
        "# syntax:  [start index : end_index +1 : step size]\n",
        "#print(a[0:5])\n",
        "\n",
        "#print(a[-1 : -5: -1])\n",
        "\n",
        "print(a[-3: -6: -1])\n",
        "print(a[-4: ])\n",
        "\n",
        "print(a[: : -1])"
      ],
      "metadata": {
        "colab": {
          "base_uri": "https://localhost:8080/"
        },
        "id": "D-59IzJPoBO5",
        "outputId": "f18eca79-f16f-4732-9edd-35475ffd8ec1"
      },
      "execution_count": null,
      "outputs": [
        {
          "output_type": "stream",
          "name": "stdout",
          "text": [
            "hty\n",
            "thon\n",
            "nohtyp olleh\n"
          ]
        }
      ]
    },
    {
      "cell_type": "markdown",
      "source": [
        "# While Loop :\n",
        "\n",
        "a while loop in python is a control flow statement that repeateadly executes\n",
        "a block of code as long as the condition is true\n",
        "\n",
        "it is used when you dont know how many times the loop will run,\n",
        "but we know the condition needs to be met for it to stop\n"
      ],
      "metadata": {
        "id": "7w6cEK3Qc_ol"
      }
    },
    {
      "cell_type": "code",
      "source": [
        "# syntax:\n",
        "\n",
        "while condition:\n",
        "  # code"
      ],
      "metadata": {
        "id": "Ao5Fmspsc-_R"
      },
      "execution_count": null,
      "outputs": []
    },
    {
      "cell_type": "code",
      "source": [
        "for i in range(1, 6):\n",
        "  print(i)"
      ],
      "metadata": {
        "colab": {
          "base_uri": "https://localhost:8080/"
        },
        "id": "jdEPN8N_eJda",
        "outputId": "a593f69a-1685-48b1-c2c3-34e4073fb5c5"
      },
      "execution_count": null,
      "outputs": [
        {
          "output_type": "stream",
          "name": "stdout",
          "text": [
            "1\n",
            "2\n",
            "3\n",
            "4\n",
            "5\n"
          ]
        }
      ]
    },
    {
      "cell_type": "code",
      "source": [
        "i=1\n",
        "while i <=5:\n",
        "  print(i)\n",
        "  i+=1      #  i = i+1"
      ],
      "metadata": {
        "colab": {
          "base_uri": "https://localhost:8080/"
        },
        "id": "E8Vs5m3ceO-O",
        "outputId": "44ddb337-6362-4427-9647-9b045d323c12"
      },
      "execution_count": null,
      "outputs": [
        {
          "output_type": "stream",
          "name": "stdout",
          "text": [
            "1\n",
            "2\n",
            "3\n",
            "4\n",
            "5\n"
          ]
        }
      ]
    },
    {
      "cell_type": "code",
      "source": [
        "num=[1,2,3,4,5]\n",
        "for i in num:\n",
        "  print(i)"
      ],
      "metadata": {
        "colab": {
          "base_uri": "https://localhost:8080/"
        },
        "id": "6SHeNXpMe82O",
        "outputId": "7764b4be-c537-4d52-aaaf-4d56b901cf7a"
      },
      "execution_count": null,
      "outputs": [
        {
          "output_type": "stream",
          "name": "stdout",
          "text": [
            "1\n",
            "2\n",
            "3\n",
            "4\n",
            "5\n"
          ]
        }
      ]
    },
    {
      "cell_type": "code",
      "source": [
        "num=[1,2,3,4,5]\n",
        "i = 0\n",
        "while i <len(num):\n",
        "  print(num[i])\n",
        "  i+=1"
      ],
      "metadata": {
        "colab": {
          "base_uri": "https://localhost:8080/"
        },
        "id": "gw8fzf2ifSW2",
        "outputId": "3cea888f-7f8a-447d-95de-2e695d750a5e"
      },
      "execution_count": null,
      "outputs": [
        {
          "output_type": "stream",
          "name": "stdout",
          "text": [
            "1\n",
            "2\n",
            "3\n",
            "4\n",
            "5\n"
          ]
        }
      ]
    },
    {
      "cell_type": "code",
      "source": [
        "# print even numbers from 2 to 10 using while loop\n",
        "\n",
        "num = 2\n",
        "while num <=10:\n",
        "  print(num)\n",
        "  num+=2\n"
      ],
      "metadata": {
        "id": "mGM64vR3fk0G",
        "colab": {
          "base_uri": "https://localhost:8080/"
        },
        "outputId": "21a19d84-8117-45da-8289-164f74d2b6c7"
      },
      "execution_count": null,
      "outputs": [
        {
          "output_type": "stream",
          "name": "stdout",
          "text": [
            "2\n",
            "4\n",
            "6\n",
            "8\n",
            "10\n"
          ]
        }
      ]
    },
    {
      "cell_type": "code",
      "source": [
        "num  = 2\n",
        "while num <= 10:\n",
        "  if num % 2 == 0:\n",
        "    print(num)\n",
        "  num+=1"
      ],
      "metadata": {
        "colab": {
          "base_uri": "https://localhost:8080/"
        },
        "id": "cGKnCtI6gUST",
        "outputId": "f0b2c2a2-a68d-4d3e-b635-27a2a41368c6"
      },
      "execution_count": null,
      "outputs": [
        {
          "output_type": "stream",
          "name": "stdout",
          "text": [
            "2\n",
            "4\n",
            "6\n",
            "8\n",
            "10\n"
          ]
        }
      ]
    },
    {
      "cell_type": "code",
      "source": [
        "# ask the user to guess a number\n",
        "\n",
        "secret = 7\n",
        "guess = 0\n",
        "\n",
        "while guess != secret:\n",
        "  guess = int(input(\"enter the number :\"))\n",
        "\n",
        "print(\"you guess it right\")"
      ],
      "metadata": {
        "colab": {
          "base_uri": "https://localhost:8080/"
        },
        "id": "XmBegY44gi3s",
        "outputId": "65fc562a-b749-4746-a357-1d8e34fa4571"
      },
      "execution_count": null,
      "outputs": [
        {
          "output_type": "stream",
          "name": "stdout",
          "text": [
            "enter the number :8\n",
            "enter the number :3\n",
            "enter the number :2\n",
            "enter the number :9\n",
            "enter the number :7\n",
            "you guess it right\n"
          ]
        }
      ]
    },
    {
      "cell_type": "code",
      "source": [
        "# task the user for a password and stop only when the correct password is entered\n",
        "correct_password=9\n",
        "guess=0\n",
        "while guess != correct_password:\n",
        "  guess = int(input('enter the password: '))\n",
        "print('you got the password: ')"
      ],
      "metadata": {
        "colab": {
          "base_uri": "https://localhost:8080/"
        },
        "id": "bWFdv6athHcz",
        "outputId": "02d7fb9d-03a4-4065-b853-ace6b163e809"
      },
      "execution_count": null,
      "outputs": [
        {
          "output_type": "stream",
          "name": "stdout",
          "text": [
            "enter the password: 6\n",
            "enter the password: 9\n",
            "you got the password: \n"
          ]
        }
      ]
    },
    {
      "cell_type": "code",
      "source": [
        "# task the user for a password and stop only when the correct password is entered\n",
        "password = \"new password 123\"\n",
        "entered_password = None\n",
        "while entered_password != password :\n",
        "  entered_password = input(\"enter password : \")\n",
        "print(\"Successfully logged in\")"
      ],
      "metadata": {
        "colab": {
          "base_uri": "https://localhost:8080/"
        },
        "id": "2BSkOK20h6oM",
        "outputId": "dc862c25-186f-44ef-ec87-4b12bf9d8dec"
      },
      "execution_count": null,
      "outputs": [
        {
          "output_type": "stream",
          "name": "stdout",
          "text": [
            "enter password : new\n",
            "enter password : kk\n",
            "enter password : new password 123\n",
            "Successfully logged in\n"
          ]
        }
      ]
    },
    {
      "cell_type": "code",
      "source": [
        "password=\"mani\"\n",
        "text = 0\n",
        "while password !=text :\n",
        "    text = input(\"Enter the password : \")\n",
        "print(\"Password is right\")"
      ],
      "metadata": {
        "colab": {
          "base_uri": "https://localhost:8080/"
        },
        "id": "2ITeBeUhiRDc",
        "outputId": "88bd832c-463c-4f0f-8137-36873cb8061b"
      },
      "execution_count": null,
      "outputs": [
        {
          "output_type": "stream",
          "name": "stdout",
          "text": [
            "Enter the password : 4\n",
            "Enter the password : k\n",
            "Enter the password : mani\n",
            "Password is right\n"
          ]
        }
      ]
    },
    {
      "cell_type": "code",
      "source": [
        "# nested while loop\n",
        "\n",
        "\n",
        "# output:\n",
        "\n",
        "number: 1\n",
        ". . .\n",
        "\n",
        "number: 2\n",
        "..."
      ],
      "metadata": {
        "id": "p07In3JYiUcw"
      },
      "execution_count": null,
      "outputs": []
    },
    {
      "cell_type": "code",
      "source": [
        "i =1\n",
        "while i<=2:\n",
        "  print(\"Number: \", i)\n",
        "\n",
        "  j =1\n",
        "  while j <=3:\n",
        "    print(\".\",end=\"\")\n",
        "    j+=1\n",
        "\n",
        "  print(\"\\n\")  # move to next line\n",
        "\n",
        "  i+=1\n"
      ],
      "metadata": {
        "colab": {
          "base_uri": "https://localhost:8080/"
        },
        "id": "fInYikO5ikKs",
        "outputId": "4078fbcf-50a2-40e4-ea9f-62dcf532a16f"
      },
      "execution_count": null,
      "outputs": [
        {
          "output_type": "stream",
          "name": "stdout",
          "text": [
            "Number:  1\n",
            "...\n",
            "\n",
            "Number:  2\n",
            "...\n",
            "\n"
          ]
        }
      ]
    },
    {
      "cell_type": "code",
      "source": [
        "rows = 10\n",
        "mul = input('Enter the multiplication table : ')\n",
        "for i in range(1,rows+1):\n",
        "    print (str(i) + ' * ' + str(mul) + ' = ' , i*int(mul))"
      ],
      "metadata": {
        "colab": {
          "base_uri": "https://localhost:8080/"
        },
        "id": "6Yxtb2zZkZ0r",
        "outputId": "3aba8408-8d90-4615-c4c6-fcf5325f7560"
      },
      "execution_count": null,
      "outputs": [
        {
          "output_type": "stream",
          "name": "stdout",
          "text": [
            "Enter the multiplication table : 5\n",
            "1 * 5 =  5\n",
            "2 * 5 =  10\n",
            "3 * 5 =  15\n",
            "4 * 5 =  20\n",
            "5 * 5 =  25\n",
            "6 * 5 =  30\n",
            "7 * 5 =  35\n",
            "8 * 5 =  40\n",
            "9 * 5 =  45\n",
            "10 * 5 =  50\n"
          ]
        }
      ]
    },
    {
      "cell_type": "code",
      "source": [
        "for i in range(1,5):\n",
        "  print(\"*\"*i)"
      ],
      "metadata": {
        "colab": {
          "base_uri": "https://localhost:8080/"
        },
        "id": "aociYJqok5ua",
        "outputId": "6e5bdda9-9adf-4e55-8cf6-61ab54bf480e"
      },
      "execution_count": null,
      "outputs": [
        {
          "output_type": "stream",
          "name": "stdout",
          "text": [
            "*\n",
            "**\n",
            "***\n",
            "****\n"
          ]
        }
      ]
    },
    {
      "cell_type": "code",
      "source": [
        "rows = 5  # Number of rows\n",
        "for i in range(1, rows + 1):  # Loop for rows\n",
        "    for j in range(i):  # Loop for columns (stars)\n",
        "        print(\"*\", end=\" \")  # Print star\n",
        "    print()  # Move to the next line"
      ],
      "metadata": {
        "colab": {
          "base_uri": "https://localhost:8080/"
        },
        "id": "YMXZjvwpk8-J",
        "outputId": "a65199ec-97a6-4f7e-e08c-8a7d71515efa"
      },
      "execution_count": null,
      "outputs": [
        {
          "output_type": "stream",
          "name": "stdout",
          "text": [
            "* \n",
            "* * \n",
            "* * * \n",
            "* * * * \n",
            "* * * * * \n"
          ]
        }
      ]
    },
    {
      "cell_type": "code",
      "source": [
        "mul=int(input(\"Enter the number whose multiplication table needs to be found: \"))\n",
        "num=[1,2,3,4,5,6,7,8,9,10]\n",
        "for i in num:\n",
        "  pdt=mul*i\n",
        "  print(mul,\"*\",i,\"=\",pdt)"
      ],
      "metadata": {
        "colab": {
          "base_uri": "https://localhost:8080/"
        },
        "id": "IUzPTo8TlANW",
        "outputId": "8cd7dd30-e56a-4625-a946-cd1f452bc1cc"
      },
      "execution_count": null,
      "outputs": [
        {
          "output_type": "stream",
          "name": "stdout",
          "text": [
            "Enter the number whose multiplication table needs to be found: 5\n",
            "5 * 1 = 5\n",
            "5 * 2 = 10\n",
            "5 * 3 = 15\n",
            "5 * 4 = 20\n",
            "5 * 5 = 25\n",
            "5 * 6 = 30\n",
            "5 * 7 = 35\n",
            "5 * 8 = 40\n",
            "5 * 9 = 45\n",
            "5 * 10 = 50\n"
          ]
        }
      ]
    },
    {
      "cell_type": "code",
      "source": [
        "for i in range(5):\n",
        "  for j in range(i):\n",
        "    print(\"*\", end=\" \")\n",
        "  print(\"\\n\")"
      ],
      "metadata": {
        "colab": {
          "base_uri": "https://localhost:8080/"
        },
        "id": "h_WPElKolDGP",
        "outputId": "3c6a3ce2-945b-46f7-cf77-ee4fbd1672af"
      },
      "execution_count": null,
      "outputs": [
        {
          "output_type": "stream",
          "name": "stdout",
          "text": [
            "\n",
            "\n",
            "* \n",
            "\n",
            "* * \n",
            "\n",
            "* * * \n",
            "\n",
            "* * * * \n",
            "\n"
          ]
        }
      ]
    },
    {
      "cell_type": "code",
      "source": [
        "i =1\n",
        "while i<=5:\n",
        "  j=1\n",
        "  while j<=i:\n",
        "    print(\"*\", end =\"\")\n",
        "    j+=1\n",
        "\n",
        "  print()\n",
        "  i+=1"
      ],
      "metadata": {
        "colab": {
          "base_uri": "https://localhost:8080/"
        },
        "id": "Oyv24G9HlEcs",
        "outputId": "bcb7dc9c-68b7-4587-f7a0-a195863c8ad2"
      },
      "execution_count": null,
      "outputs": [
        {
          "output_type": "stream",
          "name": "stdout",
          "text": [
            "*\n",
            "**\n",
            "***\n",
            "****\n",
            "*****\n"
          ]
        }
      ]
    },
    {
      "cell_type": "code",
      "source": [
        "#1\n",
        "12\n",
        "123\n",
        "1234\n",
        "\n",
        "i=1\n",
        "while i<5 :\n",
        "  j=1\n",
        "  while j<=i :\n",
        "    print(j, end=\"\")\n",
        "    j+=1\n",
        "\n",
        "  print()\n",
        "  i+=1"
      ],
      "metadata": {
        "colab": {
          "base_uri": "https://localhost:8080/"
        },
        "id": "jnZJZlnvliP1",
        "outputId": "030796d1-e1c6-427d-c88c-044cad933a79"
      },
      "execution_count": null,
      "outputs": [
        {
          "output_type": "stream",
          "name": "stdout",
          "text": [
            "1\n",
            "12\n",
            "123\n",
            "1234\n"
          ]
        }
      ]
    },
    {
      "cell_type": "code",
      "source": [
        "rows = 5\n",
        "i = 1\n",
        "while i <= rows:\n",
        "    j = 1\n",
        "    while j <= i:\n",
        "        print(j, end=\" \")\n",
        "        j += 1\n",
        "    print()\n",
        "    i += 1\n"
      ],
      "metadata": {
        "colab": {
          "base_uri": "https://localhost:8080/"
        },
        "id": "5YCPH8uFmOsu",
        "outputId": "ee32b803-e625-43bd-9f57-c737b22d16a3"
      },
      "execution_count": null,
      "outputs": [
        {
          "output_type": "stream",
          "name": "stdout",
          "text": [
            "1 \n",
            "1 2 \n",
            "1 2 3 \n",
            "1 2 3 4 \n",
            "1 2 3 4 5 \n"
          ]
        }
      ]
    },
    {
      "cell_type": "code",
      "source": [
        "i = 5\n",
        "for i in range(1, i + 1):\n",
        "    for j in range(i):\n",
        "        print(\"*\", end=\"\")\n",
        "    print()\n"
      ],
      "metadata": {
        "colab": {
          "base_uri": "https://localhost:8080/"
        },
        "id": "A7xGSsU8mRza",
        "outputId": "7fda2c38-6a5b-4e51-9745-1307d8ddd8a5"
      },
      "execution_count": null,
      "outputs": [
        {
          "output_type": "stream",
          "name": "stdout",
          "text": [
            "*\n",
            "**\n",
            "***\n",
            "****\n",
            "*****\n"
          ]
        }
      ]
    },
    {
      "cell_type": "code",
      "source": [
        "n=4\n",
        "for a in range(1,n+1):\n",
        "  for b in range(1, a+1):\n",
        "    print(b,end=\" \")\n",
        "  print()"
      ],
      "metadata": {
        "colab": {
          "base_uri": "https://localhost:8080/"
        },
        "id": "mCTAYc0umVLU",
        "outputId": "eb13ea63-3622-4dbe-8935-aea9fc3ee21e"
      },
      "execution_count": null,
      "outputs": [
        {
          "output_type": "stream",
          "name": "stdout",
          "text": [
            "1 \n",
            "1 2 \n",
            "1 2 3 \n",
            "1 2 3 4 \n"
          ]
        }
      ]
    },
    {
      "cell_type": "code",
      "source": [
        "n = 4\n",
        "\n",
        "for i in range(1, n + 1):\n",
        "\n",
        "    for j in range(1, i + 1):\n",
        "        print(j, end='')\n",
        "\n",
        "    print()"
      ],
      "metadata": {
        "colab": {
          "base_uri": "https://localhost:8080/"
        },
        "id": "Iqff96WOmYsG",
        "outputId": "61ad72dd-2005-42b9-f1fd-1b8d6ee7cc2a"
      },
      "execution_count": null,
      "outputs": [
        {
          "output_type": "stream",
          "name": "stdout",
          "text": [
            "1\n",
            "12\n",
            "123\n",
            "1234\n"
          ]
        }
      ]
    },
    {
      "cell_type": "code",
      "source": [
        "i=1\n",
        "while i<=4:\n",
        "  j=1\n",
        "  while j<=i:\n",
        "    print(j,end=\" \")\n",
        "    j+=1\n",
        "  print()\n",
        "  i+=1"
      ],
      "metadata": {
        "colab": {
          "base_uri": "https://localhost:8080/"
        },
        "id": "Tpregr9YmbEV",
        "outputId": "25c4e505-86cd-490c-eb6c-8ef65166e5bd"
      },
      "execution_count": null,
      "outputs": [
        {
          "output_type": "stream",
          "name": "stdout",
          "text": [
            "1 \n",
            "1 2 \n",
            "1 2 3 \n",
            "1 2 3 4 \n"
          ]
        }
      ]
    },
    {
      "cell_type": "code",
      "source": [
        "i=1\n",
        "while i<=5:\n",
        "    j=1\n",
        "    while j<=i:\n",
        "       print(,j,  end=\" \")\n",
        "       j+=1\n",
        "    print()\n",
        "    i+=1"
      ],
      "metadata": {
        "colab": {
          "base_uri": "https://localhost:8080/"
        },
        "id": "FTbLS-B5nJGX",
        "outputId": "9220803d-71b6-4e57-87cc-677411bbf760"
      },
      "execution_count": null,
      "outputs": [
        {
          "output_type": "stream",
          "name": "stdout",
          "text": [
            "\n",
            " 1 \n",
            "\n",
            " 1 \n",
            " 2 \n",
            "\n",
            " 1 \n",
            " 2 \n",
            " 3 \n",
            "\n",
            " 1 \n",
            " 2 \n",
            " 3 \n",
            " 4 \n",
            "\n",
            " 1 \n",
            " 2 \n",
            " 3 \n",
            " 4 \n",
            " 5 \n"
          ]
        }
      ]
    },
    {
      "cell_type": "code",
      "source": [
        "   *\n",
        "  * *\n",
        " * * *\n",
        " * * * *\n",
        "\n"
      ],
      "metadata": {
        "id": "rwDvhZuTnp7B"
      },
      "execution_count": null,
      "outputs": []
    },
    {
      "cell_type": "code",
      "source": [
        "rows =5\n",
        "for i in range(1, rows +1):\n",
        "  print(\" \" * (rows - i) + \"*\" * (2 * i - 1))"
      ],
      "metadata": {
        "colab": {
          "base_uri": "https://localhost:8080/"
        },
        "id": "hVabmMslodDv",
        "outputId": "9aca08ae-8d61-47e6-e090-aafcf947c8d0"
      },
      "execution_count": null,
      "outputs": [
        {
          "output_type": "stream",
          "name": "stdout",
          "text": [
            "    *\n",
            "   ***\n",
            "  *****\n",
            " *******\n",
            "*********\n"
          ]
        }
      ]
    },
    {
      "cell_type": "code",
      "source": [
        "rows =5\n",
        "i =1\n",
        "while i <=rows:\n",
        "  spaces = rows-i\n",
        "  stars = 2*i-1\n",
        "\n",
        "  j=1\n",
        "  while j<=spaces:\n",
        "    print(\" \", end=\"\")\n",
        "    j+=1\n",
        "\n",
        "\n",
        "  k=1\n",
        "  while k<=stars:\n",
        "    print(\"*\", end=\"\")\n",
        "    k+=1\n",
        "\n",
        "  print()\n",
        "  i+=1"
      ],
      "metadata": {
        "colab": {
          "base_uri": "https://localhost:8080/"
        },
        "id": "C-OEgiQromGs",
        "outputId": "9a8ac702-448a-45d7-ef81-b1d781444f15"
      },
      "execution_count": null,
      "outputs": [
        {
          "output_type": "stream",
          "name": "stdout",
          "text": [
            "    *\n",
            "   ***\n",
            "  *****\n",
            " *******\n",
            "*********\n"
          ]
        }
      ]
    },
    {
      "cell_type": "code",
      "source": [
        " rows=5\n",
        "for i in range(rows) :\n",
        "  for j in range(rows-i-1) :\n",
        "    print(end=\" \")\n",
        "  for j in range(2*i+1) :\n",
        "    print(\"*\", end=\"\")\n",
        "  print()"
      ],
      "metadata": {
        "colab": {
          "base_uri": "https://localhost:8080/"
        },
        "id": "dJdv1WpQqHzc",
        "outputId": "30bdab7a-c0d5-4235-eff4-9402204473e8"
      },
      "execution_count": null,
      "outputs": [
        {
          "output_type": "stream",
          "name": "stdout",
          "text": [
            "    *\n",
            "   ***\n",
            "  *****\n",
            " *******\n",
            "*********\n"
          ]
        }
      ]
    },
    {
      "cell_type": "code",
      "source": [
        "n = 4\n",
        "i = 1\n",
        "while i <= n:\n",
        "    print(' ' * (n - i) * 2, end='')\n",
        "    print(('*   ' * i).rstrip())\n",
        "    i += 1"
      ],
      "metadata": {
        "colab": {
          "base_uri": "https://localhost:8080/"
        },
        "id": "OCCpiolBqaYB",
        "outputId": "a173c0ba-a4e1-499d-8547-1fb424149e20"
      },
      "execution_count": null,
      "outputs": [
        {
          "output_type": "stream",
          "name": "stdout",
          "text": [
            "      *\n",
            "    *   *\n",
            "  *   *   *\n",
            "*   *   *   *\n"
          ]
        }
      ]
    },
    {
      "cell_type": "code",
      "source": [
        "rows=5\n",
        "for i in range(rows) :\n",
        "  for j in range(rows-i-1) :\n",
        "    print(\"\",end=\" \")\n",
        "\n",
        "  for j in range(2*i+1) :\n",
        "      print(\"*\", end=\"\")\n",
        "  print()\n"
      ],
      "metadata": {
        "colab": {
          "base_uri": "https://localhost:8080/"
        },
        "id": "7nmPxpl6qbQF",
        "outputId": "2f5ca1cd-49fe-46ad-d39b-e506d8550a8b"
      },
      "execution_count": null,
      "outputs": [
        {
          "output_type": "stream",
          "name": "stdout",
          "text": [
            "    *\n",
            "   ***\n",
            "  *****\n",
            " *******\n",
            "*********\n"
          ]
        }
      ]
    },
    {
      "cell_type": "markdown",
      "source": [
        "# break and continue  statement in python\n",
        "\n",
        "\n",
        "break statement is used to immediately exit from the loop\n",
        "regardless of whether the loop condition is still true\n",
        "\n",
        "\n",
        "continue: the continue statement is used to skip the current iteration of the loop\n",
        " and move to the next one without exiting from the loop entirely\n",
        "\n"
      ],
      "metadata": {
        "id": "8g61cwCKvPTj"
      }
    },
    {
      "cell_type": "code",
      "source": [
        "num =[1,2,3,4,5,6,7,8,9,10]\n",
        "for i in num:\n",
        "  if i ==5:\n",
        "    print(i)\n",
        "    break\n",
        "  print(i)"
      ],
      "metadata": {
        "colab": {
          "base_uri": "https://localhost:8080/"
        },
        "id": "4nJkBesCqbL3",
        "outputId": "69818170-713e-4c7e-84d8-005ac278b996"
      },
      "execution_count": null,
      "outputs": [
        {
          "output_type": "stream",
          "name": "stdout",
          "text": [
            "1\n",
            "2\n",
            "3\n",
            "4\n",
            "5\n"
          ]
        }
      ]
    },
    {
      "cell_type": "code",
      "source": [
        "fruits = ['pineapple','orange','kiwi', 'mango']\n",
        "for i in fruits:\n",
        "  if i ==\"mango\":\n",
        "    break\n",
        "  print(i)"
      ],
      "metadata": {
        "colab": {
          "base_uri": "https://localhost:8080/"
        },
        "id": "47Dm0SidqbIL",
        "outputId": "b0e38f95-bc59-43c3-d10d-82c69e70436e"
      },
      "execution_count": null,
      "outputs": [
        {
          "output_type": "stream",
          "name": "stdout",
          "text": [
            "pineapple\n",
            "orange\n",
            "kiwi\n"
          ]
        }
      ]
    },
    {
      "cell_type": "code",
      "source": [
        "for i in range(1,6):  #skip odd numbers\n",
        " if i % 2 !=0:\n",
        "   continue\n",
        "\n",
        " print(\"even numbers\", i)"
      ],
      "metadata": {
        "colab": {
          "base_uri": "https://localhost:8080/"
        },
        "id": "GstewfG7qbDr",
        "outputId": "c6ee778e-479e-425e-fdf1-88ecc13c5fa1"
      },
      "execution_count": null,
      "outputs": [
        {
          "output_type": "stream",
          "name": "stdout",
          "text": [
            "even numbers 2\n",
            "even numbers 4\n"
          ]
        }
      ]
    },
    {
      "cell_type": "code",
      "source": [
        "fruits = ['pineapple','orange','kiwi', 'mango']\n",
        "\n",
        "for i in fruits:\n",
        "  if i == \"kiwi\":\n",
        "    continue\n",
        "\n",
        "  print(\"values are\", i)\n"
      ],
      "metadata": {
        "colab": {
          "base_uri": "https://localhost:8080/"
        },
        "id": "jeJeSgFsw8mv",
        "outputId": "a8a22c36-c0ff-48b0-8e4e-e511482cb5a5"
      },
      "execution_count": null,
      "outputs": [
        {
          "output_type": "stream",
          "name": "stdout",
          "text": [
            "values are pineapple\n",
            "values are orange\n",
            "values are mango\n"
          ]
        }
      ]
    },
    {
      "cell_type": "code",
      "source": [
        "# hw\n",
        "#  the user has to guess a secret number between 1 and 10 within 5 attempt\n",
        "\n",
        "# if they enter an invalid number  , the program skip that attempt using continue\n",
        "# the loop ends when they guess correctly or run out of attempts\n",
        "\n"
      ],
      "metadata": {
        "id": "i8qJZmCWxLP_"
      },
      "execution_count": null,
      "outputs": []
    },
    {
      "cell_type": "code",
      "source": [
        "# need to discuss\n",
        "# string functions or formatting\n",
        "# lambda function\n",
        "# types of exception\n",
        "# power() function"
      ],
      "metadata": {
        "id": "JIANqs6PmNJD"
      },
      "execution_count": null,
      "outputs": []
    },
    {
      "cell_type": "code",
      "source": [
        "secret = 9\n",
        "print(\"You have 5 attempts to guess the number between 1 and 10\")\n",
        "for i in range(5):\n",
        "  guess = int(input(\"Guess the number : \"))\n",
        "  if not(1 <= guess <= 10) :\n",
        "    print(\"Guess out of given bound\")\n",
        "    continue\n",
        "  if guess == secret :\n",
        "    print(\"Success!!!\")\n",
        "    break\n",
        "print(\"Game over!\")"
      ],
      "metadata": {
        "colab": {
          "base_uri": "https://localhost:8080/"
        },
        "id": "Du5mBvlrmiW1",
        "outputId": "09d47b9a-1c6f-43e1-9a6d-494bc094a41a"
      },
      "execution_count": null,
      "outputs": [
        {
          "output_type": "stream",
          "name": "stdout",
          "text": [
            "You have 5 attempts to guess the number between 1 and 10\n",
            "Guess the number : 5\n",
            "Guess the number : 9\n",
            "Success!!!\n",
            "Game over!\n"
          ]
        }
      ]
    },
    {
      "cell_type": "code",
      "source": [
        "secret_no=8\n",
        "entered_no=1\n",
        "for i in range(1,6):\n",
        "  entered_no=int(input(\"Enter the number between 1 and 10: \"))\n",
        "  if entered_no==secret_no:\n",
        "    print(\"You guessed it right\")\n",
        "    break\n",
        "  elif entered_no!=secret_no and i<5:\n",
        "    print(\"You have to guess again. You have only\",5-i,\"attempts left.\")\n",
        "    continue\n",
        "  else:\n",
        "    print(\"You ran out of attempts\")"
      ],
      "metadata": {
        "colab": {
          "base_uri": "https://localhost:8080/"
        },
        "id": "ZOkKhRM7mwNV",
        "outputId": "6600ae8a-ea82-484c-a019-6ca6f7feb426"
      },
      "execution_count": null,
      "outputs": [
        {
          "output_type": "stream",
          "name": "stdout",
          "text": [
            "Enter the number between 1 and 10: 3\n",
            "You have to guess again. You have only 4 attempts left.\n",
            "Enter the number between 1 and 10: 4\n",
            "You have to guess again. You have only 3 attempts left.\n",
            "Enter the number between 1 and 10: 9\n",
            "You have to guess again. You have only 2 attempts left.\n",
            "Enter the number between 1 and 10: 8\n",
            "You guessed it right\n"
          ]
        }
      ]
    },
    {
      "cell_type": "code",
      "source": [
        "secnum = 7\n",
        "print(\"guess your number\")\n",
        "for i in range(1,6):\n",
        "    guess = input(\"enter the guess :\")\n",
        "    guess = int(guess)\n",
        "    if guess == secnum:\n",
        "      print(\"you guesssed it right\")\n",
        "      break\n",
        "    else:\n",
        "      print(\"try again\")"
      ],
      "metadata": {
        "colab": {
          "base_uri": "https://localhost:8080/"
        },
        "id": "RIlFlA8Tm4-I",
        "outputId": "22903907-c873-4fe2-bd6b-03bcf9fff51e"
      },
      "execution_count": null,
      "outputs": [
        {
          "output_type": "stream",
          "name": "stdout",
          "text": [
            "guess your number\n",
            "enter the guess :2\n",
            "try again\n",
            "enter the guess :2\n",
            "try again\n",
            "enter the guess :7\n",
            "you guesssed it right\n"
          ]
        }
      ]
    },
    {
      "cell_type": "markdown",
      "source": [
        "# Functions in Python\n",
        "a function in python is a resuable block of code that performs\n",
        "specific task,  function allow you to write code once  and use it multiple\n",
        "times , make you program more organized and efficient\n"
      ],
      "metadata": {
        "id": "fBq4SGnlnAGu"
      }
    },
    {
      "cell_type": "code",
      "source": [
        "# syntax\n",
        "\n",
        "def function_name(parameter):\n",
        "  # code block"
      ],
      "metadata": {
        "id": "FHStejh8yRq4"
      },
      "execution_count": null,
      "outputs": []
    },
    {
      "cell_type": "code",
      "source": [
        "# basic function:\n",
        "def greet():\n",
        "  print(\"hello welcome to TAJ Hotel\")\n",
        "\n",
        "\n",
        "greet()"
      ],
      "metadata": {
        "colab": {
          "base_uri": "https://localhost:8080/"
        },
        "id": "k_kvdWIln2fZ",
        "outputId": "69e4a746-5a5d-44ad-8589-1b8bdae981f4"
      },
      "execution_count": null,
      "outputs": [
        {
          "output_type": "stream",
          "name": "stdout",
          "text": [
            "hello welcome to TAJ Hotel\n"
          ]
        }
      ]
    },
    {
      "cell_type": "code",
      "source": [
        "greet()\n",
        "greet()"
      ],
      "metadata": {
        "colab": {
          "base_uri": "https://localhost:8080/"
        },
        "id": "9COsZN3QoRf2",
        "outputId": "336bcf55-2168-4cf5-dee2-87ba5ea14285"
      },
      "execution_count": null,
      "outputs": [
        {
          "output_type": "stream",
          "name": "stdout",
          "text": [
            "hello welcome to TAJ Hotel\n",
            "hello welcome to TAJ Hotel\n"
          ]
        }
      ]
    },
    {
      "cell_type": "code",
      "source": [
        "# function with argument\n",
        "\n",
        "def greet(name):\n",
        "  print(\"hello\", name, \"welcome to TAJ Hotel\")\n",
        "\n",
        "\n",
        "greet(\"rahul\")\n",
        "\n",
        "greet(\"priya\")"
      ],
      "metadata": {
        "colab": {
          "base_uri": "https://localhost:8080/"
        },
        "id": "b-2wtGZFodni",
        "outputId": "b93de163-950d-4a2e-abed-2f1f4a33ba9e"
      },
      "execution_count": null,
      "outputs": [
        {
          "output_type": "stream",
          "name": "stdout",
          "text": [
            "hello rahul welcome to TAJ Hotel\n",
            "hello priya welcome to TAJ Hotel\n"
          ]
        }
      ]
    },
    {
      "cell_type": "code",
      "source": [
        "def greet(name):\n",
        " print(\"hello\",name,\"welcome to taj hotel\")\n",
        "greet(\"rahul\")"
      ],
      "metadata": {
        "colab": {
          "base_uri": "https://localhost:8080/"
        },
        "id": "MYZ4ipeOpNBM",
        "outputId": "5f80f9d8-3cb0-42f6-8a14-d01788cb4108"
      },
      "execution_count": null,
      "outputs": [
        {
          "output_type": "stream",
          "name": "stdout",
          "text": [
            "hello rahul welcome to taj hotel\n"
          ]
        }
      ]
    },
    {
      "cell_type": "code",
      "source": [
        "def add(a,b):\n",
        "   sum=a+b\n",
        "   print(sum)\n",
        "\n",
        "\n",
        "add(10,20)\n",
        "\n",
        "add(40,30)"
      ],
      "metadata": {
        "colab": {
          "base_uri": "https://localhost:8080/"
        },
        "id": "XafqcUJ9pdUh",
        "outputId": "9201108c-9d93-4749-a8b3-9245b86782b2"
      },
      "execution_count": null,
      "outputs": [
        {
          "output_type": "stream",
          "name": "stdout",
          "text": [
            "30\n",
            "70\n"
          ]
        }
      ]
    },
    {
      "cell_type": "code",
      "source": [
        "def Greet(Name):\n",
        "  print(\"Hello\", Name, \"Welcome to the Hotel Taj\")\n",
        "Greet(\"Vikesh\")"
      ],
      "metadata": {
        "colab": {
          "base_uri": "https://localhost:8080/"
        },
        "id": "HHaMJKBPqQac",
        "outputId": "250024da-d9b6-4ac7-dd18-4a277f8b4553"
      },
      "execution_count": null,
      "outputs": [
        {
          "output_type": "stream",
          "name": "stdout",
          "text": [
            "Hello Vikesh Welcome to the Hotel Taj\n"
          ]
        }
      ]
    },
    {
      "cell_type": "markdown",
      "source": [
        "#arbitary argument"
      ],
      "metadata": {
        "id": "7okJ0-b0uBs6"
      }
    },
    {
      "cell_type": "code",
      "source": [
        "# arbitary argument\n",
        " # when you dont know how many argument you'll need to pass\n",
        " # we use arbitary arguments\n",
        " # this is done by placing an astrick * before the parameter in the function definition\n",
        " # it  allow the function to accept any number of argument"
      ],
      "metadata": {
        "id": "EvH3Q_CPp0io"
      },
      "execution_count": null,
      "outputs": []
    },
    {
      "cell_type": "code",
      "source": [
        "def send_invitation(*guest):\n",
        "  print(\"sending invitations to the following guests\")\n",
        "  for i in  guest:\n",
        "     print(\"invitation sent to\", i)\n",
        "\n",
        "send_invitation(\"rupesh\",\"priya\", \"arjun\", \"rahul\", \"kriti\", \"mohan\")"
      ],
      "metadata": {
        "colab": {
          "base_uri": "https://localhost:8080/"
        },
        "id": "rKHCLPsMqXfy",
        "outputId": "8452b010-0fc4-4a96-8ace-2b5b98441490"
      },
      "execution_count": null,
      "outputs": [
        {
          "output_type": "stream",
          "name": "stdout",
          "text": [
            "sending invitations to the following guests\n",
            "invitation sent to rupesh\n",
            "invitation sent to priya\n",
            "invitation sent to arjun\n",
            "invitation sent to rahul\n",
            "invitation sent to kriti\n",
            "invitation sent to mohan\n"
          ]
        }
      ]
    },
    {
      "cell_type": "code",
      "source": [
        "#  a function that caculates the total sum of n numbers\n",
        "def summation(*number):\n",
        "  ans = 0\n",
        "  for i in number:\n",
        "    ans = ans + i\n",
        "  print(\"The sum of the number\", ans)\n",
        "summation(2, 3, 4, 5)"
      ],
      "metadata": {
        "colab": {
          "base_uri": "https://localhost:8080/"
        },
        "id": "z73v0He2rWly",
        "outputId": "b3f6e129-00dc-45aa-eec2-5e602e6bd206"
      },
      "execution_count": null,
      "outputs": [
        {
          "output_type": "stream",
          "name": "stdout",
          "text": [
            "The sum of the number 14\n"
          ]
        }
      ]
    },
    {
      "cell_type": "code",
      "source": [
        "def add(*numbers):\n",
        "  sum = 0\n",
        "  for number in numbers:\n",
        "    sum+=number\n",
        "  print(sum)\n",
        "add(10,20,40,40)"
      ],
      "metadata": {
        "colab": {
          "base_uri": "https://localhost:8080/"
        },
        "id": "jX-b4LFKsjMp",
        "outputId": "12360eed-8b3c-41f3-a74c-4f8661715902"
      },
      "execution_count": null,
      "outputs": [
        {
          "output_type": "stream",
          "name": "stdout",
          "text": [
            "110\n"
          ]
        }
      ]
    },
    {
      "cell_type": "code",
      "source": [
        "def calculate(*num):\n",
        "    for i in num:\n",
        "     i+=i\n",
        "    print(i)\n",
        "calculate(10,20,30,40)"
      ],
      "metadata": {
        "colab": {
          "base_uri": "https://localhost:8080/"
        },
        "id": "8BVp-xTWsqL7",
        "outputId": "81c75dcb-b7f3-4b1b-b997-fda8b266a758"
      },
      "execution_count": null,
      "outputs": [
        {
          "output_type": "stream",
          "name": "stdout",
          "text": [
            "80\n"
          ]
        }
      ]
    },
    {
      "cell_type": "code",
      "source": [
        "def sumofnnumber(*number):\n",
        "  total = 0\n",
        "  for i in number:\n",
        "    total +=i\n",
        "  print(total)\n",
        "sumofnnumber(2,6,7,8,8)"
      ],
      "metadata": {
        "colab": {
          "base_uri": "https://localhost:8080/"
        },
        "id": "xYaJm_sltAW5",
        "outputId": "151ee13a-1211-4292-942e-c42fe9ca99c6"
      },
      "execution_count": null,
      "outputs": [
        {
          "output_type": "stream",
          "name": "stdout",
          "text": [
            "31\n"
          ]
        }
      ]
    },
    {
      "cell_type": "code",
      "source": [
        "def calculate_sum(*numbers):\n",
        "    total = 0\n",
        "    for num in numbers:\n",
        "        total += num\n",
        "    return total\n",
        "calculate_sum(10,20)"
      ],
      "metadata": {
        "colab": {
          "base_uri": "https://localhost:8080/"
        },
        "id": "q_kdLvass-VV",
        "outputId": "80fdf234-69dd-4b2f-a621-7c541ac44463"
      },
      "execution_count": null,
      "outputs": [
        {
          "output_type": "execute_result",
          "data": {
            "text/plain": [
              "30"
            ]
          },
          "metadata": {},
          "execution_count": 32
        }
      ]
    },
    {
      "cell_type": "code",
      "source": [
        "def calculate_total(*number):\n",
        "  total = sum(number)\n",
        "\n",
        "  print(\"total is\", total)\n",
        "\n",
        "\n",
        "calculate_total(10,20,30,40,50,60,70)"
      ],
      "metadata": {
        "colab": {
          "base_uri": "https://localhost:8080/"
        },
        "id": "38C_Oq8Hsrr9",
        "outputId": "3096113c-b1e0-4e64-dfec-a144e245f08e"
      },
      "execution_count": null,
      "outputs": [
        {
          "output_type": "stream",
          "name": "stdout",
          "text": [
            "total is 280\n"
          ]
        }
      ]
    },
    {
      "cell_type": "code",
      "source": [
        "def total_sum(*n):\n",
        "  sum=0\n",
        "  for i in n:\n",
        "    sum+=i\n",
        "  print(sum)\n",
        "total_sum(5, 10, 20, 30, 40)"
      ],
      "metadata": {
        "colab": {
          "base_uri": "https://localhost:8080/"
        },
        "id": "Dtyb2OtNtTey",
        "outputId": "bf2eb454-a27d-4a30-e50c-b07c6cb24728"
      },
      "execution_count": null,
      "outputs": [
        {
          "output_type": "stream",
          "name": "stdout",
          "text": [
            "105\n"
          ]
        }
      ]
    },
    {
      "cell_type": "markdown",
      "source": [
        "# Keyword Argument:\n",
        "\n",
        "keyword argument allows you to specify the value for each parameter\n",
        "while calling the function..\n",
        "\n",
        "this makes your code more readable and flexible ,.."
      ],
      "metadata": {
        "id": "uxtUZFgSt-pG"
      }
    },
    {
      "cell_type": "code",
      "source": [
        "def place_order(drink, side_dish, main_course):\n",
        "  print(\"order placed\")\n",
        "  print(\"drink :\", drink)\n",
        "  print(\"side dish :\", side_dish)\n",
        "  print(\"main course :\", main_course)\n",
        "\n",
        "\n",
        "place_order(main_course =\"dal and butter paneer\", side_dish =\"fries\", drink =\"pepsi\")"
      ],
      "metadata": {
        "colab": {
          "base_uri": "https://localhost:8080/"
        },
        "id": "m3EXVBuSt2t9",
        "outputId": "aed5ffbb-08a8-4d2f-b2ec-f4302b8b3eb8"
      },
      "execution_count": null,
      "outputs": [
        {
          "output_type": "stream",
          "name": "stdout",
          "text": [
            "order placed\n",
            "drink : pepsi\n",
            "side dish : fries\n",
            "main course : dal and butter paneer\n"
          ]
        }
      ]
    },
    {
      "cell_type": "code",
      "source": [
        "def product_info(name, price, category):\n",
        "  print(\"product category is: \",category, \"price :\", price, \"name :\", name)\n",
        "\n",
        "product_info(name= \"laptop\", price =9999, category =\"electronics\")"
      ],
      "metadata": {
        "colab": {
          "base_uri": "https://localhost:8080/"
        },
        "id": "1vPzzGFXvoIs",
        "outputId": "c43a38f8-b129-422b-c758-a06b17ce6c99"
      },
      "execution_count": null,
      "outputs": [
        {
          "output_type": "stream",
          "name": "stdout",
          "text": [
            "product category is:  electronics price : 9999 name : laptop\n"
          ]
        }
      ]
    },
    {
      "cell_type": "code",
      "source": [
        "# kwargs( keyword argument): combination of arbitary and keyword argument\n",
        "\n",
        "def show_student_info(**details):\n",
        "  for key, value in details.items():\n",
        "    print(\"the student \" , key ,\"is\", value)\n",
        "\n",
        "show_student_info(name =\"priya\",age= 12, grade =6, name1=\"krishna\")\n",
        "print(\"#######\")\n",
        "show_student_info(name=\"arjun\", age = 20, grade = 9)"
      ],
      "metadata": {
        "colab": {
          "base_uri": "https://localhost:8080/"
        },
        "id": "7ppJ6omtwME7",
        "outputId": "2d8b2ec1-d087-49f2-917a-78d29df7031a"
      },
      "execution_count": null,
      "outputs": [
        {
          "output_type": "stream",
          "name": "stdout",
          "text": [
            "the student  name is priya\n",
            "the student  age is 12\n",
            "the student  grade is 6\n",
            "the student  name1 is krishna\n",
            "#######\n",
            "the student  name is arjun\n",
            "the student  age is 20\n",
            "the student  grade is 9\n"
          ]
        }
      ]
    },
    {
      "cell_type": "markdown",
      "source": [
        "# Return statement\n",
        "\n",
        "the return statement in python is used to send a value from a fuction back to place where the function was called .\n",
        " it allow the function to produce a result which can then be used later on in the program\n",
        " without return, the function will just perform the action but wouldnt give back any output"
      ],
      "metadata": {
        "id": "ACIrnmGn05I4"
      }
    },
    {
      "cell_type": "code",
      "source": [
        " # without use of return statement\n",
        "\n",
        "def add(a,b):\n",
        "  sum = a+b\n",
        "  print(\"the total  sum is\", sum)\n",
        "\n",
        "\n",
        "result1 =add(10, 30)\n",
        "print(result1)"
      ],
      "metadata": {
        "colab": {
          "base_uri": "https://localhost:8080/"
        },
        "id": "rosbg9Lk04Lw",
        "outputId": "5087f255-c6a4-4b61-d03b-1468bd77ac65"
      },
      "execution_count": null,
      "outputs": [
        {
          "output_type": "stream",
          "name": "stdout",
          "text": [
            "the total  sum is 40\n",
            "None\n"
          ]
        }
      ]
    },
    {
      "cell_type": "code",
      "source": [
        "print(result1)"
      ],
      "metadata": {
        "colab": {
          "base_uri": "https://localhost:8080/"
        },
        "id": "L7Zwx8Ag1_8Z",
        "outputId": "b8b96625-f959-407c-f66e-c1106f48a331"
      },
      "execution_count": null,
      "outputs": [
        {
          "output_type": "stream",
          "name": "stdout",
          "text": [
            "None\n"
          ]
        }
      ]
    },
    {
      "cell_type": "code",
      "source": [
        "def add(a,b):\n",
        "  sum = a+b\n",
        "  return sum\n",
        "\n",
        "\n",
        "result =add(10, 30)\n",
        "\n",
        "print(result)\n",
        "print(type(result))"
      ],
      "metadata": {
        "colab": {
          "base_uri": "https://localhost:8080/"
        },
        "id": "Aw3yi6Sb10nK",
        "outputId": "ae5d4149-e190-4345-e32d-31c1fcdad435"
      },
      "execution_count": null,
      "outputs": [
        {
          "output_type": "stream",
          "name": "stdout",
          "text": [
            "40\n",
            "<class 'int'>\n"
          ]
        }
      ]
    },
    {
      "cell_type": "code",
      "source": [
        "result*100\n",
        "\n"
      ],
      "metadata": {
        "colab": {
          "base_uri": "https://localhost:8080/"
        },
        "id": "UnN6d-7L18wX",
        "outputId": "81ea3817-bd3a-40c8-912e-b81531e6e70d"
      },
      "execution_count": null,
      "outputs": [
        {
          "output_type": "execute_result",
          "data": {
            "text/plain": [
              "4000"
            ]
          },
          "metadata": {},
          "execution_count": 88
        }
      ]
    },
    {
      "cell_type": "markdown",
      "source": [
        "# String formatting:\n",
        "\n",
        "\n",
        "string formatting in python means inserting values into string in a very proper and organized way"
      ],
      "metadata": {
        "id": "AQyY9M0H3Fi5"
      }
    },
    {
      "cell_type": "code",
      "source": [
        "# normal way of organizing your string\n",
        "a = 10\n",
        "b= 20\n",
        "\n",
        "print(\" A value is\", a,\"b value is\", b)"
      ],
      "metadata": {
        "colab": {
          "base_uri": "https://localhost:8080/"
        },
        "id": "1t4S8IzU3E0L",
        "outputId": "a0d63db3-b479-47ab-c3f8-570c9e40dd4e"
      },
      "execution_count": null,
      "outputs": [
        {
          "output_type": "stream",
          "name": "stdout",
          "text": [
            " A value is 10 b value is 20\n"
          ]
        }
      ]
    },
    {
      "cell_type": "code",
      "source": [
        "# 2. using f-string (python 3.6+)-  easy and recommended\n",
        "\n",
        "name =\"krishna\"\n",
        "age = 25\n",
        "\n",
        "# output: my name is krishna and i am 25 years young\n",
        "\n",
        "print(f\"my name is {name} and i am  {age} years young \")"
      ],
      "metadata": {
        "colab": {
          "base_uri": "https://localhost:8080/"
        },
        "id": "NKPAJ-Zc32rJ",
        "outputId": "2817361d-4ba1-4b5d-f455-335bae5adb22"
      },
      "execution_count": null,
      "outputs": [
        {
          "output_type": "stream",
          "name": "stdout",
          "text": [
            "my name is krishna and i am  25 years young \n"
          ]
        }
      ]
    },
    {
      "cell_type": "code",
      "source": [
        " # using format() method - not recommended\n",
        "\n",
        "name =\"radha\"\n",
        "age = 21\n",
        "# output: my name is radha and i am 21 years young\n",
        "print(\"My name is {} and i am {} years young\".format(name, age))\n",
        "\n",
        "\n"
      ],
      "metadata": {
        "colab": {
          "base_uri": "https://localhost:8080/"
        },
        "id": "0CPm0tSb4joX",
        "outputId": "cb05ff1c-4901-422d-939b-7d7bb16a65d3"
      },
      "execution_count": null,
      "outputs": [
        {
          "output_type": "stream",
          "name": "stdout",
          "text": [
            "My name is radha and i am 21 years young\n"
          ]
        }
      ]
    },
    {
      "cell_type": "code",
      "source": [
        "# using % operator (oldest method)\n",
        "name =\"arjun\"\n",
        "age = 23\n",
        "print(\"My name is  %s and i am  %d years old\"%(name, age))\n",
        "\n",
        "# %s for strings\n",
        "#%d for integers"
      ],
      "metadata": {
        "colab": {
          "base_uri": "https://localhost:8080/"
        },
        "id": "qhFPlSr55QqU",
        "outputId": "6d67bdc3-ecca-495b-add4-0b65a026960f"
      },
      "execution_count": null,
      "outputs": [
        {
          "output_type": "stream",
          "name": "stdout",
          "text": [
            "My name is  arjun and i am  23 years old\n"
          ]
        }
      ]
    },
    {
      "cell_type": "markdown",
      "source": [
        "# **Lambda function**:\n",
        "\n",
        "a lambda function is a small , anonymous function in python\n",
        "it is used whenyou need a function for short peroid of time and dont want to give it a name"
      ],
      "metadata": {
        "id": "HfFSdLCs6FKC"
      }
    },
    {
      "cell_type": "code",
      "source": [
        "# syntax:\n",
        "\n",
        "lambda agrument : expression"
      ],
      "metadata": {
        "id": "LN-E5Nyg6EWT"
      },
      "execution_count": null,
      "outputs": []
    },
    {
      "cell_type": "code",
      "source": [
        "# add two number\n",
        "def add(a,b):\n",
        "  sum = a+b\n",
        "  return sum\n",
        "\n",
        "\n",
        "add(10,20)"
      ],
      "metadata": {
        "colab": {
          "base_uri": "https://localhost:8080/"
        },
        "id": "92Je18666saW",
        "outputId": "b638fac5-6f75-4284-9a02-cff951c12fda"
      },
      "execution_count": null,
      "outputs": [
        {
          "output_type": "execute_result",
          "data": {
            "text/plain": [
              "30"
            ]
          },
          "metadata": {},
          "execution_count": 97
        }
      ]
    },
    {
      "cell_type": "code",
      "source": [
        "add =lambda a,b : a+b\n",
        "print(add(10,20))"
      ],
      "metadata": {
        "colab": {
          "base_uri": "https://localhost:8080/"
        },
        "id": "w1_WRqNV6zWu",
        "outputId": "739ee696-eba4-4f15-e58b-c14df9fc3cbb"
      },
      "execution_count": null,
      "outputs": [
        {
          "output_type": "stream",
          "name": "stdout",
          "text": [
            "30\n"
          ]
        }
      ]
    },
    {
      "cell_type": "code",
      "source": [
        "# square of a number\n",
        "\n",
        "square = lambda x : x*x\n",
        "print(square(16))"
      ],
      "metadata": {
        "colab": {
          "base_uri": "https://localhost:8080/"
        },
        "id": "CS2LLj1z7DgK",
        "outputId": "54ec08b3-7cf0-4dbe-c180-032331bb8915"
      },
      "execution_count": null,
      "outputs": [
        {
          "output_type": "stream",
          "name": "stdout",
          "text": [
            "256\n"
          ]
        }
      ]
    },
    {
      "cell_type": "code",
      "source": [
        "# check if number is even or not\n",
        "\n",
        "is_even = lambda x : x%2==0\n",
        "print(is_even(9))"
      ],
      "metadata": {
        "colab": {
          "base_uri": "https://localhost:8080/"
        },
        "id": "X24xeIPK7NnB",
        "outputId": "86caae19-2328-4164-f832-d260b273f299"
      },
      "execution_count": null,
      "outputs": [
        {
          "output_type": "stream",
          "name": "stdout",
          "text": [
            "False\n"
          ]
        }
      ]
    },
    {
      "cell_type": "code",
      "source": [
        "# h.w.\n",
        "# s = hello\n",
        "# get the last character of a string using lambda function\n",
        "# sort list of tuple by second element\n",
        "\n",
        "paris = [(1,3), (4,1), (2,2)]\n",
        "# output: [(4,1),(2,2), (1,3)]\n",
        "\n"
      ],
      "metadata": {
        "id": "-bZQvELt7hOl"
      },
      "execution_count": null,
      "outputs": []
    }
  ]
}